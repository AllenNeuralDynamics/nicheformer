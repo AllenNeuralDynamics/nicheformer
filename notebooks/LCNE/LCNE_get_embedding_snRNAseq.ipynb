{
 "cells": [
  {
   "cell_type": "code",
   "execution_count": 1,
   "id": "a567d761-d5da-46e3-a752-915b7561401f",
   "metadata": {},
   "outputs": [],
   "source": [
    "import os\n",
    "import numpy as np\n",
    "import pytorch_lightning as pl\n",
    "import torch\n",
    "from torch.utils.data import DataLoader\n",
    "import anndata as ad\n",
    "from typing import Optional, Dict, Any\n",
    "from tqdm import tqdm\n",
    "\n",
    "from nicheformer.models import Nicheformer\n",
    "from nicheformer.data import NicheformerDataset\n",
    "import anndata as ad"
   ]
  },
  {
   "cell_type": "code",
   "execution_count": 2,
   "id": "7edc48ec-358d-4657-8bae-2c8f58b90fa3",
   "metadata": {},
   "outputs": [],
   "source": [
    "import anndata as ad"
   ]
  },
  {
   "cell_type": "markdown",
   "id": "f9bd1d26-b834-4b6d-9607-c5db7fa660ec",
   "metadata": {},
   "source": [
    "## load nicheformer model "
   ]
  },
  {
   "cell_type": "code",
   "execution_count": 3,
   "id": "a0d77446-cd51-4f07-8d82-67bccd10ba7b",
   "metadata": {},
   "outputs": [
    {
     "data": {
      "text/plain": [
       "'/root/capsule/LC_NE_analayis'"
      ]
     },
     "execution_count": 3,
     "metadata": {},
     "output_type": "execute_result"
    }
   ],
   "source": [
    "os.getcwd()"
   ]
  },
  {
   "cell_type": "code",
   "execution_count": 15,
   "id": "a2278c40-a929-41f2-a426-8ec32ac29a9b",
   "metadata": {},
   "outputs": [],
   "source": [
    "model_path=os.path.join(\"/root/capsule/data/nicheformer_weights/\",\"nicheformer.ckpt\")"
   ]
  },
  {
   "cell_type": "code",
   "execution_count": 13,
   "id": "e0de82e7",
   "metadata": {},
   "outputs": [
    {
     "data": {
      "text/plain": [
       "'/root/capsule/data/nicheformer_weights/nicheformer_weights/nicheformer.ckpt'"
      ]
     },
     "execution_count": 13,
     "metadata": {},
     "output_type": "execute_result"
    }
   ],
   "source": [
    "model_path"
   ]
  },
  {
   "cell_type": "code",
   "execution_count": 7,
   "id": "a7f48413-1087-4ba3-9883-7e0abeeb4347",
   "metadata": {},
   "outputs": [],
   "source": [
    "config = {\n",
    "    'data_path': '/root/capsule/data/LC_NE/adata_sc_pre.h5ad', #'path/to/your/data.h5ad',  # Path to your AnnData file\n",
    "    'technology_mean_path': '/root/capsule/data/model_means/merfish_mean_script.npy', #'path/to/technology_mean.npy',  # Path to technology mean file\n",
    "    'checkpoint_path': '/root/capsule/data/nicheformer_weights/nicheformer.ckpt',  # Path to model checkpoint\n",
    "    'output_path': 'test_data_with_embeddings.h5ad',  # Where to save the result, it is a new h5ad\n",
    "    'output_dir': '/root/capsule/LC_NE_output/',  # Directory for any intermediate outputs\n",
    "    'batch_size': 10,\n",
    "    'max_seq_len': 1500, \n",
    "    'aux_tokens': 30, \n",
    "    'chunk_size': 1000, # to prevent OOM\n",
    "    'num_workers': 4,\n",
    "    'precision': 32,\n",
    "    'embedding_layer': -1,  # Which layer to extract embeddings from (-1 for last layer)\n",
    "    'embedding_name': 'embeddings'  # Name suffix for the embedding key in adata.obsm\n",
    "}"
   ]
  },
  {
   "cell_type": "code",
   "execution_count": 16,
   "id": "eaefd1d8-6c09-4fb8-b488-0922d768dc63",
   "metadata": {},
   "outputs": [
    {
     "name": "stderr",
     "output_type": "stream",
     "text": [
      "/opt/conda/lib/python3.10/site-packages/pytorch_lightning/core/saving.py:191: Found keys that are in the model state dict but not in the checkpoint: ['pos']\n",
      "GPU available: True (cuda), used: True\n",
      "TPU available: False, using: 0 TPU cores\n",
      "HPU available: False, using: 0 HPUs\n",
      "/opt/conda/lib/python3.10/site-packages/pytorch_lightning/trainer/connectors/logger_connector/logger_connector.py:76: Starting from v1.9.0, `tensorboardX` has been removed as a dependency of the `pytorch_lightning` package, due to potential conflicts with other packages in the ML ecosystem. For this reason, `logger=True` will use `CSVLogger` as the default logger, unless the `tensorboard` or `tensorboardX` packages are found. Please `pip install lightning[extra]` or one of them to enable TensorBoard support by default\n"
     ]
    }
   ],
   "source": [
    "model = Nicheformer.load_from_checkpoint(model_path, strict=False)\n",
    "model.eval()  # Set to evaluation mode\n",
    "\n",
    "# Configure trainer\n",
    "trainer = pl.Trainer(\n",
    "    accelerator='gpu' if torch.cuda.is_available() else 'cpu',\n",
    "    devices=1,\n",
    "    default_root_dir=config['output_dir'],\n",
    "    precision=config.get('precision', 32),\n",
    ")"
   ]
  },
  {
   "cell_type": "code",
   "execution_count": 17,
   "id": "ccd9c426-7422-430d-bd90-d8f1dcc961ed",
   "metadata": {},
   "outputs": [
    {
     "data": {
      "text/plain": [
       "'/root/capsule/data/LC_NE/adata_sc_pre.h5ad'"
      ]
     },
     "execution_count": 17,
     "metadata": {},
     "output_type": "execute_result"
    }
   ],
   "source": [
    "config['data_path']"
   ]
  },
  {
   "cell_type": "code",
   "execution_count": 18,
   "id": "1a7187ff-afb5-4c62-9aa9-305b6d5bc393",
   "metadata": {},
   "outputs": [],
   "source": [
    "adata_0 = ad.read_h5ad(config['data_path'])\n",
    "technology_mean=np.load(config['technology_mean_path'])\n",
    "adata_orig = adata_0.copy()"
   ]
  },
  {
   "cell_type": "code",
   "execution_count": 19,
   "id": "32b97583-6d12-45ca-bbad-152e769bb01a",
   "metadata": {},
   "outputs": [
    {
     "data": {
      "text/plain": [
       "((24343,), (24343,))"
      ]
     },
     "execution_count": 19,
     "metadata": {},
     "output_type": "execute_result"
    }
   ],
   "source": [
    "adata_orig.var.index.shape,np.unique(list(adata_orig.var.index)).shape"
   ]
  },
  {
   "cell_type": "code",
   "execution_count": 20,
   "id": "c620cd48-a0a1-45a1-a68f-a72d67a2189d",
   "metadata": {},
   "outputs": [],
   "source": [
    "from nicheformer.data.constants import ObsConstants"
   ]
  },
  {
   "cell_type": "code",
   "execution_count": 21,
   "id": "da656175-3744-4483-9646-38c5120b5134",
   "metadata": {},
   "outputs": [],
   "source": [
    "adata_0.obs[ObsConstants.DATASET] = adata_0.uns['title']\n",
    "adata_0.obs[ObsConstants.SPLIT] = 'train'\n",
    "adata_0.obs[ObsConstants.NICHE] = 'nan'\n",
    "adata_0.obs[ObsConstants.REGION] = 'nan'\n"
   ]
  },
  {
   "cell_type": "markdown",
   "id": "ed8a882c-900d-4f38-a10c-8890939aa61d",
   "metadata": {},
   "source": [
    "# chnage orthologus genes"
   ]
  },
  {
   "cell_type": "code",
   "execution_count": 22,
   "id": "1a66fef4-07a9-4c57-b02b-4214c8dc9360",
   "metadata": {},
   "outputs": [],
   "source": [
    "import pandas as pd"
   ]
  },
  {
   "cell_type": "code",
   "execution_count": 23,
   "id": "7b20392e-d968-4f65-a0c1-8af84a8469ec",
   "metadata": {},
   "outputs": [],
   "source": [
    "path_to_orthologus_csv = '/root/capsule/data/LC_NE/mouse_to_human.csv'\n",
    "orthologus_csv = pd.read_csv(path_to_orthologus_csv)"
   ]
  },
  {
   "cell_type": "code",
   "execution_count": 24,
   "id": "357bcff8-61b5-4fce-a083-0c4ac89fdffa",
   "metadata": {},
   "outputs": [
    {
     "data": {
      "text/html": [
       "<div>\n",
       "<style scoped>\n",
       "    .dataframe tbody tr th:only-of-type {\n",
       "        vertical-align: middle;\n",
       "    }\n",
       "\n",
       "    .dataframe tbody tr th {\n",
       "        vertical-align: top;\n",
       "    }\n",
       "\n",
       "    .dataframe thead th {\n",
       "        text-align: right;\n",
       "    }\n",
       "</style>\n",
       "<table border=\"1\" class=\"dataframe\">\n",
       "  <thead>\n",
       "    <tr style=\"text-align: right;\">\n",
       "      <th></th>\n",
       "      <th>Unnamed: 0</th>\n",
       "      <th>ensembl_gene_id</th>\n",
       "      <th>hsapiens_homolog_ensembl_gene</th>\n",
       "    </tr>\n",
       "  </thead>\n",
       "  <tbody>\n",
       "    <tr>\n",
       "      <th>5</th>\n",
       "      <td>5</td>\n",
       "      <td>ENSMUSG00000064341</td>\n",
       "      <td>ENSG00000198888</td>\n",
       "    </tr>\n",
       "    <tr>\n",
       "      <th>9</th>\n",
       "      <td>9</td>\n",
       "      <td>ENSMUSG00000064345</td>\n",
       "      <td>ENSG00000198763</td>\n",
       "    </tr>\n",
       "    <tr>\n",
       "      <th>15</th>\n",
       "      <td>15</td>\n",
       "      <td>ENSMUSG00000064351</td>\n",
       "      <td>ENSG00000198804</td>\n",
       "    </tr>\n",
       "    <tr>\n",
       "      <th>18</th>\n",
       "      <td>18</td>\n",
       "      <td>ENSMUSG00000064354</td>\n",
       "      <td>ENSG00000198712</td>\n",
       "    </tr>\n",
       "    <tr>\n",
       "      <th>20</th>\n",
       "      <td>20</td>\n",
       "      <td>ENSMUSG00000064356</td>\n",
       "      <td>ENSG00000228253</td>\n",
       "    </tr>\n",
       "    <tr>\n",
       "      <th>...</th>\n",
       "      <td>...</td>\n",
       "      <td>...</td>\n",
       "      <td>...</td>\n",
       "    </tr>\n",
       "    <tr>\n",
       "      <th>83509</th>\n",
       "      <td>83509</td>\n",
       "      <td>ENSMUSG00000108908</td>\n",
       "      <td>ENSG00000186092</td>\n",
       "    </tr>\n",
       "    <tr>\n",
       "      <th>83510</th>\n",
       "      <td>83510</td>\n",
       "      <td>ENSMUSG00000108908</td>\n",
       "      <td>ENSG00000176695</td>\n",
       "    </tr>\n",
       "    <tr>\n",
       "      <th>83517</th>\n",
       "      <td>83517</td>\n",
       "      <td>ENSMUSG00000026679</td>\n",
       "      <td>ENSG00000151023</td>\n",
       "    </tr>\n",
       "    <tr>\n",
       "      <th>83518</th>\n",
       "      <td>83518</td>\n",
       "      <td>ENSMUSG00002076042</td>\n",
       "      <td>ENSG00000252396</td>\n",
       "    </tr>\n",
       "    <tr>\n",
       "      <th>83519</th>\n",
       "      <td>83519</td>\n",
       "      <td>ENSMUSG00000048550</td>\n",
       "      <td>ENSG00000185875</td>\n",
       "    </tr>\n",
       "  </tbody>\n",
       "</table>\n",
       "<p>25768 rows × 3 columns</p>\n",
       "</div>"
      ],
      "text/plain": [
       "       Unnamed: 0     ensembl_gene_id hsapiens_homolog_ensembl_gene\n",
       "5               5  ENSMUSG00000064341               ENSG00000198888\n",
       "9               9  ENSMUSG00000064345               ENSG00000198763\n",
       "15             15  ENSMUSG00000064351               ENSG00000198804\n",
       "18             18  ENSMUSG00000064354               ENSG00000198712\n",
       "20             20  ENSMUSG00000064356               ENSG00000228253\n",
       "...           ...                 ...                           ...\n",
       "83509       83509  ENSMUSG00000108908               ENSG00000186092\n",
       "83510       83510  ENSMUSG00000108908               ENSG00000176695\n",
       "83517       83517  ENSMUSG00000026679               ENSG00000151023\n",
       "83518       83518  ENSMUSG00002076042               ENSG00000252396\n",
       "83519       83519  ENSMUSG00000048550               ENSG00000185875\n",
       "\n",
       "[25768 rows x 3 columns]"
      ]
     },
     "execution_count": 24,
     "metadata": {},
     "output_type": "execute_result"
    }
   ],
   "source": [
    "orthologus_csv = orthologus_csv[orthologus_csv.hsapiens_homolog_ensembl_gene.notna()]\n",
    "orthologus_csv"
   ]
  },
  {
   "cell_type": "code",
   "execution_count": 25,
   "id": "b23c9a26-3a4e-4a0e-af3a-e4322283d46d",
   "metadata": {},
   "outputs": [],
   "source": [
    "foo = dict(zip(orthologus_csv.ensembl_gene_id, orthologus_csv.hsapiens_homolog_ensembl_gene))"
   ]
  },
  {
   "cell_type": "code",
   "execution_count": 26,
   "id": "6f505f18-c6d9-47a5-8e8e-f259856dd7f2",
   "metadata": {},
   "outputs": [],
   "source": [
    "adata_0.var=adata_0.var.rename(index=foo)"
   ]
  },
  {
   "cell_type": "code",
   "execution_count": 27,
   "id": "f3c190da-75ca-4c3c-bd45-cb5b57661553",
   "metadata": {},
   "outputs": [],
   "source": [
    "technology_mean=np.load(config['technology_mean_path'])"
   ]
  },
  {
   "cell_type": "code",
   "execution_count": 28,
   "id": "b282f9e1-9b62-4e68-ab63-700d1611f50d",
   "metadata": {},
   "outputs": [
    {
     "data": {
      "text/plain": [
       "(20310,)"
      ]
     },
     "execution_count": 28,
     "metadata": {},
     "output_type": "execute_result"
    }
   ],
   "source": [
    "technology_mean.shape"
   ]
  },
  {
   "cell_type": "code",
   "execution_count": 29,
   "id": "e7168e3a-aa4f-4964-b017-51783d6de79d",
   "metadata": {},
   "outputs": [],
   "source": [
    "model = ad.read_h5ad('/root/capsule/data/model_means/model.h5ad')"
   ]
  },
  {
   "cell_type": "code",
   "execution_count": 30,
   "id": "142ce605-632d-41f9-91ab-7e1fab50a159",
   "metadata": {},
   "outputs": [
    {
     "data": {
      "text/plain": [
       "((24343,), (23911,))"
      ]
     },
     "execution_count": 30,
     "metadata": {},
     "output_type": "execute_result"
    }
   ],
   "source": [
    "adata_0.var.index.shape,np.unique(list(adata_0.var.index)).shape"
   ]
  },
  {
   "cell_type": "code",
   "execution_count": 32,
   "id": "bc0eddc7-8162-4216-bb92-0be65a4ec1fa",
   "metadata": {},
   "outputs": [],
   "source": [
    "dup_indx = ~adata_0.var.index.duplicated(keep='first')\n",
    "#adata_0.var = adata_0.var[dup_indx]\n",
    "adata_0 = adata_0[:,dup_indx]"
   ]
  },
  {
   "cell_type": "code",
   "execution_count": 33,
   "id": "023ad133-b375-46d5-b457-f47e29559d25",
   "metadata": {},
   "outputs": [
    {
     "data": {
      "text/plain": [
       "((23911, 13), (23911,))"
      ]
     },
     "execution_count": 33,
     "metadata": {},
     "output_type": "execute_result"
    }
   ],
   "source": [
    "adata_0.var.shape, np.unique(list(adata_0.var.index)).shape"
   ]
  },
  {
   "cell_type": "code",
   "execution_count": 34,
   "id": "6821e184-c864-4f61-a66f-37ecb6e16a46",
   "metadata": {
    "scrolled": true
   },
   "outputs": [],
   "source": [
    "keep_genes = [m in set(model.var.index) for m in adata_0.var.index]"
   ]
  },
  {
   "cell_type": "code",
   "execution_count": 35,
   "id": "a4bbea13-c531-4dbc-8f86-6727258c1bc4",
   "metadata": {},
   "outputs": [],
   "source": [
    "adata_0 = adata_0[:, keep_genes]"
   ]
  },
  {
   "cell_type": "code",
   "execution_count": 36,
   "id": "0a5afc0e-186f-4b57-b569-2453e15bc8da",
   "metadata": {},
   "outputs": [
    {
     "data": {
      "text/plain": [
       "(5040, 15661)"
      ]
     },
     "execution_count": 36,
     "metadata": {},
     "output_type": "execute_result"
    }
   ],
   "source": [
    "adata_0.shape"
   ]
  },
  {
   "cell_type": "code",
   "execution_count": 37,
   "id": "3fc45fe1-f180-4256-8867-511a25067cde",
   "metadata": {},
   "outputs": [],
   "source": [
    "adata = ad.concat([model, adata_0], join='outer', axis=0)\n",
    "# dropping the first observation \n",
    "adata = adata[1:].copy()"
   ]
  },
  {
   "cell_type": "code",
   "execution_count": 38,
   "id": "dcc7438f-3cae-43c0-b3e0-38531e35705f",
   "metadata": {},
   "outputs": [
    {
     "data": {
      "text/plain": [
       "(5040, 20310)"
      ]
     },
     "execution_count": 38,
     "metadata": {},
     "output_type": "execute_result"
    }
   ],
   "source": [
    "adata.shape"
   ]
  },
  {
   "cell_type": "code",
   "execution_count": 39,
   "id": "6120fc09-03bf-4ce5-896b-c5a459b55cd0",
   "metadata": {},
   "outputs": [
    {
     "name": "stderr",
     "output_type": "stream",
     "text": [
      "100%|██████████| 6/6 [00:10<00:00,  1.83s/it]\n"
     ]
    }
   ],
   "source": [
    "# Create dataset\n",
    "dataset = NicheformerDataset(\n",
    "    adata=adata,\n",
    "    technology_mean=technology_mean,\n",
    "    split='train',\n",
    "    max_seq_len=1500,\n",
    "    aux_tokens=config.get('aux_tokens', 30),\n",
    "    chunk_size=config.get('chunk_size', 1000)\n",
    ")"
   ]
  },
  {
   "cell_type": "code",
   "execution_count": 40,
   "id": "6caa18af-29a1-4e7e-ab52-7b8df5718e4d",
   "metadata": {},
   "outputs": [],
   "source": [
    "\n",
    "\n",
    "# Create dataloader\n",
    "dataloader = DataLoader(\n",
    "    dataset,\n",
    "    batch_size=config['batch_size'],\n",
    "    shuffle=False,\n",
    "    num_workers=config.get('num_workers', 4),\n",
    "    pin_memory=True\n",
    ")"
   ]
  },
  {
   "cell_type": "code",
   "execution_count": 41,
   "id": "ad9f3e23-2bb3-425a-a72e-6aef26656c7c",
   "metadata": {},
   "outputs": [
    {
     "data": {
      "text/plain": [
       "<torch.utils.data.dataloader.DataLoader at 0x7fb4914faad0>"
      ]
     },
     "execution_count": 41,
     "metadata": {},
     "output_type": "execute_result"
    }
   ],
   "source": [
    "dataloader"
   ]
  },
  {
   "cell_type": "code",
   "execution_count": 42,
   "id": "6dd78f11-4351-4aa9-8df6-c8008242ac4c",
   "metadata": {},
   "outputs": [
    {
     "name": "stderr",
     "output_type": "stream",
     "text": [
      "GPU available: True (cuda), used: True\n",
      "TPU available: False, using: 0 TPU cores\n",
      "HPU available: False, using: 0 HPUs\n"
     ]
    }
   ],
   "source": [
    "trainer = pl.Trainer(\n",
    "    accelerator='gpu' if torch.cuda.is_available() else 'cpu',\n",
    "    devices=1,\n",
    "    default_root_dir=config['output_dir'],\n",
    "    precision=config.get('precision', 32),\n",
    ")"
   ]
  },
  {
   "cell_type": "code",
   "execution_count": 44,
   "id": "b42ec885-f3e2-42ad-8cd7-6d2d7514ded9",
   "metadata": {},
   "outputs": [
    {
     "name": "stderr",
     "output_type": "stream",
     "text": [
      "GPU available: True (cuda), used: True\n",
      "TPU available: False, using: 0 TPU cores\n",
      "HPU available: False, using: 0 HPUs\n"
     ]
    }
   ],
   "source": [
    "Niche_model = Nicheformer.load_from_checkpoint(model_path, strict=False)\n",
    "Niche_model.eval()  # Set to evaluation mode\n",
    "\n",
    "# Configure trainer\n",
    "trainer = pl.Trainer(\n",
    "    accelerator='gpu' if torch.cuda.is_available() else 'cpu',\n",
    "    devices=1,\n",
    "    default_root_dir=config['output_dir'],\n",
    "    precision=config.get('precision', 32),\n",
    ")"
   ]
  },
  {
   "cell_type": "code",
   "execution_count": 45,
   "id": "8824ac80-82de-4af1-91e6-2788ab40f830",
   "metadata": {},
   "outputs": [
    {
     "name": "stdout",
     "output_type": "stream",
     "text": [
      "Extracting embeddings...\n"
     ]
    },
    {
     "name": "stderr",
     "output_type": "stream",
     "text": [
      " 59%|█████▉    | 297/504 [04:58<03:28,  1.01s/it]\n"
     ]
    },
    {
     "ename": "KeyboardInterrupt",
     "evalue": "",
     "output_type": "error",
     "traceback": [
      "\u001b[0;31m---------------------------------------------------------------------------\u001b[0m",
      "\u001b[0;31mKeyboardInterrupt\u001b[0m                         Traceback (most recent call last)",
      "Cell \u001b[0;32mIn[45], line 16\u001b[0m\n\u001b[1;32m     11\u001b[0m         \u001b[38;5;66;03m# Get embeddings from the model\u001b[39;00m\n\u001b[1;32m     12\u001b[0m         emb \u001b[38;5;241m=\u001b[39m Niche_model\u001b[38;5;241m.\u001b[39mget_embeddings(\n\u001b[1;32m     13\u001b[0m             batch\u001b[38;5;241m=\u001b[39mbatch,\n\u001b[1;32m     14\u001b[0m             layer\u001b[38;5;241m=\u001b[39mconfig\u001b[38;5;241m.\u001b[39mget(\u001b[38;5;124m'\u001b[39m\u001b[38;5;124membedding_layer\u001b[39m\u001b[38;5;124m'\u001b[39m, \u001b[38;5;241m-\u001b[39m\u001b[38;5;241m1\u001b[39m)  \u001b[38;5;66;03m# Default to last layer\u001b[39;00m\n\u001b[1;32m     15\u001b[0m         )\n\u001b[0;32m---> 16\u001b[0m         embeddings\u001b[38;5;241m.\u001b[39mappend(\u001b[43memb\u001b[49m\u001b[38;5;241;43m.\u001b[39;49m\u001b[43mcpu\u001b[49m\u001b[43m(\u001b[49m\u001b[43m)\u001b[49m\u001b[38;5;241m.\u001b[39mnumpy())\n\u001b[1;32m     19\u001b[0m \u001b[38;5;66;03m# Concatenate all embeddings\u001b[39;00m\n\u001b[1;32m     20\u001b[0m embeddings \u001b[38;5;241m=\u001b[39m np\u001b[38;5;241m.\u001b[39mconcatenate(embeddings, axis\u001b[38;5;241m=\u001b[39m\u001b[38;5;241m0\u001b[39m)\n",
      "\u001b[0;31mKeyboardInterrupt\u001b[0m: "
     ]
    }
   ],
   "source": [
    "print(\"Extracting embeddings...\")\n",
    "embeddings = []\n",
    "device = Niche_model.embeddings.weight.device\n",
    "\n",
    "with torch.no_grad():\n",
    "    for batch in tqdm(dataloader):\n",
    "        # Move batch to device\n",
    "        batch = {k: v.to(device) if isinstance(v, torch.Tensor) else v\n",
    "                for k, v in batch.items()}\n",
    "\n",
    "        # Get embeddings from the model\n",
    "        emb = Niche_model.get_embeddings(\n",
    "            batch=batch,\n",
    "            layer=config.get('embedding_layer', -1)  # Default to last layer\n",
    "        )\n",
    "        embeddings.append(emb.cpu().numpy())\n",
    "\n",
    "\n",
    "# Concatenate all embeddings\n",
    "embeddings = np.concatenate(embeddings, axis=0)"
   ]
  },
  {
   "cell_type": "code",
   "execution_count": null,
   "id": "15e76ffd",
   "metadata": {},
   "outputs": [],
   "source": []
  },
  {
   "cell_type": "code",
   "execution_count": null,
   "id": "b7766687",
   "metadata": {},
   "outputs": [],
   "source": []
  },
  {
   "cell_type": "code",
   "execution_count": 339,
   "id": "79d86ab7-98de-4539-b0b4-7d852c957232",
   "metadata": {},
   "outputs": [],
   "source": [
    "adata.obsm['nicheformer'] = embeddings\n",
    "\n",
    "adata.write_h5ad('/home/ec2-user/SageMaker/output_dir/adata_sc_embedded.h5ad')"
   ]
  },
  {
   "cell_type": "code",
   "execution_count": null,
   "id": "4c9bdbdf-d8be-4af6-8665-a6163f288600",
   "metadata": {},
   "outputs": [],
   "source": []
  },
  {
   "cell_type": "code",
   "execution_count": null,
   "id": "bcdcabde-331e-47bf-bff0-709a27470607",
   "metadata": {},
   "outputs": [],
   "source": []
  },
  {
   "cell_type": "code",
   "execution_count": null,
   "id": "39057779-5aa7-437a-8289-10bfbd56d347",
   "metadata": {},
   "outputs": [],
   "source": []
  },
  {
   "cell_type": "code",
   "execution_count": null,
   "id": "71d8f0ac-a991-4928-8244-0e710649acb5",
   "metadata": {},
   "outputs": [],
   "source": []
  },
  {
   "cell_type": "code",
   "execution_count": null,
   "id": "d580eb2c-57f7-415c-ab30-d22807bc6532",
   "metadata": {},
   "outputs": [],
   "source": []
  },
  {
   "cell_type": "code",
   "execution_count": null,
   "id": "f087051c-ab1d-48f7-b257-c90ac1c0dbdd",
   "metadata": {},
   "outputs": [],
   "source": []
  },
  {
   "cell_type": "code",
   "execution_count": null,
   "id": "b55ba290-67ef-4a56-9a9c-c2617adac779",
   "metadata": {},
   "outputs": [],
   "source": []
  },
  {
   "cell_type": "code",
   "execution_count": null,
   "id": "c566c436-3ab4-42b2-9c37-fbd4e11db675",
   "metadata": {},
   "outputs": [],
   "source": []
  },
  {
   "cell_type": "code",
   "execution_count": null,
   "id": "07386735-c85d-48bb-8b26-d995c7cc9cfc",
   "metadata": {},
   "outputs": [],
   "source": []
  }
 ],
 "metadata": {
  "kernelspec": {
   "display_name": "Python 3 (ipykernel)",
   "language": "python",
   "name": "python3"
  },
  "language_info": {
   "codemirror_mode": {
    "name": "ipython",
    "version": 3
   },
   "file_extension": ".py",
   "mimetype": "text/x-python",
   "name": "python",
   "nbconvert_exporter": "python",
   "pygments_lexer": "ipython3",
   "version": "3.10.9"
  }
 },
 "nbformat": 4,
 "nbformat_minor": 5
}
