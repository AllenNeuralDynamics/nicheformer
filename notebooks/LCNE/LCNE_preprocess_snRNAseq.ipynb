{
 "cells": [
  {
   "cell_type": "code",
   "execution_count": 3,
   "id": "163a164a-c574-42b0-8c78-ab69944fb722",
   "metadata": {},
   "outputs": [
    {
     "name": "stdout",
     "output_type": "stream",
     "text": [
      "The autoreload extension is already loaded. To reload it, use:\n",
      "  %reload_ext autoreload\n"
     ]
    }
   ],
   "source": [
    "%load_ext autoreload\n",
    "%autoreload 2"
   ]
  },
  {
   "cell_type": "code",
   "execution_count": 4,
   "id": "bfda9c5e-ccf3-4734-9fdb-672c795a00fc",
   "metadata": {},
   "outputs": [],
   "source": [
    "\n",
    "from nicheformer.data.constants import DefaultPaths, ObsConstants, UnsConstants, VarConstants, AssayOntologyTermId, SexOntologyTermId, OrganismOntologyTermId, TissueOntologyTermId, SuspensionTypeId\n",
    "from nicheformer.data.tools import qc_filter\n",
    "from nicheformer.data.validate import validate\n",
    "from nicheformer.data.download import download_tar\n",
    "from nicheformer.data.constants import GeneExpressionOmnibus, DefaultPaths\n",
    "import numpy as np\n",
    "from pyensembl import EnsemblRelease"
   ]
  },
  {
   "cell_type": "code",
   "execution_count": 5,
   "id": "51ad0e71",
   "metadata": {},
   "outputs": [],
   "source": [
    "import anndata\n",
    "import os \n",
    "import sys\n",
    "import pandas as pd\n",
    "import scanpy as sc\n",
    "from tqdm import tqdm\n"
   ]
  },
  {
   "cell_type": "code",
   "execution_count": 6,
   "id": "04d26c7a",
   "metadata": {},
   "outputs": [
    {
     "name": "stdout",
     "output_type": "stream",
     "text": [
      "/root/capsule/LC_NE_analayis\r\n"
     ]
    }
   ],
   "source": [
    "!pwd"
   ]
  },
  {
   "cell_type": "code",
   "execution_count": 7,
   "id": "b9fe325a-be52-47ee-ae3c-d20e90e0d754",
   "metadata": {},
   "outputs": [],
   "source": [
    "raw_path = \"/root/capsule/data/LC_NE/\"\n",
    "preprocessed_path = \"/root/capsule/LC_NE_output/\""
   ]
  },
  {
   "cell_type": "code",
   "execution_count": 12,
   "id": "44e2e083-a079-468b-898a-4dccbd790d29",
   "metadata": {},
   "outputs": [],
   "source": [
    "assay = str(AssayOntologyTermId.TENX_3.value) # 10x v3\n",
    "organism = str(OrganismOntologyTermId.MOUSE.value) # mouse!\n",
    "organism_validator = \"mouse\" # validaete!\n",
    "tissue_type = \"tissue\" # or alternatively \"organoid\"\n",
    "condition_id = \"wild type\" "
   ]
  },
  {
   "cell_type": "code",
   "execution_count": 13,
   "id": "3812e214-79f2-4a78-8537-670d6e007548",
   "metadata": {},
   "outputs": [],
   "source": [
    "tissue = str(TissueOntologyTermId.BRAIN.value) # brain!\n",
    "suspension_type = str(SuspensionTypeId.TENX_NUCLEUS.value)  # 10x nucleus!\n",
    "sex_f = str(SexOntologyTermId.FEMALE.value)  # female! \n",
    "sex_m = str(SexOntologyTermId.MALE.value)   #male"
   ]
  },
  {
   "cell_type": "code",
   "execution_count": 14,
   "id": "a5d2afb4-5a6a-49f3-ab76-5e40572ba291",
   "metadata": {
    "scrolled": true
   },
   "outputs": [
    {
     "data": {
      "text/plain": [
       "'/root/capsule/data/LC_NE/adata_sc.h5ad'"
      ]
     },
     "execution_count": 14,
     "metadata": {},
     "output_type": "execute_result"
    }
   ],
   "source": [
    "filename = raw_path + 'adata_sc.h5ad'\n",
    "filename"
   ]
  },
  {
   "cell_type": "markdown",
   "id": "73ef6e48-8377-41c1-97d6-034e12fa1306",
   "metadata": {},
   "source": [
    "# load data!!!!"
   ]
  },
  {
   "cell_type": "code",
   "execution_count": 15,
   "id": "c1781eb5-50ff-4715-a956-d3f8d212583b",
   "metadata": {},
   "outputs": [
    {
     "data": {
      "text/html": [
       "<div>\n",
       "<style scoped>\n",
       "    .dataframe tbody tr th:only-of-type {\n",
       "        vertical-align: middle;\n",
       "    }\n",
       "\n",
       "    .dataframe tbody tr th {\n",
       "        vertical-align: top;\n",
       "    }\n",
       "\n",
       "    .dataframe thead th {\n",
       "        text-align: right;\n",
       "    }\n",
       "</style>\n",
       "<table border=\"1\" class=\"dataframe\">\n",
       "  <thead>\n",
       "    <tr style=\"text-align: right;\">\n",
       "      <th></th>\n",
       "      <th>nCount_RNA</th>\n",
       "      <th>nFeature_RNA</th>\n",
       "      <th>sample_id</th>\n",
       "    </tr>\n",
       "  </thead>\n",
       "  <tbody>\n",
       "    <tr>\n",
       "      <th>AAGCCCCGTTCGTGCA-L8TX_240808_02_A05-NW-TX4122-4</th>\n",
       "      <td>82490.0</td>\n",
       "      <td>9352</td>\n",
       "      <td>AAGCCCCGTTCGTGCA-L8TX_240808_02_A05-NW-TX4122-4</td>\n",
       "    </tr>\n",
       "    <tr>\n",
       "      <th>AAGCTAAAGCTGGTTA-L8TX_240808_02_A05-NW-TX4122-4</th>\n",
       "      <td>54470.0</td>\n",
       "      <td>8115</td>\n",
       "      <td>AAGCTAAAGCTGGTTA-L8TX_240808_02_A05-NW-TX4122-4</td>\n",
       "    </tr>\n",
       "    <tr>\n",
       "      <th>AATCGAGGTTGACTGT-L8TX_240808_02_A05-NW-TX4122-4</th>\n",
       "      <td>51946.0</td>\n",
       "      <td>8066</td>\n",
       "      <td>AATCGAGGTTGACTGT-L8TX_240808_02_A05-NW-TX4122-4</td>\n",
       "    </tr>\n",
       "    <tr>\n",
       "      <th>AATCGCATCGATTGCA-L8TX_240808_02_A05-NW-TX4122-4</th>\n",
       "      <td>65250.0</td>\n",
       "      <td>8595</td>\n",
       "      <td>AATCGCATCGATTGCA-L8TX_240808_02_A05-NW-TX4122-4</td>\n",
       "    </tr>\n",
       "    <tr>\n",
       "      <th>AATGGCTCATGGTATA-L8TX_240808_02_A05-NW-TX4122-4</th>\n",
       "      <td>95637.0</td>\n",
       "      <td>9609</td>\n",
       "      <td>AATGGCTCATGGTATA-L8TX_240808_02_A05-NW-TX4122-4</td>\n",
       "    </tr>\n",
       "  </tbody>\n",
       "</table>\n",
       "</div>"
      ],
      "text/plain": [
       "                                                 nCount_RNA  nFeature_RNA  \\\n",
       "AAGCCCCGTTCGTGCA-L8TX_240808_02_A05-NW-TX4122-4     82490.0          9352   \n",
       "AAGCTAAAGCTGGTTA-L8TX_240808_02_A05-NW-TX4122-4     54470.0          8115   \n",
       "AATCGAGGTTGACTGT-L8TX_240808_02_A05-NW-TX4122-4     51946.0          8066   \n",
       "AATCGCATCGATTGCA-L8TX_240808_02_A05-NW-TX4122-4     65250.0          8595   \n",
       "AATGGCTCATGGTATA-L8TX_240808_02_A05-NW-TX4122-4     95637.0          9609   \n",
       "\n",
       "                                                                                       sample_id  \n",
       "AAGCCCCGTTCGTGCA-L8TX_240808_02_A05-NW-TX4122-4  AAGCCCCGTTCGTGCA-L8TX_240808_02_A05-NW-TX4122-4  \n",
       "AAGCTAAAGCTGGTTA-L8TX_240808_02_A05-NW-TX4122-4  AAGCTAAAGCTGGTTA-L8TX_240808_02_A05-NW-TX4122-4  \n",
       "AATCGAGGTTGACTGT-L8TX_240808_02_A05-NW-TX4122-4  AATCGAGGTTGACTGT-L8TX_240808_02_A05-NW-TX4122-4  \n",
       "AATCGCATCGATTGCA-L8TX_240808_02_A05-NW-TX4122-4  AATCGCATCGATTGCA-L8TX_240808_02_A05-NW-TX4122-4  \n",
       "AATGGCTCATGGTATA-L8TX_240808_02_A05-NW-TX4122-4  AATGGCTCATGGTATA-L8TX_240808_02_A05-NW-TX4122-4  "
      ]
     },
     "execution_count": 15,
     "metadata": {},
     "output_type": "execute_result"
    }
   ],
   "source": [
    "filename = raw_path + 'adata_sc.h5ad'\n",
    "adata = sc.read_h5ad(filename)\n",
    "genderinfo = pd.Categorical(adata.obs['sex'].replace({'M': sex_m, 'F': sex_f}))\n",
    "adata.obs = adata.obs.iloc[:,:3]\n",
    "adata.obs.head()"
   ]
  },
  {
   "cell_type": "code",
   "execution_count": null,
   "id": "b2e0a165",
   "metadata": {},
   "outputs": [],
   "source": []
  },
  {
   "cell_type": "code",
   "execution_count": 17,
   "id": "8b37422e-b96e-4225-801e-101bd984c38b",
   "metadata": {},
   "outputs": [],
   "source": [
    "def ensem_for_adata(adata):         \n",
    "    data = EnsemblRelease(104, species='mus_musculus')    \n",
    "    data.index()\n",
    "    new_names = []\n",
    "    all_invalid_names = []\n",
    "    counter = 0\n",
    "    for i,m in enumerate(adata.var_names):\n",
    "        try:\n",
    "            out=data.genes_by_name(m)[0].id\n",
    "            new_names.append(out)\n",
    "        except:# Exception as e:  \n",
    "            # # print(e)\n",
    "            # try:\n",
    "            #     m1 = m.split(' ')[0]\n",
    "            #     out=data.genes_by_name(m1)[0].id\n",
    "            #     new_names.append(out)\n",
    "            # except:# Exception as e:\n",
    "                # print(e)\n",
    "            counter += 1\n",
    "            new_names.append(f'NA_{counter}')        \n",
    "            all_invalid_names.append(m)\n",
    "    print(f'total invalid {counter}, from {len(adata.var_names)} {100*counter/len(adata.var_names)} %')    \n",
    "    adata_1 = adata.copy()    \n",
    "    adata_1.var.index = (new_names)    \n",
    "    adata_1 = adata_1[:,adata_1.var.index != 'NA']\n",
    "    \n",
    "    print(f'new data size {adata_1.shape}')\n",
    "    return(adata_1,all_invalid_names)"
   ]
  },
  {
   "cell_type": "code",
   "execution_count": 19,
   "id": "124ae4c4-65ec-4c2a-bdfb-a7b750351e3d",
   "metadata": {},
   "outputs": [
    {
     "name": "stderr",
     "output_type": "stream",
     "text": [
      "INFO:pyensembl.download_cache:Fetching /root/.cache/pyensembl/GRCm39/ensembl104/Mus_musculus.GRCm39.cdna.all.fa.gz from URL https://ftp.ensembl.org/pub/release-104/fasta/mus_musculus/cdna/Mus_musculus.GRCm39.cdna.all.fa.gz\n",
      "INFO:datacache.download:Downloading https://ftp.ensembl.org/pub/release-104/fasta/mus_musculus/cdna/Mus_musculus.GRCm39.cdna.all.fa.gz to /root/.cache/pyensembl/GRCm39/ensembl104/Mus_musculus.GRCm39.cdna.all.fa.gz\n",
      "INFO:pyensembl.download_cache:Fetching /root/.cache/pyensembl/GRCm39/ensembl104/Mus_musculus.GRCm39.ncrna.fa.gz from URL https://ftp.ensembl.org/pub/release-104/fasta/mus_musculus/ncrna/Mus_musculus.GRCm39.ncrna.fa.gz\n",
      "INFO:datacache.download:Downloading https://ftp.ensembl.org/pub/release-104/fasta/mus_musculus/ncrna/Mus_musculus.GRCm39.ncrna.fa.gz to /root/.cache/pyensembl/GRCm39/ensembl104/Mus_musculus.GRCm39.ncrna.fa.gz\n",
      "INFO:pyensembl.download_cache:Fetching /root/.cache/pyensembl/GRCm39/ensembl104/Mus_musculus.GRCm39.pep.all.fa.gz from URL https://ftp.ensembl.org/pub/release-104/fasta/mus_musculus/pep/Mus_musculus.GRCm39.pep.all.fa.gz\n",
      "INFO:datacache.download:Downloading https://ftp.ensembl.org/pub/release-104/fasta/mus_musculus/pep/Mus_musculus.GRCm39.pep.all.fa.gz to /root/.cache/pyensembl/GRCm39/ensembl104/Mus_musculus.GRCm39.pep.all.fa.gz\n",
      "INFO:pyensembl.database:Creating database: /root/.cache/pyensembl/GRCm39/ensembl104/Mus_musculus.GRCm39.104.gtf.db\n",
      "INFO:pyensembl.database:Reading GTF from /root/.cache/pyensembl/GRCm39/ensembl104/Mus_musculus.GRCm39.104.gtf.gz\n",
      "INFO:root:Extracted GTF attributes: ['gene_id', 'gene_version', 'gene_name', 'gene_source', 'gene_biotype', 'transcript_id', 'transcript_version', 'transcript_name', 'transcript_source', 'transcript_biotype', 'tag', 'transcript_support_level', 'exon_number', 'exon_id', 'exon_version', 'protein_id', 'protein_version', 'ccds_id']\n",
      "INFO:datacache.database_helpers:Creating database /root/.cache/pyensembl/GRCm39/ensembl104/Mus_musculus.GRCm39.104.gtf.db containing: start_codon, CDS, stop_codon, transcript, gene, exon\n",
      "INFO:datacache.database:Running sqlite query: \"CREATE TABLE start_codon (transcript_version TEXT NOT NULL, feature TEXT NOT NULL, gene_id TEXT NOT NULL, gene_name TEXT NOT NULL, start INT NOT NULL, gene_biotype TEXT NOT NULL, exon_number TEXT NOT NULL, source TEXT NOT NULL, protein_version TEXT NOT NULL, protein_id TEXT NOT NULL, ccds_id TEXT NOT NULL, gene_version TEXT NOT NULL, transcript_biotype TEXT NOT NULL, transcript_support_level TEXT NOT NULL, end INT NOT NULL, exon_id TEXT NOT NULL, transcript_id TEXT NOT NULL, exon_version TEXT NOT NULL, strand TEXT NOT NULL, seqname TEXT NOT NULL, transcript_name TEXT NOT NULL)\"\n",
      "INFO:datacache.database:Inserting 59967 rows into table start_codon\n",
      "INFO:datacache.database:Creating index on start_codon (seqname, start, end)\n",
      "INFO:datacache.database:Creating index on start_codon (gene_name)\n",
      "INFO:datacache.database:Creating index on start_codon (gene_id)\n",
      "INFO:datacache.database:Creating index on start_codon (transcript_id)\n",
      "INFO:datacache.database:Creating index on start_codon (transcript_name)\n",
      "INFO:datacache.database:Creating index on start_codon (exon_id)\n",
      "INFO:datacache.database:Creating index on start_codon (protein_id)\n",
      "INFO:datacache.database:Creating index on start_codon (ccds_id)\n",
      "INFO:datacache.database:Running sqlite query: \"CREATE TABLE CDS (transcript_version TEXT NOT NULL, feature TEXT NOT NULL, gene_id TEXT NOT NULL, gene_name TEXT NOT NULL, start INT NOT NULL, gene_biotype TEXT NOT NULL, exon_number TEXT NOT NULL, source TEXT NOT NULL, protein_version TEXT NOT NULL, protein_id TEXT NOT NULL, ccds_id TEXT NOT NULL, gene_version TEXT NOT NULL, transcript_biotype TEXT NOT NULL, transcript_support_level TEXT NOT NULL, end INT NOT NULL, exon_id TEXT NOT NULL, transcript_id TEXT NOT NULL, exon_version TEXT NOT NULL, strand TEXT NOT NULL, seqname TEXT NOT NULL, transcript_name TEXT NOT NULL)\"\n",
      "INFO:datacache.database:Inserting 528004 rows into table CDS\n",
      "INFO:datacache.database:Creating index on CDS (seqname, start, end)\n",
      "INFO:datacache.database:Creating index on CDS (gene_name)\n",
      "INFO:datacache.database:Creating index on CDS (gene_id)\n",
      "INFO:datacache.database:Creating index on CDS (transcript_id)\n",
      "INFO:datacache.database:Creating index on CDS (transcript_name)\n",
      "INFO:datacache.database:Creating index on CDS (exon_id)\n",
      "INFO:datacache.database:Creating index on CDS (protein_id)\n",
      "INFO:datacache.database:Creating index on CDS (ccds_id)\n",
      "INFO:datacache.database:Running sqlite query: \"CREATE TABLE stop_codon (transcript_version TEXT NOT NULL, feature TEXT NOT NULL, gene_id TEXT NOT NULL, gene_name TEXT NOT NULL, start INT NOT NULL, gene_biotype TEXT NOT NULL, exon_number TEXT NOT NULL, source TEXT NOT NULL, protein_version TEXT NOT NULL, protein_id TEXT NOT NULL, ccds_id TEXT NOT NULL, gene_version TEXT NOT NULL, transcript_biotype TEXT NOT NULL, transcript_support_level TEXT NOT NULL, end INT NOT NULL, exon_id TEXT NOT NULL, transcript_id TEXT NOT NULL, exon_version TEXT NOT NULL, strand TEXT NOT NULL, seqname TEXT NOT NULL, transcript_name TEXT NOT NULL)\"\n",
      "INFO:datacache.database:Inserting 55722 rows into table stop_codon\n",
      "INFO:datacache.database:Creating index on stop_codon (seqname, start, end)\n",
      "INFO:datacache.database:Creating index on stop_codon (gene_name)\n",
      "INFO:datacache.database:Creating index on stop_codon (gene_id)\n",
      "INFO:datacache.database:Creating index on stop_codon (transcript_id)\n",
      "INFO:datacache.database:Creating index on stop_codon (transcript_name)\n",
      "INFO:datacache.database:Creating index on stop_codon (exon_id)\n",
      "INFO:datacache.database:Creating index on stop_codon (protein_id)\n",
      "INFO:datacache.database:Creating index on stop_codon (ccds_id)\n",
      "INFO:datacache.database:Running sqlite query: \"CREATE TABLE transcript (transcript_version TEXT NOT NULL, feature TEXT NOT NULL, gene_id TEXT NOT NULL, gene_name TEXT NOT NULL, start INT NOT NULL, gene_biotype TEXT NOT NULL, exon_number TEXT NOT NULL, source TEXT NOT NULL, protein_version TEXT NOT NULL, protein_id TEXT NOT NULL, ccds_id TEXT NOT NULL, gene_version TEXT NOT NULL, transcript_biotype TEXT NOT NULL, transcript_support_level TEXT NOT NULL, end INT NOT NULL, exon_id TEXT NOT NULL, transcript_id TEXT UNIQUE PRIMARY KEY NOT NULL, exon_version TEXT NOT NULL, strand TEXT NOT NULL, seqname TEXT NOT NULL, transcript_name TEXT NOT NULL)\"\n",
      "INFO:datacache.database:Inserting 142434 rows into table transcript\n",
      "INFO:datacache.database:Creating index on transcript (seqname, start, end)\n",
      "INFO:datacache.database:Creating index on transcript (gene_name)\n",
      "INFO:datacache.database:Creating index on transcript (gene_id)\n",
      "INFO:datacache.database:Creating index on transcript (transcript_name)\n",
      "INFO:datacache.database:Creating index on transcript (exon_id)\n",
      "INFO:datacache.database:Creating index on transcript (protein_id)\n",
      "INFO:datacache.database:Creating index on transcript (ccds_id)\n",
      "INFO:datacache.database:Running sqlite query: \"CREATE TABLE gene (transcript_version TEXT NOT NULL, feature TEXT NOT NULL, gene_id TEXT UNIQUE PRIMARY KEY NOT NULL, gene_name TEXT NOT NULL, start INT NOT NULL, gene_biotype TEXT NOT NULL, exon_number TEXT NOT NULL, source TEXT NOT NULL, protein_version TEXT NOT NULL, protein_id TEXT NOT NULL, ccds_id TEXT NOT NULL, gene_version TEXT NOT NULL, transcript_biotype TEXT NOT NULL, transcript_support_level TEXT NOT NULL, end INT NOT NULL, exon_id TEXT NOT NULL, transcript_id TEXT NOT NULL, exon_version TEXT NOT NULL, strand TEXT NOT NULL, seqname TEXT NOT NULL, transcript_name TEXT NOT NULL)\"\n",
      "INFO:datacache.database:Inserting 55416 rows into table gene\n",
      "INFO:datacache.database:Creating index on gene (seqname, start, end)\n",
      "INFO:datacache.database:Creating index on gene (gene_name)\n",
      "INFO:datacache.database:Creating index on gene (transcript_id)\n",
      "INFO:datacache.database:Creating index on gene (transcript_name)\n",
      "INFO:datacache.database:Creating index on gene (exon_id)\n",
      "INFO:datacache.database:Creating index on gene (protein_id)\n",
      "INFO:datacache.database:Creating index on gene (ccds_id)\n",
      "INFO:datacache.database:Running sqlite query: \"CREATE TABLE exon (transcript_version TEXT NOT NULL, feature TEXT NOT NULL, gene_id TEXT NOT NULL, gene_name TEXT NOT NULL, start INT NOT NULL, gene_biotype TEXT NOT NULL, exon_number TEXT NOT NULL, source TEXT NOT NULL, protein_version TEXT NOT NULL, protein_id TEXT NOT NULL, ccds_id TEXT NOT NULL, gene_version TEXT NOT NULL, transcript_biotype TEXT NOT NULL, transcript_support_level TEXT NOT NULL, end INT NOT NULL, exon_id TEXT NOT NULL, transcript_id TEXT NOT NULL, exon_version TEXT NOT NULL, strand TEXT NOT NULL, seqname TEXT NOT NULL, transcript_name TEXT NOT NULL)\"\n"
     ]
    },
    {
     "name": "stderr",
     "output_type": "stream",
     "text": [
      "INFO:datacache.database:Inserting 842117 rows into table exon\n",
      "INFO:datacache.database:Creating index on exon (seqname, start, end)\n",
      "INFO:datacache.database:Creating index on exon (gene_name)\n",
      "INFO:datacache.database:Creating index on exon (gene_id)\n",
      "INFO:datacache.database:Creating index on exon (transcript_id)\n",
      "INFO:datacache.database:Creating index on exon (transcript_name)\n",
      "INFO:datacache.database:Creating index on exon (exon_id)\n",
      "INFO:datacache.database:Creating index on exon (protein_id)\n",
      "INFO:datacache.database:Creating index on exon (ccds_id)\n",
      "INFO:datacache.database:Running sqlite query: \"CREATE TABLE _datacache_metadata (version INT)\"\n",
      "INFO:datacache.database:Running sqlite query: \"INSERT INTO _datacache_metadata VALUES (3)\"\n",
      "INFO:pyensembl.sequence_data:Parsing sequences from FASTA file at /root/.cache/pyensembl/GRCm39/ensembl104/Mus_musculus.GRCm39.cdna.all.fa.gz\n",
      "INFO:pyensembl.sequence_data:Saving sequence dictionary to /root/.cache/pyensembl/GRCm39/ensembl104/Mus_musculus.GRCm39.cdna.all.fa.gz.pickle\n",
      "INFO:pyensembl.sequence_data:Parsing sequences from FASTA file at /root/.cache/pyensembl/GRCm39/ensembl104/Mus_musculus.GRCm39.ncrna.fa.gz\n",
      "INFO:pyensembl.sequence_data:Saving sequence dictionary to /root/.cache/pyensembl/GRCm39/ensembl104/Mus_musculus.GRCm39.ncrna.fa.gz.pickle\n",
      "INFO:pyensembl.sequence_data:Parsing sequences from FASTA file at /root/.cache/pyensembl/GRCm39/ensembl104/Mus_musculus.GRCm39.pep.all.fa.gz\n",
      "INFO:pyensembl.sequence_data:Saving sequence dictionary to /root/.cache/pyensembl/GRCm39/ensembl104/Mus_musculus.GRCm39.pep.all.fa.gz.pickle\n"
     ]
    },
    {
     "name": "stdout",
     "output_type": "stream",
     "text": [
      "total invalid 459, from 29617 1.549785596110342 %\n",
      "new data size (5040, 29617)\n"
     ]
    }
   ],
   "source": [
    "adata_orig = adata.copy() # save the original \n",
    "adata_foo, all_invalid_names = ensem_for_adata(adata) "
   ]
  },
  {
   "cell_type": "code",
   "execution_count": 22,
   "id": "40f53104-3faa-451e-b9d5-3a2516fc0317",
   "metadata": {},
   "outputs": [],
   "source": [
    "adata = adata_foo.copy()"
   ]
  },
  {
   "cell_type": "code",
   "execution_count": 23,
   "id": "bba341f1-e3b5-4d85-bb84-94065e475ec3",
   "metadata": {},
   "outputs": [
    {
     "data": {
      "text/plain": [
       "Index(['vf_vst_counts_mean', 'vf_vst_counts_variance',\n",
       "       'vf_vst_counts_variance.expected',\n",
       "       'vf_vst_counts_variance.standardized', 'vf_vst_counts_variable',\n",
       "       'vf_vst_counts_rank', 'var.features', 'var.features.rank'],\n",
       "      dtype='object')"
      ]
     },
     "execution_count": 23,
     "metadata": {},
     "output_type": "execute_result"
    }
   ],
   "source": [
    "adata.var.keys()"
   ]
  },
  {
   "cell_type": "code",
   "execution_count": 24,
   "id": "6e8c4868-f70a-4df2-a9f3-f1e9ab098ce2",
   "metadata": {},
   "outputs": [],
   "source": [
    "adata.obs[ObsConstants.ASSAY_ONTOLOGY_TERM_ID] = pd.Categorical([assay for i in range(len(adata))])\n",
    "adata.obs[ObsConstants.SEX_ONTOLOGY_TERM_ID] = genderinfo\n",
    "adata.obs[ObsConstants.ORGANISM_ONTOLOGY_TERM_ID] = pd.Categorical([organism for i in range(len(adata))])\n",
    "adata.obs[ObsConstants.TISSUE_ONTOLOGY_TERM_ID] = pd.Categorical([tissue for i in range(len(adata))])\n",
    "adata.obs[ObsConstants.SUSPENSION_TYPE] = pd.Categorical([suspension_type for i in range(len(adata))])\n",
    "\n",
    "# NicheFormer data schema\n",
    "adata.obs[ObsConstants.CONDITION_ID] = pd.Categorical([condition_id for i in range(len(adata))])\n",
    "adata.obs[ObsConstants.DONOR_ID] = adata.obs['sample_id']\n",
    "adata.obs[ObsConstants.TISSUE_TYPE] = pd.Categorical([tissue_type for i in range(len(adata))])\n",
    "\n",
    "\n"
   ]
  },
  {
   "cell_type": "code",
   "execution_count": null,
   "id": "d0137fe3",
   "metadata": {},
   "outputs": [],
   "source": []
  },
  {
   "cell_type": "code",
   "execution_count": 26,
   "id": "5e203680-b4a2-4cd2-afe1-3f69ef136718",
   "metadata": {},
   "outputs": [
    {
     "name": "stdout",
     "output_type": "stream",
     "text": [
      "\n",
      "Performing basic quality control for this data.\n",
      "AnnData object before filtering has 5040 cells and 29617 genes.\n",
      "AnnData object after cell filtering: 5040 cells, 29617 genes.\n",
      "AnnData object after gene filtering: 5040 cells, 24669 genes.\n"
     ]
    }
   ],
   "source": [
    "adata.var[VarConstants.FEATURE_IS_FILTERED] = False\n",
    "\n",
    "# after concatenation these are dtype=object, but need to be category\n",
    "adata.obs[ObsConstants.CONDITION_ID] = adata.obs[ObsConstants.CONDITION_ID].astype('category')\n",
    "adata.obs[ObsConstants.DONOR_ID] = adata.obs[ObsConstants.DONOR_ID].astype('category')\n",
    "\n",
    "# run basic filtering with default values\n",
    "print(f\"\\nPerforming basic quality control for this data.\")\n",
    "adata = qc_filter(adata=adata)\n"
   ]
  },
  {
   "cell_type": "code",
   "execution_count": 28,
   "id": "59a163ee",
   "metadata": {},
   "outputs": [
    {
     "data": {
      "text/plain": [
       "AnnData object with n_obs × n_vars = 5040 × 24669\n",
       "    obs: 'nCount_RNA', 'nFeature_RNA', 'sample_id', 'assay_ontology_term_id', 'sex_ontology_term_id', 'organism_ontology_term_id', 'tissue_ontology_term_id', 'suspension_type', 'condition_id', 'donor_id', 'tissue_type', 'n_counts'\n",
       "    var: 'vf_vst_counts_mean', 'vf_vst_counts_variance', 'vf_vst_counts_variance.expected', 'vf_vst_counts_variance.standardized', 'vf_vst_counts_variable', 'vf_vst_counts_rank', 'var.features', 'var.features.rank', 'feature_is_filtered', 'n_cells'\n",
       "    obsm: 'X_pca', 'X_umap'\n",
       "    layers: 'rawcounts'"
      ]
     },
     "execution_count": 28,
     "metadata": {},
     "output_type": "execute_result"
    }
   ],
   "source": [
    "adata"
   ]
  },
  {
   "cell_type": "code",
   "execution_count": null,
   "id": "d102cd9f",
   "metadata": {},
   "outputs": [],
   "source": []
  },
  {
   "cell_type": "code",
   "execution_count": 29,
   "id": "25ac7930-67a1-4d07-9020-d81289c4b08d",
   "metadata": {},
   "outputs": [],
   "source": [
    "# adata = anndata.concat(adatas, index_unique='_')\n",
    "adata.uns[UnsConstants.TITLE] = 'foo'\n",
    "adata.var[VarConstants.FEATURE_IS_FILTERED] = False\n"
   ]
  },
  {
   "cell_type": "code",
   "execution_count": 31,
   "id": "83a870e2",
   "metadata": {},
   "outputs": [],
   "source": [
    "preprocessed_path = \"/root/capsule/LC_NE_output/\""
   ]
  },
  {
   "cell_type": "code",
   "execution_count": 33,
   "id": "c89f84b6-0f67-4043-9ab4-23d212b2535a",
   "metadata": {},
   "outputs": [
    {
     "name": "stderr",
     "output_type": "stream",
     "text": [
      "WARNING:cellxgene_schema.validate:WARNING: Found 326 invalid genes, subsetting anndata\n"
     ]
    },
    {
     "name": "stdout",
     "output_type": "stream",
     "text": [
      "\n",
      "Validating....\n"
     ]
    },
    {
     "name": "stderr",
     "output_type": "stream",
     "text": [
      "INFO:cellxgene_schema.validate:Starting validation...\n",
      "WARNING:cellxgene_schema.validate:WARNING: Only raw data was found, i.e. there is no 'raw.X'. It is STRONGLY RECOMMENDED that 'final' (normalized) data is provided.\n",
      "INFO:cellxgene_schema.validate:Validation complete in 0:00:02.712655 with status is_valid=True\n",
      "INFO:cellxgene_schema.validate:Writing labels\n",
      "INFO:cellxgene_schema.utils:enforce canonical format in X\n",
      "INFO:cellxgene_schema.validate:H5AD label writing complete in 0:01:18.719670\n"
     ]
    },
    {
     "name": "stdout",
     "output_type": "stream",
     "text": [
      "DONE: Successfully preprocessed this data, validation completed with status is_valid=True.\n",
      "\n",
      "WRITING PREPROCESSED FILE TO: LC_NE.h5ad\n"
     ]
    }
   ],
   "source": [
    "outputfilename = 'adata_sc_preprocessed'\n",
    "# run validator\n",
    "print(f\"\\nValidating....\")\n",
    "adata_output, valid, errors, is_seurat_convertible = validate(adata, organism=organism_validator)\n",
    "\n",
    "if valid:\n",
    "    print(f\"DONE: Successfully preprocessed this data, validation completed with status is_valid={valid}.\")\n",
    "    print(f\"\\nWRITING PREPROCESSED FILE TO: {outputfilename}.h5ad\")\n",
    "    adata_output.write(f\"{preprocessed_path}/{outputfilename}.h5ad\")\n",
    "else:\n",
    "    print(f\"ERROR: Preprocessing of yoru LC-NE failed, validation completed with status is_valid={valid}.\")"
   ]
  },
  {
   "cell_type": "code",
   "execution_count": 34,
   "id": "dedfb549-edec-4a2b-b51d-679c09574e5a",
   "metadata": {},
   "outputs": [
    {
     "data": {
      "text/plain": [
       "(24669,)"
      ]
     },
     "execution_count": 34,
     "metadata": {},
     "output_type": "execute_result"
    }
   ],
   "source": [
    "adata.var.index.shape"
   ]
  },
  {
   "cell_type": "code",
   "execution_count": 35,
   "id": "17918104-2979-41b7-880d-8591f2c2f449",
   "metadata": {},
   "outputs": [
    {
     "data": {
      "text/plain": [
       "(24669,)"
      ]
     },
     "execution_count": 35,
     "metadata": {},
     "output_type": "execute_result"
    }
   ],
   "source": [
    "np.unique(adata.var.index).shape"
   ]
  },
  {
   "cell_type": "code",
   "execution_count": null,
   "id": "38a5cf3c-ce23-4b91-9ed1-7e2fea507b0d",
   "metadata": {},
   "outputs": [],
   "source": []
  },
  {
   "cell_type": "code",
   "execution_count": null,
   "id": "c8e88a99-9f48-42f2-8911-546c851eef0b",
   "metadata": {},
   "outputs": [],
   "source": []
  },
  {
   "cell_type": "code",
   "execution_count": null,
   "id": "7e2b074a-9287-40cf-b39e-59a493faf616",
   "metadata": {},
   "outputs": [],
   "source": []
  },
  {
   "cell_type": "code",
   "execution_count": null,
   "id": "ca493209-a98a-4eb5-a292-e46de069008a",
   "metadata": {},
   "outputs": [],
   "source": []
  },
  {
   "cell_type": "code",
   "execution_count": null,
   "id": "fc717f63-5588-495d-afda-8509d6b926fe",
   "metadata": {},
   "outputs": [],
   "source": []
  },
  {
   "cell_type": "code",
   "execution_count": null,
   "id": "14e1845b-8152-4d0b-9664-80d8eee0614f",
   "metadata": {},
   "outputs": [],
   "source": []
  },
  {
   "cell_type": "code",
   "execution_count": null,
   "id": "542dcd6b-76a3-4d87-84db-5cf112186bea",
   "metadata": {},
   "outputs": [],
   "source": []
  }
 ],
 "metadata": {
  "kernelspec": {
   "display_name": "Python 3 (ipykernel)",
   "language": "python",
   "name": "python3"
  },
  "language_info": {
   "codemirror_mode": {
    "name": "ipython",
    "version": 3
   },
   "file_extension": ".py",
   "mimetype": "text/x-python",
   "name": "python",
   "nbconvert_exporter": "python",
   "pygments_lexer": "ipython3",
   "version": "3.10.9"
  }
 },
 "nbformat": 4,
 "nbformat_minor": 5
}
