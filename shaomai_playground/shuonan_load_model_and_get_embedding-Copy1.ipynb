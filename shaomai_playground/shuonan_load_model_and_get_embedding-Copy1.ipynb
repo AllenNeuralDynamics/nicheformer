{
 "cells": [
  {
   "cell_type": "code",
   "execution_count": 14,
   "id": "a567d761-d5da-46e3-a752-915b7561401f",
   "metadata": {},
   "outputs": [],
   "source": [
    "import os\n",
    "import numpy as np\n",
    "import pytorch_lightning as pl\n",
    "import torch\n",
    "from torch.utils.data import DataLoader\n",
    "import anndata as ad\n",
    "from typing import Optional, Dict, Any\n",
    "from tqdm import tqdm\n",
    "\n",
    "from nicheformer.models import Nicheformer\n",
    "from nicheformer.data import NicheformerDataset\n",
    "import anndata as ad"
   ]
  },
  {
   "cell_type": "markdown",
   "id": "f9bd1d26-b834-4b6d-9607-c5db7fa660ec",
   "metadata": {},
   "source": [
    "## load nicheformer model "
   ]
  },
  {
   "cell_type": "code",
   "execution_count": 15,
   "id": "a0d77446-cd51-4f07-8d82-67bccd10ba7b",
   "metadata": {},
   "outputs": [
    {
     "data": {
      "text/plain": [
       "'/home/ec2-user/SageMaker'"
      ]
     },
     "execution_count": 15,
     "metadata": {},
     "output_type": "execute_result"
    }
   ],
   "source": [
    "os.getcwd()"
   ]
  },
  {
   "cell_type": "code",
   "execution_count": 16,
   "id": "a2278c40-a929-41f2-a426-8ec32ac29a9b",
   "metadata": {},
   "outputs": [],
   "source": [
    "model_path=os.path.join(\"weights\",\"nicheformer.ckpt\")"
   ]
  },
  {
   "cell_type": "code",
   "execution_count": 19,
   "id": "3eae869e-d398-4c44-afb2-eeb29afbfb27",
   "metadata": {},
   "outputs": [
    {
     "data": {
      "text/plain": [
       "'/home/ec2-user/SageMaker'"
      ]
     },
     "execution_count": 19,
     "metadata": {},
     "output_type": "execute_result"
    }
   ],
   "source": [
    "pwd"
   ]
  },
  {
   "cell_type": "code",
   "execution_count": 292,
   "id": "a7f48413-1087-4ba3-9883-7e0abeeb4347",
   "metadata": {},
   "outputs": [],
   "source": [
    "config = {\n",
    "    'data_path': '/home/ec2-user/SageMaker/our_data_LC_NE/preprocessed/adata_sc_pre.h5ad', #'path/to/your/data.h5ad',  # Path to your AnnData file\n",
    "    'technology_mean_path': '/home/ec2-user/SageMaker/nicheformer/data/model_means/merfish_mean_script.npy', #'path/to/technology_mean.npy',  # Path to technology mean file\n",
    "    'checkpoint_path': '/home/ec2-user/SageMaker/weights/nicheformer.ckpt',  # Path to model checkpoint\n",
    "    'output_path': 'test_data_with_embeddings.h5ad',  # Where to save the result, it is a new h5ad\n",
    "    'output_dir': '/home/ec2-user/SageMaker/output_dir',  # Directory for any intermediate outputs\n",
    "    'batch_size': 10,\n",
    "    'max_seq_len': 1500, \n",
    "    'aux_tokens': 30, \n",
    "    'chunk_size': 1000, # to prevent OOM\n",
    "    'num_workers': 4,\n",
    "    'precision': 32,\n",
    "    'embedding_layer': -1,  # Which layer to extract embeddings from (-1 for last layer)\n",
    "    'embedding_name': 'embeddings'  # Name suffix for the embedding key in adata.obsm\n",
    "}"
   ]
  },
  {
   "cell_type": "code",
   "execution_count": 293,
   "id": "eaefd1d8-6c09-4fb8-b488-0922d768dc63",
   "metadata": {},
   "outputs": [
    {
     "name": "stderr",
     "output_type": "stream",
     "text": [
      "GPU available: True (cuda), used: True\n",
      "TPU available: False, using: 0 TPU cores\n",
      "HPU available: False, using: 0 HPUs\n"
     ]
    }
   ],
   "source": [
    "model = Nicheformer.load_from_checkpoint(model_path, strict=False)\n",
    "model.eval()  # Set to evaluation mode\n",
    "\n",
    "# Configure trainer\n",
    "trainer = pl.Trainer(\n",
    "    accelerator='gpu' if torch.cuda.is_available() else 'cpu',\n",
    "    devices=1,\n",
    "    default_root_dir=config['output_dir'],\n",
    "    precision=config.get('precision', 32),\n",
    ")"
   ]
  },
  {
   "cell_type": "code",
   "execution_count": 294,
   "id": "ccd9c426-7422-430d-bd90-d8f1dcc961ed",
   "metadata": {},
   "outputs": [
    {
     "data": {
      "text/plain": [
       "'/home/ec2-user/SageMaker/our_data_LC_NE/preprocessed/adata_sc_pre.h5ad'"
      ]
     },
     "execution_count": 294,
     "metadata": {},
     "output_type": "execute_result"
    }
   ],
   "source": [
    "config['data_path']"
   ]
  },
  {
   "cell_type": "code",
   "execution_count": 295,
   "id": "1a7187ff-afb5-4c62-9aa9-305b6d5bc393",
   "metadata": {},
   "outputs": [],
   "source": [
    "adata_0 = ad.read_h5ad(config['data_path'])\n",
    "technology_mean=np.load(config['technology_mean_path'])\n",
    "adata_orig = adata_0.copy()"
   ]
  },
  {
   "cell_type": "code",
   "execution_count": 296,
   "id": "32b97583-6d12-45ca-bbad-152e769bb01a",
   "metadata": {},
   "outputs": [
    {
     "data": {
      "text/plain": [
       "((24343,), (24343,))"
      ]
     },
     "execution_count": 296,
     "metadata": {},
     "output_type": "execute_result"
    }
   ],
   "source": [
    "adata_orig.var.index.shape,np.unique(list(adata_orig.var.index)).shape"
   ]
  },
  {
   "cell_type": "code",
   "execution_count": 297,
   "id": "c620cd48-a0a1-45a1-a68f-a72d67a2189d",
   "metadata": {},
   "outputs": [],
   "source": [
    "from nicheformer.data.constants import ObsConstants"
   ]
  },
  {
   "cell_type": "code",
   "execution_count": 298,
   "id": "da656175-3744-4483-9646-38c5120b5134",
   "metadata": {},
   "outputs": [],
   "source": [
    "adata_0.obs[ObsConstants.DATASET] = adata_0.uns['title']\n",
    "adata_0.obs[ObsConstants.SPLIT] = 'train'\n",
    "adata_0.obs[ObsConstants.NICHE] = 'nan'\n",
    "adata_0.obs[ObsConstants.REGION] = 'nan'\n"
   ]
  },
  {
   "cell_type": "markdown",
   "id": "ed8a882c-900d-4f38-a10c-8890939aa61d",
   "metadata": {},
   "source": [
    "# chnage orthologus genes"
   ]
  },
  {
   "cell_type": "code",
   "execution_count": 299,
   "id": "1a66fef4-07a9-4c57-b02b-4214c8dc9360",
   "metadata": {},
   "outputs": [],
   "source": [
    "import pandas as pd"
   ]
  },
  {
   "cell_type": "code",
   "execution_count": 300,
   "id": "7b20392e-d968-4f65-a0c1-8af84a8469ec",
   "metadata": {},
   "outputs": [],
   "source": [
    "path_to_orthologus_csv = '/home/ec2-user/SageMaker/mouse_to_human.csv'\n",
    "orthologus_csv = pd.read_csv(path_to_orthologus_csv)"
   ]
  },
  {
   "cell_type": "code",
   "execution_count": 301,
   "id": "357bcff8-61b5-4fce-a083-0c4ac89fdffa",
   "metadata": {},
   "outputs": [
    {
     "data": {
      "text/html": [
       "<div>\n",
       "<style scoped>\n",
       "    .dataframe tbody tr th:only-of-type {\n",
       "        vertical-align: middle;\n",
       "    }\n",
       "\n",
       "    .dataframe tbody tr th {\n",
       "        vertical-align: top;\n",
       "    }\n",
       "\n",
       "    .dataframe thead th {\n",
       "        text-align: right;\n",
       "    }\n",
       "</style>\n",
       "<table border=\"1\" class=\"dataframe\">\n",
       "  <thead>\n",
       "    <tr style=\"text-align: right;\">\n",
       "      <th></th>\n",
       "      <th>Unnamed: 0</th>\n",
       "      <th>ensembl_gene_id</th>\n",
       "      <th>hsapiens_homolog_ensembl_gene</th>\n",
       "    </tr>\n",
       "  </thead>\n",
       "  <tbody>\n",
       "    <tr>\n",
       "      <th>5</th>\n",
       "      <td>5</td>\n",
       "      <td>ENSMUSG00000064341</td>\n",
       "      <td>ENSG00000198888</td>\n",
       "    </tr>\n",
       "    <tr>\n",
       "      <th>9</th>\n",
       "      <td>9</td>\n",
       "      <td>ENSMUSG00000064345</td>\n",
       "      <td>ENSG00000198763</td>\n",
       "    </tr>\n",
       "    <tr>\n",
       "      <th>15</th>\n",
       "      <td>15</td>\n",
       "      <td>ENSMUSG00000064351</td>\n",
       "      <td>ENSG00000198804</td>\n",
       "    </tr>\n",
       "    <tr>\n",
       "      <th>18</th>\n",
       "      <td>18</td>\n",
       "      <td>ENSMUSG00000064354</td>\n",
       "      <td>ENSG00000198712</td>\n",
       "    </tr>\n",
       "    <tr>\n",
       "      <th>20</th>\n",
       "      <td>20</td>\n",
       "      <td>ENSMUSG00000064356</td>\n",
       "      <td>ENSG00000228253</td>\n",
       "    </tr>\n",
       "    <tr>\n",
       "      <th>...</th>\n",
       "      <td>...</td>\n",
       "      <td>...</td>\n",
       "      <td>...</td>\n",
       "    </tr>\n",
       "    <tr>\n",
       "      <th>83509</th>\n",
       "      <td>83509</td>\n",
       "      <td>ENSMUSG00000108908</td>\n",
       "      <td>ENSG00000186092</td>\n",
       "    </tr>\n",
       "    <tr>\n",
       "      <th>83510</th>\n",
       "      <td>83510</td>\n",
       "      <td>ENSMUSG00000108908</td>\n",
       "      <td>ENSG00000176695</td>\n",
       "    </tr>\n",
       "    <tr>\n",
       "      <th>83517</th>\n",
       "      <td>83517</td>\n",
       "      <td>ENSMUSG00000026679</td>\n",
       "      <td>ENSG00000151023</td>\n",
       "    </tr>\n",
       "    <tr>\n",
       "      <th>83518</th>\n",
       "      <td>83518</td>\n",
       "      <td>ENSMUSG00002076042</td>\n",
       "      <td>ENSG00000252396</td>\n",
       "    </tr>\n",
       "    <tr>\n",
       "      <th>83519</th>\n",
       "      <td>83519</td>\n",
       "      <td>ENSMUSG00000048550</td>\n",
       "      <td>ENSG00000185875</td>\n",
       "    </tr>\n",
       "  </tbody>\n",
       "</table>\n",
       "<p>25768 rows × 3 columns</p>\n",
       "</div>"
      ],
      "text/plain": [
       "       Unnamed: 0     ensembl_gene_id hsapiens_homolog_ensembl_gene\n",
       "5               5  ENSMUSG00000064341               ENSG00000198888\n",
       "9               9  ENSMUSG00000064345               ENSG00000198763\n",
       "15             15  ENSMUSG00000064351               ENSG00000198804\n",
       "18             18  ENSMUSG00000064354               ENSG00000198712\n",
       "20             20  ENSMUSG00000064356               ENSG00000228253\n",
       "...           ...                 ...                           ...\n",
       "83509       83509  ENSMUSG00000108908               ENSG00000186092\n",
       "83510       83510  ENSMUSG00000108908               ENSG00000176695\n",
       "83517       83517  ENSMUSG00000026679               ENSG00000151023\n",
       "83518       83518  ENSMUSG00002076042               ENSG00000252396\n",
       "83519       83519  ENSMUSG00000048550               ENSG00000185875\n",
       "\n",
       "[25768 rows x 3 columns]"
      ]
     },
     "execution_count": 301,
     "metadata": {},
     "output_type": "execute_result"
    }
   ],
   "source": [
    "orthologus_csv = orthologus_csv[orthologus_csv.hsapiens_homolog_ensembl_gene.notna()]\n",
    "orthologus_csv"
   ]
  },
  {
   "cell_type": "code",
   "execution_count": 302,
   "id": "b23c9a26-3a4e-4a0e-af3a-e4322283d46d",
   "metadata": {},
   "outputs": [],
   "source": [
    "foo = dict(zip(orthologus_csv.ensembl_gene_id, orthologus_csv.hsapiens_homolog_ensembl_gene))"
   ]
  },
  {
   "cell_type": "code",
   "execution_count": 303,
   "id": "6f505f18-c6d9-47a5-8e8e-f259856dd7f2",
   "metadata": {},
   "outputs": [],
   "source": [
    "adata_0.var=adata_0.var.rename(index=foo)"
   ]
  },
  {
   "cell_type": "code",
   "execution_count": 304,
   "id": "f3c190da-75ca-4c3c-bd45-cb5b57661553",
   "metadata": {},
   "outputs": [],
   "source": [
    "technology_mean=np.load(config['technology_mean_path'])"
   ]
  },
  {
   "cell_type": "code",
   "execution_count": 305,
   "id": "b282f9e1-9b62-4e68-ab63-700d1611f50d",
   "metadata": {},
   "outputs": [
    {
     "data": {
      "text/plain": [
       "(20310,)"
      ]
     },
     "execution_count": 305,
     "metadata": {},
     "output_type": "execute_result"
    }
   ],
   "source": [
    "technology_mean.shape"
   ]
  },
  {
   "cell_type": "code",
   "execution_count": 306,
   "id": "e7168e3a-aa4f-4964-b017-51783d6de79d",
   "metadata": {},
   "outputs": [],
   "source": [
    "model = ad.read_h5ad('/home/ec2-user/SageMaker/nicheformer/data/model_means/model.h5ad')"
   ]
  },
  {
   "cell_type": "code",
   "execution_count": 307,
   "id": "142ce605-632d-41f9-91ab-7e1fab50a159",
   "metadata": {},
   "outputs": [
    {
     "data": {
      "text/plain": [
       "((24343,), (23911,))"
      ]
     },
     "execution_count": 307,
     "metadata": {},
     "output_type": "execute_result"
    }
   ],
   "source": [
    "adata_0.var.index.shape,np.unique(list(adata_0.var.index)).shape"
   ]
  },
  {
   "cell_type": "code",
   "execution_count": 308,
   "id": "d224c6b4-d992-486e-a8ad-8423b0e11b20",
   "metadata": {},
   "outputs": [
    {
     "data": {
      "text/html": [
       "<div>\n",
       "<style scoped>\n",
       "    .dataframe tbody tr th:only-of-type {\n",
       "        vertical-align: middle;\n",
       "    }\n",
       "\n",
       "    .dataframe tbody tr th {\n",
       "        vertical-align: top;\n",
       "    }\n",
       "\n",
       "    .dataframe thead th {\n",
       "        text-align: right;\n",
       "    }\n",
       "</style>\n",
       "<table border=\"1\" class=\"dataframe\">\n",
       "  <thead>\n",
       "    <tr style=\"text-align: right;\">\n",
       "      <th></th>\n",
       "      <th>vf_vst_counts_mean</th>\n",
       "      <th>vf_vst_counts_variance</th>\n",
       "      <th>vf_vst_counts_variance.expected</th>\n",
       "      <th>vf_vst_counts_variance.standardized</th>\n",
       "      <th>vf_vst_counts_variable</th>\n",
       "      <th>vf_vst_counts_rank</th>\n",
       "      <th>var.features</th>\n",
       "      <th>var.features.rank</th>\n",
       "      <th>feature_is_filtered</th>\n",
       "      <th>n_cells</th>\n",
       "      <th>feature_name</th>\n",
       "      <th>feature_reference</th>\n",
       "      <th>feature_biotype</th>\n",
       "    </tr>\n",
       "  </thead>\n",
       "  <tbody>\n",
       "    <tr>\n",
       "      <th>ENSG00000206579</th>\n",
       "      <td>61.878810</td>\n",
       "      <td>1221.013027</td>\n",
       "      <td>1174.224123</td>\n",
       "      <td>1.039847</td>\n",
       "      <td>False</td>\n",
       "      <td>-2147483648</td>\n",
       "      <td>NaN</td>\n",
       "      <td>-2147483648</td>\n",
       "      <td>False</td>\n",
       "      <td>5038</td>\n",
       "      <td>Xkr4</td>\n",
       "      <td>NCBITaxon:10090</td>\n",
       "      <td>gene</td>\n",
       "    </tr>\n",
       "    <tr>\n",
       "      <th>ENSMUSG00000089699</th>\n",
       "      <td>2.517827</td>\n",
       "      <td>4.964806</td>\n",
       "      <td>5.116678</td>\n",
       "      <td>0.970318</td>\n",
       "      <td>False</td>\n",
       "      <td>-2147483648</td>\n",
       "      <td>NaN</td>\n",
       "      <td>-2147483648</td>\n",
       "      <td>False</td>\n",
       "      <td>4226</td>\n",
       "      <td>Gm1992</td>\n",
       "      <td>NCBITaxon:10090</td>\n",
       "      <td>gene</td>\n",
       "    </tr>\n",
       "    <tr>\n",
       "      <th>ENSMUSG00000102331</th>\n",
       "      <td>1.174210</td>\n",
       "      <td>1.621345</td>\n",
       "      <td>1.895158</td>\n",
       "      <td>0.855520</td>\n",
       "      <td>False</td>\n",
       "      <td>-2147483648</td>\n",
       "      <td>NaN</td>\n",
       "      <td>-2147483648</td>\n",
       "      <td>False</td>\n",
       "      <td>3335</td>\n",
       "      <td>Gm19938</td>\n",
       "      <td>NCBITaxon:10090</td>\n",
       "      <td>gene</td>\n",
       "    </tr>\n",
       "    <tr>\n",
       "      <th>ENSMUSG00000102343</th>\n",
       "      <td>0.005542</td>\n",
       "      <td>0.006621</td>\n",
       "      <td>0.006652</td>\n",
       "      <td>0.995389</td>\n",
       "      <td>False</td>\n",
       "      <td>-2147483648</td>\n",
       "      <td>NaN</td>\n",
       "      <td>-2147483648</td>\n",
       "      <td>False</td>\n",
       "      <td>27</td>\n",
       "      <td>Gm37381</td>\n",
       "      <td>NCBITaxon:10090</td>\n",
       "      <td>gene</td>\n",
       "    </tr>\n",
       "    <tr>\n",
       "      <th>ENSG00000104237</th>\n",
       "      <td>0.028635</td>\n",
       "      <td>0.075492</td>\n",
       "      <td>0.038093</td>\n",
       "      <td>1.981753</td>\n",
       "      <td>True</td>\n",
       "      <td>1010</td>\n",
       "      <td>Rp1</td>\n",
       "      <td>1010</td>\n",
       "      <td>False</td>\n",
       "      <td>86</td>\n",
       "      <td>Rp1</td>\n",
       "      <td>NCBITaxon:10090</td>\n",
       "      <td>gene</td>\n",
       "    </tr>\n",
       "    <tr>\n",
       "      <th>...</th>\n",
       "      <td>...</td>\n",
       "      <td>...</td>\n",
       "      <td>...</td>\n",
       "      <td>...</td>\n",
       "      <td>...</td>\n",
       "      <td>...</td>\n",
       "      <td>...</td>\n",
       "      <td>...</td>\n",
       "      <td>...</td>\n",
       "      <td>...</td>\n",
       "      <td>...</td>\n",
       "      <td>...</td>\n",
       "      <td>...</td>\n",
       "    </tr>\n",
       "    <tr>\n",
       "      <th>ENSG00000198886</th>\n",
       "      <td>13.629595</td>\n",
       "      <td>128.432066</td>\n",
       "      <td>72.826496</td>\n",
       "      <td>1.763535</td>\n",
       "      <td>True</td>\n",
       "      <td>1316</td>\n",
       "      <td>mt-Nd4</td>\n",
       "      <td>1316</td>\n",
       "      <td>False</td>\n",
       "      <td>5024</td>\n",
       "      <td>mt-Nd4</td>\n",
       "      <td>NCBITaxon:10090</td>\n",
       "      <td>gene</td>\n",
       "    </tr>\n",
       "    <tr>\n",
       "      <th>ENSG00000198786</th>\n",
       "      <td>6.127656</td>\n",
       "      <td>33.074056</td>\n",
       "      <td>19.153600</td>\n",
       "      <td>1.726780</td>\n",
       "      <td>True</td>\n",
       "      <td>1384</td>\n",
       "      <td>mt-Nd5</td>\n",
       "      <td>1384</td>\n",
       "      <td>False</td>\n",
       "      <td>4796</td>\n",
       "      <td>mt-Nd5</td>\n",
       "      <td>NCBITaxon:10090</td>\n",
       "      <td>gene</td>\n",
       "    </tr>\n",
       "    <tr>\n",
       "      <th>ENSG00000198695</th>\n",
       "      <td>0.627748</td>\n",
       "      <td>1.048579</td>\n",
       "      <td>0.921264</td>\n",
       "      <td>1.138197</td>\n",
       "      <td>False</td>\n",
       "      <td>-2147483648</td>\n",
       "      <td>NaN</td>\n",
       "      <td>-2147483648</td>\n",
       "      <td>False</td>\n",
       "      <td>1954</td>\n",
       "      <td>mt-Nd6</td>\n",
       "      <td>NCBITaxon:10090</td>\n",
       "      <td>gene</td>\n",
       "    </tr>\n",
       "    <tr>\n",
       "      <th>ENSG00000198727</th>\n",
       "      <td>11.063920</td>\n",
       "      <td>76.331095</td>\n",
       "      <td>50.867277</td>\n",
       "      <td>1.500593</td>\n",
       "      <td>True</td>\n",
       "      <td>1908</td>\n",
       "      <td>mt-Cytb</td>\n",
       "      <td>1908</td>\n",
       "      <td>False</td>\n",
       "      <td>5004</td>\n",
       "      <td>mt-Cytb</td>\n",
       "      <td>NCBITaxon:10090</td>\n",
       "      <td>gene</td>\n",
       "    </tr>\n",
       "    <tr>\n",
       "      <th>ENSMUSG00000096256</th>\n",
       "      <td>0.086089</td>\n",
       "      <td>0.087931</td>\n",
       "      <td>0.121462</td>\n",
       "      <td>0.723937</td>\n",
       "      <td>False</td>\n",
       "      <td>-2147483648</td>\n",
       "      <td>NaN</td>\n",
       "      <td>-2147483648</td>\n",
       "      <td>False</td>\n",
       "      <td>426</td>\n",
       "      <td>4933409K07Rik</td>\n",
       "      <td>NCBITaxon:10090</td>\n",
       "      <td>gene</td>\n",
       "    </tr>\n",
       "  </tbody>\n",
       "</table>\n",
       "<p>23911 rows × 13 columns</p>\n",
       "</div>"
      ],
      "text/plain": [
       "                    vf_vst_counts_mean  vf_vst_counts_variance  \\\n",
       "ENSG00000206579              61.878810             1221.013027   \n",
       "ENSMUSG00000089699            2.517827                4.964806   \n",
       "ENSMUSG00000102331            1.174210                1.621345   \n",
       "ENSMUSG00000102343            0.005542                0.006621   \n",
       "ENSG00000104237               0.028635                0.075492   \n",
       "...                                ...                     ...   \n",
       "ENSG00000198886              13.629595              128.432066   \n",
       "ENSG00000198786               6.127656               33.074056   \n",
       "ENSG00000198695               0.627748                1.048579   \n",
       "ENSG00000198727              11.063920               76.331095   \n",
       "ENSMUSG00000096256            0.086089                0.087931   \n",
       "\n",
       "                    vf_vst_counts_variance.expected  \\\n",
       "ENSG00000206579                         1174.224123   \n",
       "ENSMUSG00000089699                         5.116678   \n",
       "ENSMUSG00000102331                         1.895158   \n",
       "ENSMUSG00000102343                         0.006652   \n",
       "ENSG00000104237                            0.038093   \n",
       "...                                             ...   \n",
       "ENSG00000198886                           72.826496   \n",
       "ENSG00000198786                           19.153600   \n",
       "ENSG00000198695                            0.921264   \n",
       "ENSG00000198727                           50.867277   \n",
       "ENSMUSG00000096256                         0.121462   \n",
       "\n",
       "                    vf_vst_counts_variance.standardized  \\\n",
       "ENSG00000206579                                1.039847   \n",
       "ENSMUSG00000089699                             0.970318   \n",
       "ENSMUSG00000102331                             0.855520   \n",
       "ENSMUSG00000102343                             0.995389   \n",
       "ENSG00000104237                                1.981753   \n",
       "...                                                 ...   \n",
       "ENSG00000198886                                1.763535   \n",
       "ENSG00000198786                                1.726780   \n",
       "ENSG00000198695                                1.138197   \n",
       "ENSG00000198727                                1.500593   \n",
       "ENSMUSG00000096256                             0.723937   \n",
       "\n",
       "                    vf_vst_counts_variable  vf_vst_counts_rank var.features  \\\n",
       "ENSG00000206579                      False         -2147483648          NaN   \n",
       "ENSMUSG00000089699                   False         -2147483648          NaN   \n",
       "ENSMUSG00000102331                   False         -2147483648          NaN   \n",
       "ENSMUSG00000102343                   False         -2147483648          NaN   \n",
       "ENSG00000104237                       True                1010          Rp1   \n",
       "...                                    ...                 ...          ...   \n",
       "ENSG00000198886                       True                1316       mt-Nd4   \n",
       "ENSG00000198786                       True                1384       mt-Nd5   \n",
       "ENSG00000198695                      False         -2147483648          NaN   \n",
       "ENSG00000198727                       True                1908      mt-Cytb   \n",
       "ENSMUSG00000096256                   False         -2147483648          NaN   \n",
       "\n",
       "                    var.features.rank  feature_is_filtered  n_cells  \\\n",
       "ENSG00000206579           -2147483648                False     5038   \n",
       "ENSMUSG00000089699        -2147483648                False     4226   \n",
       "ENSMUSG00000102331        -2147483648                False     3335   \n",
       "ENSMUSG00000102343        -2147483648                False       27   \n",
       "ENSG00000104237                  1010                False       86   \n",
       "...                               ...                  ...      ...   \n",
       "ENSG00000198886                  1316                False     5024   \n",
       "ENSG00000198786                  1384                False     4796   \n",
       "ENSG00000198695           -2147483648                False     1954   \n",
       "ENSG00000198727                  1908                False     5004   \n",
       "ENSMUSG00000096256        -2147483648                False      426   \n",
       "\n",
       "                     feature_name feature_reference feature_biotype  \n",
       "ENSG00000206579              Xkr4   NCBITaxon:10090            gene  \n",
       "ENSMUSG00000089699         Gm1992   NCBITaxon:10090            gene  \n",
       "ENSMUSG00000102331        Gm19938   NCBITaxon:10090            gene  \n",
       "ENSMUSG00000102343        Gm37381   NCBITaxon:10090            gene  \n",
       "ENSG00000104237               Rp1   NCBITaxon:10090            gene  \n",
       "...                           ...               ...             ...  \n",
       "ENSG00000198886            mt-Nd4   NCBITaxon:10090            gene  \n",
       "ENSG00000198786            mt-Nd5   NCBITaxon:10090            gene  \n",
       "ENSG00000198695            mt-Nd6   NCBITaxon:10090            gene  \n",
       "ENSG00000198727           mt-Cytb   NCBITaxon:10090            gene  \n",
       "ENSMUSG00000096256  4933409K07Rik   NCBITaxon:10090            gene  \n",
       "\n",
       "[23911 rows x 13 columns]"
      ]
     },
     "execution_count": 308,
     "metadata": {},
     "output_type": "execute_result"
    }
   ],
   "source": [
    "adata_0.var[dup_indx]"
   ]
  },
  {
   "cell_type": "code",
   "execution_count": 309,
   "id": "bc0eddc7-8162-4216-bb92-0be65a4ec1fa",
   "metadata": {},
   "outputs": [],
   "source": [
    "dup_indx = ~adata_0.var.index.duplicated(keep='first')\n",
    "#adata_0.var = adata_0.var[dup_indx]\n",
    "adata_0 = adata_0[:,dup_indx]"
   ]
  },
  {
   "cell_type": "code",
   "execution_count": 310,
   "id": "023ad133-b375-46d5-b457-f47e29559d25",
   "metadata": {},
   "outputs": [
    {
     "data": {
      "text/plain": [
       "((23911, 13), (23911,))"
      ]
     },
     "execution_count": 310,
     "metadata": {},
     "output_type": "execute_result"
    }
   ],
   "source": [
    "adata_0.var.shape, np.unique(list(adata_0.var.index)).shape"
   ]
  },
  {
   "cell_type": "code",
   "execution_count": 311,
   "id": "6821e184-c864-4f61-a66f-37ecb6e16a46",
   "metadata": {
    "scrolled": true
   },
   "outputs": [],
   "source": [
    "keep_genes = [m in set(model.var.index) for m in adata_0.var.index]"
   ]
  },
  {
   "cell_type": "code",
   "execution_count": 312,
   "id": "a4bbea13-c531-4dbc-8f86-6727258c1bc4",
   "metadata": {},
   "outputs": [],
   "source": [
    "adata_0 = adata_0[:, keep_genes]"
   ]
  },
  {
   "cell_type": "code",
   "execution_count": 313,
   "id": "0a5afc0e-186f-4b57-b569-2453e15bc8da",
   "metadata": {},
   "outputs": [
    {
     "data": {
      "text/plain": [
       "(5040, 15661)"
      ]
     },
     "execution_count": 313,
     "metadata": {},
     "output_type": "execute_result"
    }
   ],
   "source": [
    "adata_0.shape"
   ]
  },
  {
   "cell_type": "code",
   "execution_count": 314,
   "id": "3fc45fe1-f180-4256-8867-511a25067cde",
   "metadata": {},
   "outputs": [],
   "source": [
    "adata = ad.concat([model, adata_0], join='outer', axis=0)\n",
    "# dropping the first observation \n",
    "adata = adata[1:].copy()"
   ]
  },
  {
   "cell_type": "code",
   "execution_count": 315,
   "id": "dcc7438f-3cae-43c0-b3e0-38531e35705f",
   "metadata": {},
   "outputs": [
    {
     "data": {
      "text/plain": [
       "(5040, 20310)"
      ]
     },
     "execution_count": 315,
     "metadata": {},
     "output_type": "execute_result"
    }
   ],
   "source": [
    "adata.shape"
   ]
  },
  {
   "cell_type": "code",
   "execution_count": 316,
   "id": "6120fc09-03bf-4ce5-896b-c5a459b55cd0",
   "metadata": {},
   "outputs": [
    {
     "name": "stderr",
     "output_type": "stream",
     "text": [
      "100%|██████████| 6/6 [00:10<00:00,  1.71s/it]\n"
     ]
    }
   ],
   "source": [
    "# Create dataset\n",
    "dataset = NicheformerDataset(\n",
    "    adata=adata,\n",
    "    technology_mean=technology_mean,\n",
    "    split='train',\n",
    "    max_seq_len=1500,\n",
    "    aux_tokens=config.get('aux_tokens', 30),\n",
    "    chunk_size=config.get('chunk_size', 1000)\n",
    ")"
   ]
  },
  {
   "cell_type": "code",
   "execution_count": 317,
   "id": "6caa18af-29a1-4e7e-ab52-7b8df5718e4d",
   "metadata": {},
   "outputs": [],
   "source": [
    "\n",
    "\n",
    "# Create dataloader\n",
    "dataloader = DataLoader(\n",
    "    dataset,\n",
    "    batch_size=config['batch_size'],\n",
    "    shuffle=False,\n",
    "    num_workers=config.get('num_workers', 4),\n",
    "    pin_memory=True\n",
    ")"
   ]
  },
  {
   "cell_type": "code",
   "execution_count": 318,
   "id": "ad9f3e23-2bb3-425a-a72e-6aef26656c7c",
   "metadata": {},
   "outputs": [
    {
     "data": {
      "text/plain": [
       "<torch.utils.data.dataloader.DataLoader at 0x7f37e8742830>"
      ]
     },
     "execution_count": 318,
     "metadata": {},
     "output_type": "execute_result"
    }
   ],
   "source": [
    "dataloader"
   ]
  },
  {
   "cell_type": "code",
   "execution_count": 319,
   "id": "6dd78f11-4351-4aa9-8df6-c8008242ac4c",
   "metadata": {},
   "outputs": [
    {
     "name": "stderr",
     "output_type": "stream",
     "text": [
      "GPU available: True (cuda), used: True\n",
      "TPU available: False, using: 0 TPU cores\n",
      "HPU available: False, using: 0 HPUs\n"
     ]
    }
   ],
   "source": [
    "trainer = pl.Trainer(\n",
    "    accelerator='gpu' if torch.cuda.is_available() else 'cpu',\n",
    "    devices=1,\n",
    "    default_root_dir=config['output_dir'],\n",
    "    precision=config.get('precision', 32),\n",
    ")"
   ]
  },
  {
   "cell_type": "code",
   "execution_count": 320,
   "id": "b42ec885-f3e2-42ad-8cd7-6d2d7514ded9",
   "metadata": {},
   "outputs": [
    {
     "name": "stderr",
     "output_type": "stream",
     "text": [
      "/home/ec2-user/anaconda3/envs/pytorch_p310/lib/python3.10/site-packages/pytorch_lightning/core/saving.py:191: Found keys that are in the model state dict but not in the checkpoint: ['pos']\n",
      "GPU available: True (cuda), used: True\n",
      "TPU available: False, using: 0 TPU cores\n",
      "HPU available: False, using: 0 HPUs\n"
     ]
    }
   ],
   "source": [
    "Niche_model = Nicheformer.load_from_checkpoint(model_path, strict=False)\n",
    "Niche_model.eval()  # Set to evaluation mode\n",
    "\n",
    "# Configure trainer\n",
    "trainer = pl.Trainer(\n",
    "    accelerator='gpu' if torch.cuda.is_available() else 'cpu',\n",
    "    devices=4,\n",
    "    default_root_dir=config['output_dir'],\n",
    "    precision=config.get('precision', 32),\n",
    ")"
   ]
  },
  {
   "cell_type": "code",
   "execution_count": 321,
   "id": "8824ac80-82de-4af1-91e6-2788ab40f830",
   "metadata": {},
   "outputs": [
    {
     "name": "stdout",
     "output_type": "stream",
     "text": [
      "Extracting embeddings...\n"
     ]
    },
    {
     "name": "stderr",
     "output_type": "stream",
     "text": [
      "100%|██████████| 504/504 [02:36<00:00,  3.22it/s]\n"
     ]
    }
   ],
   "source": [
    "print(\"Extracting embeddings...\")\n",
    "embeddings = []\n",
    "device = Niche_model.embeddings.weight.device\n",
    "\n",
    "with torch.no_grad():\n",
    "    for batch in tqdm(dataloader):\n",
    "        # Move batch to device\n",
    "        batch = {k: v.to(device) if isinstance(v, torch.Tensor) else v\n",
    "                for k, v in batch.items()}\n",
    "\n",
    "        # Get embeddings from the model\n",
    "        emb = Niche_model.get_embeddings(\n",
    "            batch=batch,\n",
    "            layer=config.get('embedding_layer', -1)  # Default to last layer\n",
    "        )\n",
    "        embeddings.append(emb.cpu().numpy())\n",
    "\n",
    "\n",
    "# Concatenate all embeddings\n",
    "embeddings = np.concatenate(embeddings, axis=0)"
   ]
  },
  {
   "cell_type": "raw",
   "id": "79479c7b-4e94-4cd5-9034-73a1c6601533",
   "metadata": {},
   "source": [
    "import pickle \n",
    "pickle.dump(embeddings, open(file = '/home/ec2-user/SageMaker/output_dir/embeddings_LC_NE'"
   ]
  },
  {
   "cell_type": "code",
   "execution_count": 331,
   "id": "c4cac8aa-9c52-423a-88b8-d1870424bcb1",
   "metadata": {},
   "outputs": [
    {
     "data": {
      "text/plain": [
       "AxisArrays with keys: "
      ]
     },
     "execution_count": 331,
     "metadata": {},
     "output_type": "execute_result"
    }
   ],
   "source": [
    "adata.obsm"
   ]
  },
  {
   "cell_type": "code",
   "execution_count": 339,
   "id": "79d86ab7-98de-4539-b0b4-7d852c957232",
   "metadata": {},
   "outputs": [],
   "source": [
    "adata.obsm['nicheformer'] = embeddings\n",
    "\n",
    "adata.write_h5ad('/home/ec2-user/SageMaker/output_dir/adata_sc_embedded.h5ad')"
   ]
  },
  {
   "cell_type": "code",
   "execution_count": null,
   "id": "98471c94-7ec9-4e78-9183-b8e403d9eeaa",
   "metadata": {},
   "outputs": [],
   "source": []
  },
  {
   "cell_type": "code",
   "execution_count": 338,
   "id": "1d1c5f50-2c29-4a40-960e-e313ac2fbad9",
   "metadata": {},
   "outputs": [
    {
     "ename": "NameError",
     "evalue": "name 'scvi' is not defined",
     "output_type": "error",
     "traceback": [
      "\u001b[0;31m---------------------------------------------------------------------------\u001b[0m",
      "\u001b[0;31mNameError\u001b[0m                                 Traceback (most recent call last)",
      "Cell \u001b[0;32mIn[338], line 2\u001b[0m\n\u001b[1;32m      1\u001b[0m adata\u001b[38;5;241m.\u001b[39mobsm[\u001b[38;5;124m'\u001b[39m\u001b[38;5;124mnicheformer\u001b[39m\u001b[38;5;124m'\u001b[39m] \u001b[38;5;241m=\u001b[39m embeddings\n\u001b[0;32m----> 2\u001b[0m adata\u001b[38;5;241m.\u001b[39mobsm[\u001b[38;5;124m'\u001b[39m\u001b[38;5;124mnicheformer_MDE\u001b[39m\u001b[38;5;124m'\u001b[39m] \u001b[38;5;241m=\u001b[39m \u001b[43mscvi\u001b[49m\u001b[38;5;241m.\u001b[39mmodel\u001b[38;5;241m.\u001b[39mutils\u001b[38;5;241m.\u001b[39mmde(adata\u001b[38;5;241m.\u001b[39mobsm[\u001b[38;5;124m'\u001b[39m\u001b[38;5;124mnicheformer\u001b[39m\u001b[38;5;124m'\u001b[39m], accelerator\u001b[38;5;241m=\u001b[39m\u001b[38;5;124m\"\u001b[39m\u001b[38;5;124mgpu\u001b[39m\u001b[38;5;124m\"\u001b[39m)\n",
      "\u001b[0;31mNameError\u001b[0m: name 'scvi' is not defined"
     ]
    }
   ],
   "source": [
    "\n",
    "adata.obsm['nicheformer_MDE'] = scvi.model.utils.mde(adata.obsm['nicheformer'], accelerator=\"gpu\")"
   ]
  },
  {
   "cell_type": "code",
   "execution_count": null,
   "id": "4f6b2e4c-6ec0-4a4f-86ce-cd35dcf26a32",
   "metadata": {},
   "outputs": [],
   "source": []
  },
  {
   "cell_type": "code",
   "execution_count": null,
   "id": "ba08cd5b-5c93-4db8-af43-34543227c8df",
   "metadata": {},
   "outputs": [],
   "source": []
  },
  {
   "cell_type": "code",
   "execution_count": 325,
   "id": "72ade71d-2dab-4427-849f-393588cd0bca",
   "metadata": {},
   "outputs": [],
   "source": [
    "import matplotlib.pyplot as plt"
   ]
  },
  {
   "cell_type": "code",
   "execution_count": 329,
   "id": "8ba44656-d8b2-4113-b16a-bfe11bfc21f2",
   "metadata": {},
   "outputs": [
    {
     "data": {
      "text/plain": [
       "<matplotlib.collections.PathCollection at 0x7f36fe92c670>"
      ]
     },
     "execution_count": 329,
     "metadata": {},
     "output_type": "execute_result"
    },
    {
     "data": {
      "image/png": "[encoded data removed]",
      "text/plain": [
       "<Figure size 640x480 with 1 Axes>"
      ]
     },
     "metadata": {},
     "output_type": "display_data"
    }
   ],
   "source": [
    "plt.scatter(embeddings[:,2],embeddings[:,3], s =1 )"
   ]
  },
  {
   "cell_type": "code",
   "execution_count": null,
   "id": "81186b92-b5e1-4ef2-b004-778e7ffc3f85",
   "metadata": {},
   "outputs": [],
   "source": []
  },
  {
   "cell_type": "code",
   "execution_count": null,
   "id": "054b71a9-89c1-4292-ab67-9d5c60da1e33",
   "metadata": {},
   "outputs": [],
   "source": []
  },
  {
   "cell_type": "code",
   "execution_count": null,
   "id": "4c9bdbdf-d8be-4af6-8665-a6163f288600",
   "metadata": {},
   "outputs": [],
   "source": []
  },
  {
   "cell_type": "code",
   "execution_count": null,
   "id": "bcdcabde-331e-47bf-bff0-709a27470607",
   "metadata": {},
   "outputs": [],
   "source": []
  },
  {
   "cell_type": "code",
   "execution_count": null,
   "id": "39057779-5aa7-437a-8289-10bfbd56d347",
   "metadata": {},
   "outputs": [],
   "source": []
  },
  {
   "cell_type": "code",
   "execution_count": null,
   "id": "71d8f0ac-a991-4928-8244-0e710649acb5",
   "metadata": {},
   "outputs": [],
   "source": []
  },
  {
   "cell_type": "code",
   "execution_count": null,
   "id": "d580eb2c-57f7-415c-ab30-d22807bc6532",
   "metadata": {},
   "outputs": [],
   "source": []
  },
  {
   "cell_type": "code",
   "execution_count": null,
   "id": "f087051c-ab1d-48f7-b257-c90ac1c0dbdd",
   "metadata": {},
   "outputs": [],
   "source": []
  },
  {
   "cell_type": "code",
   "execution_count": null,
   "id": "b55ba290-67ef-4a56-9a9c-c2617adac779",
   "metadata": {},
   "outputs": [],
   "source": []
  },
  {
   "cell_type": "code",
   "execution_count": null,
   "id": "c566c436-3ab4-42b2-9c37-fbd4e11db675",
   "metadata": {},
   "outputs": [],
   "source": []
  },
  {
   "cell_type": "code",
   "execution_count": null,
   "id": "07386735-c85d-48bb-8b26-d995c7cc9cfc",
   "metadata": {},
   "outputs": [],
   "source": []
  }
 ],
 "metadata": {
  "kernelspec": {
   "display_name": "conda_pytorch_p310",
   "language": "python",
   "name": "conda_pytorch_p310"
  },
  "language_info": {
   "codemirror_mode": {
    "name": "ipython",
    "version": 3
   },
   "file_extension": ".py",
   "mimetype": "text/x-python",
   "name": "python",
   "nbconvert_exporter": "python",
   "pygments_lexer": "ipython3",
   "version": "3.10.14"
  }
 },
 "nbformat": 4,
 "nbformat_minor": 5
}
