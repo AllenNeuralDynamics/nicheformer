{
 "cells": [
  {
   "cell_type": "code",
   "execution_count": 1,
   "id": "515cad8a-6d4a-4290-93b9-30b06311a66d",
   "metadata": {},
   "outputs": [],
   "source": [
    "%load_ext autoreload\n",
    "%autoreload 2"
   ]
  },
  {
   "cell_type": "code",
   "execution_count": 2,
   "id": "d75c1db3-faf1-493a-8002-1011d3841a9c",
   "metadata": {},
   "outputs": [],
   "source": [
    "import os\n",
    "current_path = os.getcwd()"
   ]
  },
  {
   "cell_type": "code",
   "execution_count": 3,
   "id": "f59ea652-0408-47f3-9143-908a255b074c",
   "metadata": {},
   "outputs": [
    {
     "data": {
      "text/plain": [
       "'/home/ec2-user/SageMaker'"
      ]
     },
     "execution_count": 3,
     "metadata": {},
     "output_type": "execute_result"
    }
   ],
   "source": [
    "current_path"
   ]
  },
  {
   "cell_type": "code",
   "execution_count": null,
   "id": "2c5c959c-7efc-496d-80e0-d15461123b1f",
   "metadata": {},
   "outputs": [],
   "source": []
  },
  {
   "cell_type": "code",
   "execution_count": 4,
   "id": "1014a3aa-ec37-4e19-83ab-d1547c2cc9e7",
   "metadata": {},
   "outputs": [
    {
     "data": {
      "text/plain": [
       "'/home/ec2-user/SageMaker/test_data/dissociated/raw_data_GSE172127.tar'"
      ]
     },
     "execution_count": 4,
     "metadata": {},
     "output_type": "execute_result"
    }
   ],
   "source": [
    "geo_id = 'GSE172127'\n",
    "\n",
    "f\"/home/ec2-user/SageMaker/test_data/dissociated/raw_data_{geo_id}.tar\"\n"
   ]
  },
  {
   "cell_type": "code",
   "execution_count": 5,
   "id": "34eac553-9a63-486a-a9ff-c463c528cff8",
   "metadata": {},
   "outputs": [],
   "source": [
    "import anndata\n",
    "import os \n",
    "import sys\n",
    "import pandas as pd\n",
    "import scanpy as sc\n",
    "from tqdm import tqdm\n"
   ]
  },
  {
   "cell_type": "code",
   "execution_count": 6,
   "id": "a9c55bc4-f2f1-4dc8-85e1-e3e07e7ff282",
   "metadata": {},
   "outputs": [],
   "source": [
    "from nicheformer.data.validate import validate\n",
    "from nicheformer.data.constants import DefaultPaths, ObsConstants, UnsConstants, VarConstants, AssayOntologyTermId, SexOntologyTermId, OrganismOntologyTermId, TissueOntologyTermId, SuspensionTypeId\n",
    "from nicheformer.data.tools import qc_filter\n",
    "from nicheformer.data.validate import validate\n",
    "from nicheformer.data.download import download_tar\n",
    "from nicheformer.data.constants import GeneExpressionOmnibus, DefaultPaths\n"
   ]
  },
  {
   "cell_type": "code",
   "execution_count": 7,
   "id": "35707a31-d8b9-4021-8daa-cd7a03e682aa",
   "metadata": {},
   "outputs": [],
   "source": [
    "raw_path = f\"/home/ec2-user/SageMaker/test_data/\"\n",
    "preprocessed_path = f\"/home/ec2-user/SageMaker/test-data/preprocessed\"\n"
   ]
  },
  {
   "cell_type": "code",
   "execution_count": 8,
   "id": "157ebfe4-5358-46df-b383-b3746f959b78",
   "metadata": {},
   "outputs": [],
   "source": [
    "geo_id = 'GSE172127'\n",
    "doi = \"10.1038/s41421-021-00266-1\""
   ]
  },
  {
   "cell_type": "code",
   "execution_count": 9,
   "id": "0622e199-1c2a-4f86-b969-d02a557d1206",
   "metadata": {},
   "outputs": [],
   "source": [
    "\n",
    "## manual entries that are equal across the dataset\n",
    "assay = str(AssayOntologyTermId.TENX_3V2.value)\n",
    "sex = str(SexOntologyTermId.FEMALE.value)\n",
    "organism = str(OrganismOntologyTermId.MOUSE.value)\n",
    "organism_validator = \"mouse\"\n",
    "tissue = str(TissueOntologyTermId.LIVER.value)\n",
    "suspension_type = str(SuspensionTypeId.SMART_SEQ_CELL.value)\n",
    "tissue_type = \"tissue\" # or alternatively \"organoid\"\n",
    "condition_id = \"wild type\"\n"
   ]
  },
  {
   "cell_type": "code",
   "execution_count": 10,
   "id": "b9e8e032-71d7-488a-8e1b-2358808885f5",
   "metadata": {},
   "outputs": [
    {
     "name": "stderr",
     "output_type": "stream",
     "text": [
      "GSE172127: 100%|██████████| 1/1 [00:06<00:00,  6.51s/it]\n"
     ]
    }
   ],
   "source": [
    "sample_ids = [\"GSM5242402_E14.5FL\"]\n",
    "adatas = []\n",
    "with tqdm(total=len(sample_ids), desc =geo_id) as pbar:\n",
    "    for sample in sample_ids:\n",
    "        adata = sc.read_mtx(f\"{raw_path}/dissociated/{sample}_matrix.mtx.gz\").T\n",
    "        features = pd.read_table(f\"{raw_path}/dissociated/{sample}_features.tsv.gz\", index_col=0, header=None)\n",
    "        features.columns = [\"gene_name\", \"feature_types\"]\n",
    "        features.index.name = 'gene_ids'\n",
    "        barcodes = pd.read_table(f\"{raw_path}/dissociated/{sample}_barcodes.tsv.gz\", index_col=0, header=None)\n",
    "        barcodes.index.name = None\n",
    "        adata.var = features\n",
    "        adata.obs = barcodes\n",
    "\n",
    "        # Ontology terms defined for AnnData object\n",
    "        adata.obs[ObsConstants.ASSAY_ONTOLOGY_TERM_ID] = pd.Categorical([assay for i in range(len(adata))])\n",
    "        adata.obs[ObsConstants.SEX_ONTOLOGY_TERM_ID] = pd.Categorical([sex for i in range(len(adata))])\n",
    "        adata.obs[ObsConstants.ORGANISM_ONTOLOGY_TERM_ID] = pd.Categorical([organism for i in range(len(adata))])\n",
    "        adata.obs[ObsConstants.TISSUE_ONTOLOGY_TERM_ID] = pd.Categorical([tissue for i in range(len(adata))])\n",
    "        adata.obs[ObsConstants.SUSPENSION_TYPE] = pd.Categorical([suspension_type for i in range(len(adata))])\n",
    "\n",
    "        # NicheFormer data schema\n",
    "        adata.obs[ObsConstants.CONDITION_ID] = pd.Categorical([condition_id for i in range(len(adata))])\n",
    "        adata.obs[ObsConstants.DONOR_ID] = pd.Categorical([sample for i in range(len(adata))])\n",
    "        adata.obs[ObsConstants.TISSUE_TYPE] = pd.Categorical([tissue_type for i in range(len(adata))])\n",
    "\n",
    "        adatas.append(adata)\n",
    "        pbar.update(1)\n"
   ]
  },
  {
   "cell_type": "code",
   "execution_count": 11,
   "id": "33376365-95f8-4a89-b856-55f915f29f5e",
   "metadata": {},
   "outputs": [
    {
     "name": "stdout",
     "output_type": "stream",
     "text": [
      "\n",
      "Performing basic quality control for GSE172127.\n",
      "AnnData object before filtering has 9448 cells and 28692 genes.\n",
      "AnnData object after cell filtering: 9448 cells, 28692 genes.\n",
      "AnnData object after gene filtering: 9448 cells, 15454 genes.\n"
     ]
    }
   ],
   "source": [
    "\n",
    "adata = anndata.concat(adatas, index_unique='_')\n",
    "adata.uns[UnsConstants.TITLE] = doi\n",
    "adata.var[VarConstants.FEATURE_IS_FILTERED] = False\n",
    "\n",
    "# after concatenation these are dtype=object, but need to be category\n",
    "adata.obs[ObsConstants.CONDITION_ID] = adata.obs[ObsConstants.CONDITION_ID].astype('category')\n",
    "adata.obs[ObsConstants.DONOR_ID] = adata.obs[ObsConstants.DONOR_ID].astype('category')\n",
    "\n",
    "# run basic filtering with default values\n",
    "print(f\"\\nPerforming basic quality control for {geo_id}.\")\n",
    "adata = qc_filter(adata=adata)\n"
   ]
  },
  {
   "cell_type": "code",
   "execution_count": 12,
   "id": "3707f7a4-99df-4fa8-a0f4-e088bcd66753",
   "metadata": {},
   "outputs": [
    {
     "name": "stderr",
     "output_type": "stream",
     "text": [
      "WARNING: Found 149 invalid genes, subsetting anndata\n"
     ]
    },
    {
     "name": "stdout",
     "output_type": "stream",
     "text": [
      "\n",
      "Validating GSE172127.\n"
     ]
    },
    {
     "name": "stderr",
     "output_type": "stream",
     "text": [
      "Starting validation...\n",
      "WARNING: Dataframe 'var' only has 15305 rows. Features SHOULD NOT be filtered from expression matrix.\n",
      "WARNING: Only raw data was found, i.e. there is no 'raw.X'. It is STRONGLY RECOMMENDED that 'final' (normalized) data is provided.\n",
      "Validation complete in 0:00:01.849675 with status is_valid=True\n",
      "Writing labels\n",
      "enforce canonical format in X\n",
      "H5AD label writing complete in 0:00:31.688287\n"
     ]
    },
    {
     "name": "stdout",
     "output_type": "stream",
     "text": [
      "DONE: Successfully preprocessed GSE172127, validation completed with status is_valid=True.\n",
      "\n",
      "WRITING PREPROCESSED FILE TO: GSE172127.h5ad\n"
     ]
    }
   ],
   "source": [
    "\n",
    "# run validator\n",
    "print(f\"\\nValidating {geo_id}.\")\n",
    "adata_output, valid, errors, is_seurat_convertible = validate(adata, organism=organism_validator)\n",
    "\n",
    "if valid:\n",
    "    print(f\"DONE: Successfully preprocessed {geo_id}, validation completed with status is_valid={valid}.\")\n",
    "    print(f\"\\nWRITING PREPROCESSED FILE TO: {geo_id}.h5ad\")\n",
    "    # adata_output.write(f\"{preprocessed_path}/{geo_id}.h5ad\")\n",
    "else:\n",
    "    print(f\"ERROR: Preprocessing of {geo_id} failed, validation completed with status is_valid={valid}.\")"
   ]
  },
  {
   "cell_type": "code",
   "execution_count": null,
   "id": "7038f0e3-fc5a-4a53-b4d3-c87f622c7f1a",
   "metadata": {},
   "outputs": [],
   "source": []
  },
  {
   "cell_type": "code",
   "execution_count": null,
   "id": "24430631-584f-4678-b6a0-4eeece550a65",
   "metadata": {},
   "outputs": [],
   "source": []
  },
  {
   "cell_type": "code",
   "execution_count": null,
   "id": "25b9279c-aaaf-494c-9277-6b8944230afe",
   "metadata": {},
   "outputs": [],
   "source": []
  },
  {
   "cell_type": "code",
   "execution_count": null,
   "id": "c14f46c0-7b41-4a0a-9551-5f6e0b933a7f",
   "metadata": {},
   "outputs": [],
   "source": []
  },
  {
   "cell_type": "code",
   "execution_count": null,
   "id": "cfe4c1eb-e00d-4021-8641-3a367a6ee175",
   "metadata": {},
   "outputs": [],
   "source": []
  },
  {
   "cell_type": "code",
   "execution_count": null,
   "id": "c932cfb7-f6c7-4668-9289-0a77f2d2f0b7",
   "metadata": {},
   "outputs": [],
   "source": []
  },
  {
   "cell_type": "code",
   "execution_count": null,
   "id": "422bf581-9a20-451e-a155-a4aa3524b572",
   "metadata": {},
   "outputs": [],
   "source": []
  },
  {
   "cell_type": "code",
   "execution_count": null,
   "id": "b45ab908-6ccf-4e88-8d83-59aade392f79",
   "metadata": {},
   "outputs": [],
   "source": []
  },
  {
   "cell_type": "code",
   "execution_count": null,
   "id": "636b0880-b34f-43cb-bac2-91f1603abfce",
   "metadata": {},
   "outputs": [],
   "source": []
  },
  {
   "cell_type": "code",
   "execution_count": null,
   "id": "1f199fde-c8c2-4941-9e84-34945ffa1d56",
   "metadata": {},
   "outputs": [],
   "source": []
  },
  {
   "cell_type": "code",
   "execution_count": null,
   "id": "59d5feac-7c7a-4dc0-8baa-d624de87c4a4",
   "metadata": {},
   "outputs": [],
   "source": []
  },
  {
   "cell_type": "code",
   "execution_count": null,
   "id": "e9c80f4d-5e66-42bd-baf0-afaba883e7b5",
   "metadata": {},
   "outputs": [],
   "source": []
  },
  {
   "cell_type": "code",
   "execution_count": null,
   "id": "5d7f0dca-475e-4d0b-9fe8-adfabe87a780",
   "metadata": {},
   "outputs": [],
   "source": []
  },
  {
   "cell_type": "code",
   "execution_count": null,
   "id": "bae056d8-ab6e-490a-9302-4aa32163cc13",
   "metadata": {},
   "outputs": [],
   "source": []
  },
  {
   "cell_type": "code",
   "execution_count": null,
   "id": "9e8c7f8a-45f1-40cd-b16d-25ef8f334da0",
   "metadata": {},
   "outputs": [],
   "source": []
  },
  {
   "cell_type": "code",
   "execution_count": null,
   "id": "ebfae47c-1111-47ef-8d43-19ad4c4b928b",
   "metadata": {},
   "outputs": [],
   "source": []
  },
  {
   "cell_type": "code",
   "execution_count": null,
   "id": "56997196-74aa-48a2-8df6-e6774897c0d7",
   "metadata": {},
   "outputs": [],
   "source": []
  },
  {
   "cell_type": "code",
   "execution_count": null,
   "id": "72ad1650-4b06-40cd-a470-9fd71d88d3ef",
   "metadata": {},
   "outputs": [],
   "source": []
  },
  {
   "cell_type": "code",
   "execution_count": null,
   "id": "027e273b-2ddc-4aa6-8afa-3f26fdd588f2",
   "metadata": {},
   "outputs": [],
   "source": []
  }
 ],
 "metadata": {
  "kernelspec": {
   "display_name": "conda_pytorch_p310",
   "language": "python",
   "name": "conda_pytorch_p310"
  },
  "language_info": {
   "codemirror_mode": {
    "name": "ipython",
    "version": 3
   },
   "file_extension": ".py",
   "mimetype": "text/x-python",
   "name": "python",
   "nbconvert_exporter": "python",
   "pygments_lexer": "ipython3",
   "version": "3.10.14"
  }
 },
 "nbformat": 4,
 "nbformat_minor": 5
}
