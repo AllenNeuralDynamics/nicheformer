{
 "cells": [
  {
   "cell_type": "markdown",
   "id": "a4fb22ea-ecba-42f8-a01f-3baa2192fd2a",
   "metadata": {},
   "source": [
    "# CosMx human lung"
   ]
  },
  {
   "cell_type": "markdown",
   "id": "299ebfd4-3c56-4e5d-8e5d-505aac7967a5",
   "metadata": {},
   "source": [
    "This notebook is used to tokenize the CosMx human lung dataset and generate dataset statistics for figures in nicheformer. "
   ]
  },
  {
   "cell_type": "markdown",
   "id": "7d8d882c-3956-4e78-ad0f-cbce912a6417",
   "metadata": {},
   "source": [
    "## Imports and definitions"
   ]
  },
  {
   "cell_type": "code",
   "execution_count": 3,
   "id": "256da0bd-99d3-483f-a30c-33f3e7c5d892",
   "metadata": {},
   "outputs": [],
   "source": [
    "import scanpy as sc\n",
    "import anndata as ad\n",
    "import pandas as pd\n",
    "import numpy as np\n",
    "import math\n",
    "import numba\n",
    "from scipy.sparse import issparse\n",
    "from sklearn.utils import sparsefuncs\n",
    "\n",
    "import pyarrow.parquet as pq\n",
    "import pyarrow\n",
    "from os.path import join\n",
    "from tqdm import tqdm"
   ]
  },
  {
   "cell_type": "code",
   "execution_count": 4,
   "id": "3684f8bd-7c45-43df-9f26-18e6e6ef7c1c",
   "metadata": {},
   "outputs": [],
   "source": [
    "modality_dict = {\n",
    "    'dissociated': 3,\n",
    "    'spatial': 4,}\n",
    "\n",
    "specie_dict = {\n",
    "    'human': 5,\n",
    "    'Homo sapiens': 5,\n",
    "    'Mus musculus': 6,\n",
    "    'mouse': 6,}\n",
    "\n",
    "technology_dict = {\n",
    "    \"merfish\": 7,\n",
    "    \"MERFISH\": 7,\n",
    "    \"cosmx\": 8,\n",
    "    \"NanoString digital spatial profiling\": 8,\n",
    "    \"visium\": 9,\n",
    "    \"10x 5' v2\": 10,\n",
    "    \"10x 3' v3\": 11,\n",
    "    \"10x 3' v2\": 12,\n",
    "    \"10x 5' v1\": 13,\n",
    "    \"10x 3' v1\": 14,\n",
    "    \"10x 3' transcription profiling\": 15, \n",
    "    \"10x transcription profiling\": 15,\n",
    "    \"10x 5' transcription profiling\": 16,\n",
    "    \"CITE-seq\": 17, \n",
    "    \"Smart-seq v4\": 18,\n",
    "}\n",
    "\n",
    "author_cell_type_dict = {\n",
    "    'B-cell': 0, \n",
    "    'NK': 1, \n",
    "    'T CD4 memory': 2, \n",
    "    'T CD4 naive': 3, \n",
    "    'T CD8 memory': 4,\n",
    "    'T CD8 naive': 5, \n",
    "    'Treg': 6, \n",
    "    'endothelial': 7, \n",
    "    'epithelial': 8, \n",
    "    'fibroblast': 9,\n",
    "    'mDC': 10, \n",
    "    'macrophage': 11, \n",
    "    'mast': 12, \n",
    "    'monocyte': 13, \n",
    "    'neutrophil': 14, \n",
    "    'pDC': 15,\n",
    "    'plasmablast': 16, \n",
    "    'tumor 12': 17, \n",
    "    'tumor 13': 18, \n",
    "    'tumor 5': 19, \n",
    "    'tumor 6': 20,\n",
    "    'tumor 9': 21\n",
    "}\n",
    "\n",
    "niche_label_dict = {\n",
    "    'immune': 0, \n",
    "    'lymphoid structure': 1, \n",
    "    'macrophages': 2,\n",
    "    'myeloid-enriched stroma': 3, \n",
    "    'neutrophils': 4,\n",
    "    'plasmablast-enriched stroma': 5, \n",
    "    'stroma': 6, \n",
    "    'tumor interior': 7,\n",
    "    'tumor-stroma boundary': 8\n",
    "}\n",
    "\n",
    "region_label_dict = {\n",
    "    'nan': 0\n",
    "}"
   ]
  },
  {
   "cell_type": "markdown",
   "id": "96929892-0848-4b5b-b520-5a8d0e4c871a",
   "metadata": {},
   "source": [
    "## Paths"
   ]
  },
  {
   "cell_type": "code",
   "execution_count": 2,
   "id": "29ad06d1-2d08-4407-b5b6-d1c5774aaf8d",
   "metadata": {},
   "outputs": [],
   "source": [
    "BASE_PATH = '../../data/model_means'\n",
    "DATA_PATH = '' # specify path to raw nicheformer-data object for the cosmy human lung data\n",
    "OUT_PATH = '' # specify saving  path"
   ]
  },
  {
   "cell_type": "markdown",
   "id": "802be927-5bae-446c-a6e3-d3ab97db0224",
   "metadata": {},
   "source": [
    "## Tokenization functions"
   ]
  },
  {
   "cell_type": "code",
   "execution_count": 5,
   "id": "28de14d8-bf32-47cb-86f1-db06bd9e6b37",
   "metadata": {},
   "outputs": [],
   "source": [
    "def sf_normalize(X):\n",
    "    X = X.copy()\n",
    "    counts = np.array(X.sum(axis=1))\n",
    "    # avoid zero devision error\n",
    "    counts += counts == 0.\n",
    "    # normalize to 10000. counts\n",
    "    scaling_factor = 10000. / counts\n",
    "\n",
    "    if issparse(X):\n",
    "        sparsefuncs.inplace_row_scale(X, scaling_factor)\n",
    "    else:\n",
    "        np.multiply(X, scaling_factor.reshape((-1, 1)), out=X)\n",
    "\n",
    "    return X\n",
    "\n",
    "@numba.jit(nopython=True, nogil=True)\n",
    "def _sub_tokenize_data(x: np.array, max_seq_len: int = -1, aux_tokens: int = 30):\n",
    "    scores_final = np.empty((x.shape[0], max_seq_len if max_seq_len > 0 else x.shape[1]))\n",
    "    for i, cell in enumerate(x):\n",
    "        nonzero_mask = np.nonzero(cell)[0]    \n",
    "        sorted_indices = nonzero_mask[np.argsort(-cell[nonzero_mask])][:max_seq_len] \n",
    "        sorted_indices = sorted_indices + aux_tokens # we reserve some tokens for padding etc (just in case)\n",
    "        if max_seq_len:\n",
    "            scores = np.zeros(max_seq_len, dtype=np.int32)\n",
    "        else:\n",
    "            scores = np.zeros_like(cell, dtype=np.int32)\n",
    "        scores[:len(sorted_indices)] = sorted_indices.astype(np.int32)\n",
    "        \n",
    "        scores_final[i, :] = scores\n",
    "        \n",
    "    return scores_final\n",
    "\n",
    "\n",
    "def tokenize_data(x: np.array, median_counts_per_gene: np.array, max_seq_len: int = None):\n",
    "    \"\"\"Tokenize the input gene vector to a vector of 32-bit integers.\"\"\"\n",
    "\n",
    "    x = np.nan_to_num(x) # is NaN values, fill with 0s\n",
    "    x = sf_normalize(x)\n",
    "    median_counts_per_gene += median_counts_per_gene == 0\n",
    "    out = x / median_counts_per_gene.reshape((1, -1))\n",
    "\n",
    "    scores_final = _sub_tokenize_data(out, 4096, 30)\n",
    "\n",
    "    return scores_final.astype('i4')"
   ]
  },
  {
   "cell_type": "markdown",
   "id": "3cd67eae-0709-47fc-b741-33bf272b2102",
   "metadata": {},
   "source": [
    "## Loading model with right gene ordering"
   ]
  },
  {
   "cell_type": "code",
   "execution_count": 6,
   "id": "73327539-b1c2-48ae-a55c-1722fb53ce1e",
   "metadata": {},
   "outputs": [],
   "source": [
    "model = sc.read_h5ad(\"nicheformer/data/model_means/model.h5ad\")"
   ]
  },
  {
   "cell_type": "markdown",
   "id": "377f0d17-1202-4a95-9315-42df4977464f",
   "metadata": {},
   "source": [
    "## Technology mean"
   ]
  },
  {
   "cell_type": "code",
   "execution_count": 7,
   "id": "3d42085f-42bc-4ebf-85e4-4bee505d883c",
   "metadata": {},
   "outputs": [],
   "source": [
    "cosmx_mean = np.load(\"/home/ec2-user/SageMaker/nicheformer/data/model_means/cosmx_mean_script.npy\")"
   ]
  },
  {
   "cell_type": "code",
   "execution_count": 8,
   "id": "93b64e00-e388-4a40-8c4e-472964c3c265",
   "metadata": {},
   "outputs": [
    {
     "data": {
      "text/plain": [
       "array([1., 1., 1., ..., 1., 1., 1.])"
      ]
     },
     "execution_count": 8,
     "metadata": {},
     "output_type": "execute_result"
    }
   ],
   "source": [
    "cosmx_mean = np.nan_to_num(cosmx_mean)\n",
    "rounded_values = np.where((cosmx_mean % 1) >= 0.5, np.ceil(cosmx_mean), np.floor(cosmx_mean))\n",
    "cosmx_mean = np.where(cosmx_mean == 0, 1, rounded_values)\n",
    "cosmx_mean"
   ]
  },
  {
   "cell_type": "markdown",
   "id": "e5095886-5dce-4de9-b884-57706f11ca96",
   "metadata": {},
   "source": [
    "## Loading CosMx lung data"
   ]
  },
  {
   "cell_type": "code",
   "execution_count": 3,
   "id": "5325759c-e53c-4021-a523-bd62064dc852",
   "metadata": {},
   "outputs": [
    {
     "data": {
      "text/plain": [
       "AnnData object with n_obs × n_vars = 771236 × 960\n",
       "    obs: 'AspectRatio', 'CenterX_global_px', 'CenterY_global_px', 'Width', 'Height', 'Mean.MembraneStain', 'Max.MembraneStain', 'Mean.PanCK', 'Max.PanCK', 'Mean.CD45', 'Max.CD45', 'Mean.CD3', 'Max.CD3', 'Mean.DAPI', 'Max.DAPI', 'niche', 'image_id', 'cell_ID', 'sex_ontology_term_id', 'assay_ontology_term_id', 'organism_ontology_term_id', 'tissue_ontology_term_id', 'suspension_type', 'tissue_type', 'condition_id', 'sample_id', 'donor_id', 'author_cell_type', 'library_key', 'region', 'assay', 'organism', 'sex', 'tissue', 'dataset', 'x', 'y', 'nicheformer_split', '_scvi_batch', '_scvi_labels'\n",
       "    var: 'level_0', 'index', 'feature_is_filtered', 'feature_name', 'feature_reference', 'feature_biotype'\n",
       "    uns: '_scvi_manager_uuid', '_scvi_uuid', 'log1p', 'niche', 'nicheformer_version', 'schema_version', 'title'\n",
       "    obsm: 'X_niche_0', 'X_niche_1', 'X_niche_2', 'X_niche_3', 'X_niche_4', 'X_pca', 'X_scvi', 'spatial'\n",
       "    layers: 'log1p', 'raw'"
      ]
     },
     "execution_count": 3,
     "metadata": {},
     "output_type": "execute_result"
    }
   ],
   "source": [
    "cosmx = sc.read_h5ad(f\"{DATA_PATH}/nanostring_lung_annotated.h5ad\")\n",
    "cosmx"
   ]
  },
  {
   "cell_type": "markdown",
   "id": "6a5d8f16-7e3d-49a8-bad0-7f19f99722f3",
   "metadata": {},
   "source": [
    "## Concatenation\n",
    "Next we concatenate the `model` and the `cosmx` object to ensure they are in the same order. This ensures we have the same gene ordering in the object."
   ]
  },
  {
   "cell_type": "code",
   "execution_count": 17,
   "id": "ecb43179-ca94-4046-8f4d-de59695170b0",
   "metadata": {},
   "outputs": [],
   "source": [
    "adata = ad.concat([model, cosmx], join='outer', axis=0)\n",
    "# dropping the first observation \n",
    "cosmx = adata[1:].copy()\n",
    "# for memory efficiency \n",
    "del adata"
   ]
  },
  {
   "cell_type": "code",
   "execution_count": 18,
   "id": "6a1b2758-b160-4251-90ff-a1f613605004",
   "metadata": {},
   "outputs": [],
   "source": [
    "cosmx.obs = cosmx.obs[\n",
    "    ['assay', 'organism', 'nicheformer_split', 'batch', 'niche', 'region', 'author_cell_type']\n",
    "]\n",
    "cosmx.obs['modality'] = 'spatial'\n",
    "cosmx.obs['specie'] = cosmx.obs.organism"
   ]
  },
  {
   "cell_type": "code",
   "execution_count": 19,
   "id": "b0f5345f-d64a-4959-91be-b1829cc95b3a",
   "metadata": {},
   "outputs": [],
   "source": [
    "cosmx.obs.replace({'specie': specie_dict}, inplace=True)\n",
    "cosmx.obs.replace({'modality': modality_dict}, inplace=True)\n",
    "cosmx.obs.replace({'assay': technology_dict}, inplace=True)\n",
    "cosmx.obs.replace({'author_cell_type': author_cell_type_dict}, inplace=True)\n",
    "cosmx.obs.replace({'niche': niche_label_dict}, inplace=True)\n",
    "cosmx.obs.replace({'region': region_label_dict}, inplace=True)"
   ]
  },
  {
   "cell_type": "markdown",
   "id": "162b6c14-6a13-420c-a001-f79436056f10",
   "metadata": {},
   "source": [
    "## Tokenize train data\n",
    "\n",
    "We know tokenize the train partition of the dataset. "
   ]
  },
  {
   "cell_type": "code",
   "execution_count": 20,
   "id": "6ebd454e-ee66-464d-9c6a-fff8839111ac",
   "metadata": {},
   "outputs": [],
   "source": [
    "SPLIT = 'train'"
   ]
  },
  {
   "cell_type": "code",
   "execution_count": 21,
   "id": "3a101b7f-45c5-4b26-904a-ba7bd32b6163",
   "metadata": {},
   "outputs": [],
   "source": [
    "# subsetting the anndata object\n",
    "cosmx_split = cosmx[cosmx.obs.nicheformer_split == SPLIT].copy()\n",
    "# dropping the index as the original index can create issues \n",
    "cosmx_split.obs.reset_index(drop=True, inplace=True)\n",
    "# writing the data\n",
    "cosmx_split.write(f\"{OUT_PATH}/cosmx_human_lung_{SPLIT}_ready_to_tokenize.h5ad\")"
   ]
  },
  {
   "cell_type": "code",
   "execution_count": 22,
   "id": "b98d6383-d2d7-4547-acff-f69159876ae0",
   "metadata": {},
   "outputs": [
    {
     "name": "stdout",
     "output_type": "stream",
     "text": [
      "n_obs:  602123\n",
      "N_BATCHES:  61\n",
      "chunk_len:  9871\n"
     ]
    }
   ],
   "source": [
    "obs_cosmx_split = cosmx_split.obs\n",
    "print('n_obs: ', obs_cosmx_split.shape[0])\n",
    "N_BATCHES = math.ceil(obs_cosmx_split.shape[0] / 10_000)\n",
    "print('N_BATCHES: ', N_BATCHES)\n",
    "batch_cosmx_indices = np.array_split(obs_cosmx_split.index, N_BATCHES)\n",
    "chunk_len = len(batch_cosmx_indices[0])\n",
    "print('chunk_len: ', chunk_len)"
   ]
  },
  {
   "cell_type": "code",
   "execution_count": 23,
   "id": "53c79e38-4579-48c7-b007-54b0c1f24670",
   "metadata": {},
   "outputs": [],
   "source": [
    "obs_cosmx_split = obs_cosmx_split.reset_index().rename(columns={'index':'idx'})\n",
    "obs_cosmx_split['idx'] = obs_cosmx_split['idx'].astype('i8')"
   ]
  },
  {
   "cell_type": "code",
   "execution_count": 24,
   "id": "ce30df67-ffe2-4ddc-b697-9b6d695e865b",
   "metadata": {},
   "outputs": [
    {
     "name": "stdout",
     "output_type": "stream",
     "text": [
      "Tokenizing train\n"
     ]
    },
    {
     "name": "stderr",
     "output_type": "stream",
     "text": [
      "100%|███████████████████████████████████████████| 61/61 [03:17<00:00,  3.24s/it]\n"
     ]
    }
   ],
   "source": [
    "print(f\"Tokenizing {SPLIT}\")\n",
    "for batch in tqdm(range(N_BATCHES)):\n",
    "    obs_tokens = obs_cosmx_split.iloc[batch*chunk_len:chunk_len*(batch+1)].copy()\n",
    "    cosmx_tokenized = tokenize_data(cosmx_split.X[batch*chunk_len:chunk_len*(batch+1)], cosmx_mean, 4096)\n",
    "\n",
    "    obs_tokens = obs_tokens[['assay', 'specie', 'modality', 'idx', 'author_cell_type', 'niche', 'region']]\n",
    "    # concatenate dataframes\n",
    "    \n",
    "    obs_tokens['X'] = [cosmx_tokenized[i, :] for i in range(cosmx_tokenized.shape[0])]\n",
    "    \n",
    "    for i in np.arange(5):\n",
    "        niche = cosmx_split.obsm[f\"X_niche_{i}\"].toarray()[batch*chunk_len:chunk_len*(batch+1)]\n",
    "        obs_tokens[f\"X_niche_{i}\"] = [niche[i, :] for i in range(niche.shape[0])]\n",
    "\n",
    "    # mix spatial and dissociate data\n",
    "    obs_tokens = obs_tokens.sample(frac=1)\n",
    "    \n",
    "    total_table = pyarrow.Table.from_pandas(obs_tokens)\n",
    "    \n",
    "    pq.write_table(total_table, f'{join(OUT_PATH, SPLIT)}/tokens-{batch}.parquet',\n",
    "                    row_group_size=1024,)"
   ]
  },
  {
   "cell_type": "code",
   "execution_count": 25,
   "id": "5e067e8e-68c3-4177-9ed4-d706fc38b93b",
   "metadata": {},
   "outputs": [
    {
     "data": {
      "text/html": [
       "<div>\n",
       "<style scoped>\n",
       "    .dataframe tbody tr th:only-of-type {\n",
       "        vertical-align: middle;\n",
       "    }\n",
       "\n",
       "    .dataframe tbody tr th {\n",
       "        vertical-align: top;\n",
       "    }\n",
       "\n",
       "    .dataframe thead th {\n",
       "        text-align: right;\n",
       "    }\n",
       "</style>\n",
       "<table border=\"1\" class=\"dataframe\">\n",
       "  <thead>\n",
       "    <tr style=\"text-align: right;\">\n",
       "      <th></th>\n",
       "      <th>assay</th>\n",
       "      <th>specie</th>\n",
       "      <th>modality</th>\n",
       "      <th>idx</th>\n",
       "      <th>author_cell_type</th>\n",
       "      <th>niche</th>\n",
       "      <th>region</th>\n",
       "      <th>X</th>\n",
       "      <th>X_niche_0</th>\n",
       "      <th>X_niche_1</th>\n",
       "      <th>X_niche_2</th>\n",
       "      <th>X_niche_3</th>\n",
       "      <th>X_niche_4</th>\n",
       "    </tr>\n",
       "  </thead>\n",
       "  <tbody>\n",
       "    <tr>\n",
       "      <th>593988</th>\n",
       "      <td>8</td>\n",
       "      <td>5</td>\n",
       "      <td>4</td>\n",
       "      <td>593988</td>\n",
       "      <td>2</td>\n",
       "      <td>8</td>\n",
       "      <td>0</td>\n",
       "      <td>[252, 18331, 2140, 2853, 8959, 14989, 12294, 7...</td>\n",
       "      <td>[0.0, 0.0, 0.0, 0.0, 0.0, 0.0, 0.0, 0.0, 0.0, ...</td>\n",
       "      <td>[0.0, 0.0, 3.0, 0.0, 1.0, 0.0, 0.0, 0.0, 0.0, ...</td>\n",
       "      <td>[0.0, 0.0, 5.0, 0.0, 1.0, 0.0, 0.0, 0.0, 0.0, ...</td>\n",
       "      <td>[0.0, 0.0, 9.0, 0.0, 1.0, 0.0, 0.0, 0.0, 0.0, ...</td>\n",
       "      <td>[0.0, 0.0, 14.0, 0.0, 2.0, 0.0, 0.0, 2.0, 0.0,...</td>\n",
       "    </tr>\n",
       "    <tr>\n",
       "      <th>598330</th>\n",
       "      <td>8</td>\n",
       "      <td>5</td>\n",
       "      <td>4</td>\n",
       "      <td>598330</td>\n",
       "      <td>18</td>\n",
       "      <td>7</td>\n",
       "      <td>0</td>\n",
       "      <td>[18939, 10438, 18768, 138, 16254, 12317, 1739,...</td>\n",
       "      <td>[0.0, 0.0, 0.0, 0.0, 0.0, 0.0, 0.0, 0.0, 0.0, ...</td>\n",
       "      <td>[0.0, 0.0, 0.0, 0.0, 0.0, 0.0, 0.0, 0.0, 0.0, ...</td>\n",
       "      <td>[0.0, 0.0, 1.0, 0.0, 0.0, 0.0, 0.0, 0.0, 0.0, ...</td>\n",
       "      <td>[0.0, 0.0, 3.0, 0.0, 0.0, 0.0, 0.0, 0.0, 0.0, ...</td>\n",
       "      <td>[0.0, 0.0, 5.0, 0.0, 1.0, 0.0, 0.0, 0.0, 0.0, ...</td>\n",
       "    </tr>\n",
       "  </tbody>\n",
       "</table>\n",
       "</div>"
      ],
      "text/plain": [
       "       assay specie  modality     idx author_cell_type niche region  \\\n",
       "593988     8      5         4  593988                2     8      0   \n",
       "598330     8      5         4  598330               18     7      0   \n",
       "\n",
       "                                                        X  \\\n",
       "593988  [252, 18331, 2140, 2853, 8959, 14989, 12294, 7...   \n",
       "598330  [18939, 10438, 18768, 138, 16254, 12317, 1739,...   \n",
       "\n",
       "                                                X_niche_0  \\\n",
       "593988  [0.0, 0.0, 0.0, 0.0, 0.0, 0.0, 0.0, 0.0, 0.0, ...   \n",
       "598330  [0.0, 0.0, 0.0, 0.0, 0.0, 0.0, 0.0, 0.0, 0.0, ...   \n",
       "\n",
       "                                                X_niche_1  \\\n",
       "593988  [0.0, 0.0, 3.0, 0.0, 1.0, 0.0, 0.0, 0.0, 0.0, ...   \n",
       "598330  [0.0, 0.0, 0.0, 0.0, 0.0, 0.0, 0.0, 0.0, 0.0, ...   \n",
       "\n",
       "                                                X_niche_2  \\\n",
       "593988  [0.0, 0.0, 5.0, 0.0, 1.0, 0.0, 0.0, 0.0, 0.0, ...   \n",
       "598330  [0.0, 0.0, 1.0, 0.0, 0.0, 0.0, 0.0, 0.0, 0.0, ...   \n",
       "\n",
       "                                                X_niche_3  \\\n",
       "593988  [0.0, 0.0, 9.0, 0.0, 1.0, 0.0, 0.0, 0.0, 0.0, ...   \n",
       "598330  [0.0, 0.0, 3.0, 0.0, 0.0, 0.0, 0.0, 0.0, 0.0, ...   \n",
       "\n",
       "                                                X_niche_4  \n",
       "593988  [0.0, 0.0, 14.0, 0.0, 2.0, 0.0, 0.0, 2.0, 0.0,...  \n",
       "598330  [0.0, 0.0, 5.0, 0.0, 1.0, 0.0, 0.0, 0.0, 0.0, ...  "
      ]
     },
     "execution_count": 25,
     "metadata": {},
     "output_type": "execute_result"
    }
   ],
   "source": [
    "# checking for the last object whether everything looks accurate \n",
    "obs_tokens.head(2)"
   ]
  },
  {
   "cell_type": "code",
   "execution_count": 26,
   "id": "dbd4a29d-bff1-4f9d-90de-28481f82c030",
   "metadata": {},
   "outputs": [
    {
     "data": {
      "text/html": [
       "<div>\n",
       "<style scoped>\n",
       "    .dataframe tbody tr th:only-of-type {\n",
       "        vertical-align: middle;\n",
       "    }\n",
       "\n",
       "    .dataframe tbody tr th {\n",
       "        vertical-align: top;\n",
       "    }\n",
       "\n",
       "    .dataframe thead th {\n",
       "        text-align: right;\n",
       "    }\n",
       "</style>\n",
       "<table border=\"1\" class=\"dataframe\">\n",
       "  <thead>\n",
       "    <tr style=\"text-align: right;\">\n",
       "      <th></th>\n",
       "      <th>assay</th>\n",
       "      <th>specie</th>\n",
       "      <th>modality</th>\n",
       "      <th>idx</th>\n",
       "      <th>author_cell_type</th>\n",
       "      <th>niche</th>\n",
       "      <th>region</th>\n",
       "      <th>X</th>\n",
       "      <th>X_niche_0</th>\n",
       "      <th>X_niche_1</th>\n",
       "      <th>X_niche_2</th>\n",
       "      <th>X_niche_3</th>\n",
       "      <th>X_niche_4</th>\n",
       "    </tr>\n",
       "  </thead>\n",
       "  <tbody>\n",
       "    <tr>\n",
       "      <th>593988</th>\n",
       "      <td>8</td>\n",
       "      <td>5</td>\n",
       "      <td>4</td>\n",
       "      <td>593988</td>\n",
       "      <td>2</td>\n",
       "      <td>8</td>\n",
       "      <td>0</td>\n",
       "      <td>[252, 18331, 2140, 2853, 8959, 14989, 12294, 7...</td>\n",
       "      <td>[0.0, 0.0, 0.0, 0.0, 0.0, 0.0, 0.0, 0.0, 0.0, ...</td>\n",
       "      <td>[0.0, 0.0, 3.0, 0.0, 1.0, 0.0, 0.0, 0.0, 0.0, ...</td>\n",
       "      <td>[0.0, 0.0, 5.0, 0.0, 1.0, 0.0, 0.0, 0.0, 0.0, ...</td>\n",
       "      <td>[0.0, 0.0, 9.0, 0.0, 1.0, 0.0, 0.0, 0.0, 0.0, ...</td>\n",
       "      <td>[0.0, 0.0, 14.0, 0.0, 2.0, 0.0, 0.0, 2.0, 0.0,...</td>\n",
       "    </tr>\n",
       "    <tr>\n",
       "      <th>598330</th>\n",
       "      <td>8</td>\n",
       "      <td>5</td>\n",
       "      <td>4</td>\n",
       "      <td>598330</td>\n",
       "      <td>18</td>\n",
       "      <td>7</td>\n",
       "      <td>0</td>\n",
       "      <td>[18939, 10438, 18768, 138, 16254, 12317, 1739,...</td>\n",
       "      <td>[0.0, 0.0, 0.0, 0.0, 0.0, 0.0, 0.0, 0.0, 0.0, ...</td>\n",
       "      <td>[0.0, 0.0, 0.0, 0.0, 0.0, 0.0, 0.0, 0.0, 0.0, ...</td>\n",
       "      <td>[0.0, 0.0, 1.0, 0.0, 0.0, 0.0, 0.0, 0.0, 0.0, ...</td>\n",
       "      <td>[0.0, 0.0, 3.0, 0.0, 0.0, 0.0, 0.0, 0.0, 0.0, ...</td>\n",
       "      <td>[0.0, 0.0, 5.0, 0.0, 1.0, 0.0, 0.0, 0.0, 0.0, ...</td>\n",
       "    </tr>\n",
       "  </tbody>\n",
       "</table>\n",
       "</div>"
      ],
      "text/plain": [
       "        assay  specie  modality     idx  author_cell_type  niche  region  \\\n",
       "593988      8       5         4  593988                 2      8       0   \n",
       "598330      8       5         4  598330                18      7       0   \n",
       "\n",
       "                                                        X  \\\n",
       "593988  [252, 18331, 2140, 2853, 8959, 14989, 12294, 7...   \n",
       "598330  [18939, 10438, 18768, 138, 16254, 12317, 1739,...   \n",
       "\n",
       "                                                X_niche_0  \\\n",
       "593988  [0.0, 0.0, 0.0, 0.0, 0.0, 0.0, 0.0, 0.0, 0.0, ...   \n",
       "598330  [0.0, 0.0, 0.0, 0.0, 0.0, 0.0, 0.0, 0.0, 0.0, ...   \n",
       "\n",
       "                                                X_niche_1  \\\n",
       "593988  [0.0, 0.0, 3.0, 0.0, 1.0, 0.0, 0.0, 0.0, 0.0, ...   \n",
       "598330  [0.0, 0.0, 0.0, 0.0, 0.0, 0.0, 0.0, 0.0, 0.0, ...   \n",
       "\n",
       "                                                X_niche_2  \\\n",
       "593988  [0.0, 0.0, 5.0, 0.0, 1.0, 0.0, 0.0, 0.0, 0.0, ...   \n",
       "598330  [0.0, 0.0, 1.0, 0.0, 0.0, 0.0, 0.0, 0.0, 0.0, ...   \n",
       "\n",
       "                                                X_niche_3  \\\n",
       "593988  [0.0, 0.0, 9.0, 0.0, 1.0, 0.0, 0.0, 0.0, 0.0, ...   \n",
       "598330  [0.0, 0.0, 3.0, 0.0, 0.0, 0.0, 0.0, 0.0, 0.0, ...   \n",
       "\n",
       "                                                X_niche_4  \n",
       "593988  [0.0, 0.0, 14.0, 0.0, 2.0, 0.0, 0.0, 2.0, 0.0,...  \n",
       "598330  [0.0, 0.0, 5.0, 0.0, 1.0, 0.0, 0.0, 0.0, 0.0, ...  "
      ]
     },
     "execution_count": 26,
     "metadata": {},
     "output_type": "execute_result"
    }
   ],
   "source": [
    "pd.read_parquet(f'{join(OUT_PATH, SPLIT)}/tokens-{batch}.parquet').head(2)"
   ]
  },
  {
   "cell_type": "markdown",
   "id": "b0c42667-9e34-47a9-8763-d3187c40880a",
   "metadata": {},
   "source": [
    "### Reading for testing\n",
    "We are reading one parquet file to test whether everything worked."
   ]
  },
  {
   "cell_type": "markdown",
   "id": "63432c10-a251-4074-9def-5e9d494a2797",
   "metadata": {},
   "source": [
    "## Tokenize test data"
   ]
  },
  {
   "cell_type": "code",
   "execution_count": 27,
   "id": "83743519-f5d7-4336-a45a-d03adb866f1c",
   "metadata": {},
   "outputs": [],
   "source": [
    "SPLIT = 'test'"
   ]
  },
  {
   "cell_type": "code",
   "execution_count": 28,
   "id": "3e85fe33-5682-4fd3-98b3-cf645c704a64",
   "metadata": {},
   "outputs": [],
   "source": [
    "# subsetting the anndata object\n",
    "cosmx_split = cosmx[cosmx.obs.nicheformer_split == SPLIT].copy()\n",
    "# dropping the index as the original index can create issues \n",
    "cosmx_split.obs.reset_index(drop=True, inplace=True)\n",
    "# writing the data\n",
    "cosmx_split.write(f\"{OUT_PATH}/cosmx_human_lung_{SPLIT}_ready_to_tokenize.h5ad\")"
   ]
  },
  {
   "cell_type": "code",
   "execution_count": 29,
   "id": "aa9a4898-2d1f-4c18-8783-2904af825fd3",
   "metadata": {},
   "outputs": [
    {
     "name": "stdout",
     "output_type": "stream",
     "text": [
      "n_obs:  169113\n",
      "N_BATCHES:  17\n",
      "chunk_len:  9948\n"
     ]
    }
   ],
   "source": [
    "obs_cosmx_split = cosmx_split.obs\n",
    "print('n_obs: ', obs_cosmx_split.shape[0])\n",
    "N_BATCHES = math.ceil(obs_cosmx_split.shape[0] / 10_000)\n",
    "print('N_BATCHES: ', N_BATCHES)\n",
    "batch_cosmx_indices = np.array_split(obs_cosmx_split.index, N_BATCHES)\n",
    "chunk_len = len(batch_cosmx_indices[0])\n",
    "print('chunk_len: ', chunk_len)"
   ]
  },
  {
   "cell_type": "code",
   "execution_count": 30,
   "id": "c566309e-c098-4272-9ada-1595965abc05",
   "metadata": {},
   "outputs": [],
   "source": [
    "obs_cosmx_split = obs_cosmx_split.reset_index().rename(columns={'index':'idx'})\n",
    "obs_cosmx_split['idx'] = obs_cosmx_split['idx'].astype('i8')"
   ]
  },
  {
   "cell_type": "code",
   "execution_count": 31,
   "id": "e5250871-a77e-4ba3-853f-439a8de6d9c8",
   "metadata": {},
   "outputs": [
    {
     "name": "stdout",
     "output_type": "stream",
     "text": [
      "Tokenizing test\n"
     ]
    },
    {
     "name": "stderr",
     "output_type": "stream",
     "text": [
      "100%|███████████████████████████████████████████| 17/17 [00:44<00:00,  2.60s/it]\n"
     ]
    }
   ],
   "source": [
    "print(f\"Tokenizing {SPLIT}\")\n",
    "for batch in tqdm(range(N_BATCHES)):\n",
    "    obs_tokens = obs_cosmx_split.iloc[batch*chunk_len:chunk_len*(batch+1)].copy()\n",
    "    cosmx_tokenized = tokenize_data(cosmx_split.X[batch*chunk_len:chunk_len*(batch+1)], cosmx_mean, 4096)\n",
    "\n",
    "    obs_tokens = obs_tokens[['assay', 'specie', 'modality', 'idx', 'author_cell_type', 'niche', 'region']]\n",
    "    # concatenate dataframes\n",
    "    \n",
    "    obs_tokens['X'] = [cosmx_tokenized[i, :] for i in range(cosmx_tokenized.shape[0])]\n",
    "    \n",
    "    for i in np.arange(5):\n",
    "        niche = cosmx_split.obsm[f\"X_niche_{i}\"].toarray()[batch*chunk_len:chunk_len*(batch+1)]\n",
    "        obs_tokens[f\"X_niche_{i}\"] = [niche[i, :] for i in range(niche.shape[0])]\n",
    "\n",
    "    # mix spatial and dissociate data\n",
    "    obs_tokens = obs_tokens.sample(frac=1)\n",
    "    \n",
    "    total_table = pyarrow.Table.from_pandas(obs_tokens)\n",
    "    \n",
    "    pq.write_table(total_table, f'{join(OUT_PATH, SPLIT)}/tokens-{batch}.parquet',\n",
    "                    row_group_size=1024,)"
   ]
  },
  {
   "cell_type": "code",
   "execution_count": 32,
   "id": "9d89fb68-7764-44c6-9020-a6fb72e9fb06",
   "metadata": {},
   "outputs": [
    {
     "data": {
      "text/html": [
       "<div>\n",
       "<style scoped>\n",
       "    .dataframe tbody tr th:only-of-type {\n",
       "        vertical-align: middle;\n",
       "    }\n",
       "\n",
       "    .dataframe tbody tr th {\n",
       "        vertical-align: top;\n",
       "    }\n",
       "\n",
       "    .dataframe thead th {\n",
       "        text-align: right;\n",
       "    }\n",
       "</style>\n",
       "<table border=\"1\" class=\"dataframe\">\n",
       "  <thead>\n",
       "    <tr style=\"text-align: right;\">\n",
       "      <th></th>\n",
       "      <th>assay</th>\n",
       "      <th>specie</th>\n",
       "      <th>modality</th>\n",
       "      <th>idx</th>\n",
       "      <th>author_cell_type</th>\n",
       "      <th>niche</th>\n",
       "      <th>region</th>\n",
       "      <th>X</th>\n",
       "      <th>X_niche_0</th>\n",
       "      <th>X_niche_1</th>\n",
       "      <th>X_niche_2</th>\n",
       "      <th>X_niche_3</th>\n",
       "      <th>X_niche_4</th>\n",
       "    </tr>\n",
       "  </thead>\n",
       "  <tbody>\n",
       "    <tr>\n",
       "      <th>167916</th>\n",
       "      <td>8</td>\n",
       "      <td>5</td>\n",
       "      <td>4</td>\n",
       "      <td>167916</td>\n",
       "      <td>14</td>\n",
       "      <td>6</td>\n",
       "      <td>0</td>\n",
       "      <td>[10185, 12120, 5542, 8995, 1263, 7546, 5603, 2...</td>\n",
       "      <td>[0.0, 0.0, 0.0, 0.0, 0.0, 0.0, 0.0, 0.0, 0.0, ...</td>\n",
       "      <td>[0.0, 0.0, 0.0, 0.0, 0.0, 0.0, 0.0, 0.0, 0.0, ...</td>\n",
       "      <td>[0.0, 0.0, 0.0, 0.0, 0.0, 1.0, 0.0, 0.0, 0.0, ...</td>\n",
       "      <td>[0.0, 0.0, 0.0, 0.0, 0.0, 1.0, 0.0, 1.0, 0.0, ...</td>\n",
       "      <td>[1.0, 0.0, 0.0, 0.0, 0.0, 2.0, 0.0, 2.0, 0.0, ...</td>\n",
       "    </tr>\n",
       "    <tr>\n",
       "      <th>162269</th>\n",
       "      <td>8</td>\n",
       "      <td>5</td>\n",
       "      <td>4</td>\n",
       "      <td>162269</td>\n",
       "      <td>9</td>\n",
       "      <td>4</td>\n",
       "      <td>0</td>\n",
       "      <td>[13247, 9783, 15535, 3588, 4693, 12391, 7546, ...</td>\n",
       "      <td>[0.0, 0.0, 0.0, 0.0, 0.0, 0.0, 0.0, 0.0, 0.0, ...</td>\n",
       "      <td>[0.0, 0.0, 0.0, 0.0, 0.0, 0.0, 0.0, 2.0, 0.0, ...</td>\n",
       "      <td>[0.0, 0.0, 0.0, 0.0, 0.0, 0.0, 0.0, 3.0, 0.0, ...</td>\n",
       "      <td>[0.0, 0.0, 0.0, 0.0, 0.0, 0.0, 0.0, 5.0, 1.0, ...</td>\n",
       "      <td>[0.0, 0.0, 0.0, 0.0, 0.0, 0.0, 0.0, 6.0, 1.0, ...</td>\n",
       "    </tr>\n",
       "  </tbody>\n",
       "</table>\n",
       "</div>"
      ],
      "text/plain": [
       "       assay specie  modality     idx author_cell_type niche region  \\\n",
       "167916     8      5         4  167916               14     6      0   \n",
       "162269     8      5         4  162269                9     4      0   \n",
       "\n",
       "                                                        X  \\\n",
       "167916  [10185, 12120, 5542, 8995, 1263, 7546, 5603, 2...   \n",
       "162269  [13247, 9783, 15535, 3588, 4693, 12391, 7546, ...   \n",
       "\n",
       "                                                X_niche_0  \\\n",
       "167916  [0.0, 0.0, 0.0, 0.0, 0.0, 0.0, 0.0, 0.0, 0.0, ...   \n",
       "162269  [0.0, 0.0, 0.0, 0.0, 0.0, 0.0, 0.0, 0.0, 0.0, ...   \n",
       "\n",
       "                                                X_niche_1  \\\n",
       "167916  [0.0, 0.0, 0.0, 0.0, 0.0, 0.0, 0.0, 0.0, 0.0, ...   \n",
       "162269  [0.0, 0.0, 0.0, 0.0, 0.0, 0.0, 0.0, 2.0, 0.0, ...   \n",
       "\n",
       "                                                X_niche_2  \\\n",
       "167916  [0.0, 0.0, 0.0, 0.0, 0.0, 1.0, 0.0, 0.0, 0.0, ...   \n",
       "162269  [0.0, 0.0, 0.0, 0.0, 0.0, 0.0, 0.0, 3.0, 0.0, ...   \n",
       "\n",
       "                                                X_niche_3  \\\n",
       "167916  [0.0, 0.0, 0.0, 0.0, 0.0, 1.0, 0.0, 1.0, 0.0, ...   \n",
       "162269  [0.0, 0.0, 0.0, 0.0, 0.0, 0.0, 0.0, 5.0, 1.0, ...   \n",
       "\n",
       "                                                X_niche_4  \n",
       "167916  [1.0, 0.0, 0.0, 0.0, 0.0, 2.0, 0.0, 2.0, 0.0, ...  \n",
       "162269  [0.0, 0.0, 0.0, 0.0, 0.0, 0.0, 0.0, 6.0, 1.0, ...  "
      ]
     },
     "execution_count": 32,
     "metadata": {},
     "output_type": "execute_result"
    }
   ],
   "source": [
    "obs_tokens.head(2)"
   ]
  },
  {
   "cell_type": "code",
   "execution_count": 33,
   "id": "5c116dec-9f85-4117-8f3c-f50b0a81a71b",
   "metadata": {},
   "outputs": [
    {
     "data": {
      "text/html": [
       "<div>\n",
       "<style scoped>\n",
       "    .dataframe tbody tr th:only-of-type {\n",
       "        vertical-align: middle;\n",
       "    }\n",
       "\n",
       "    .dataframe tbody tr th {\n",
       "        vertical-align: top;\n",
       "    }\n",
       "\n",
       "    .dataframe thead th {\n",
       "        text-align: right;\n",
       "    }\n",
       "</style>\n",
       "<table border=\"1\" class=\"dataframe\">\n",
       "  <thead>\n",
       "    <tr style=\"text-align: right;\">\n",
       "      <th></th>\n",
       "      <th>assay</th>\n",
       "      <th>specie</th>\n",
       "      <th>modality</th>\n",
       "      <th>idx</th>\n",
       "      <th>author_cell_type</th>\n",
       "      <th>niche</th>\n",
       "      <th>region</th>\n",
       "      <th>X</th>\n",
       "      <th>X_niche_0</th>\n",
       "      <th>X_niche_1</th>\n",
       "      <th>X_niche_2</th>\n",
       "      <th>X_niche_3</th>\n",
       "      <th>X_niche_4</th>\n",
       "    </tr>\n",
       "  </thead>\n",
       "  <tbody>\n",
       "    <tr>\n",
       "      <th>4474</th>\n",
       "      <td>8</td>\n",
       "      <td>5</td>\n",
       "      <td>4</td>\n",
       "      <td>4474</td>\n",
       "      <td>3</td>\n",
       "      <td>1</td>\n",
       "      <td>0</td>\n",
       "      <td>[15953, 4197, 12403, 12945, 3401, 6295, 3879, ...</td>\n",
       "      <td>[1.0, 0.0, 0.0, 1.0, 0.0, 0.0, 0.0, 1.0, 0.0, ...</td>\n",
       "      <td>[3.0, 0.0, 0.0, 6.0, 0.0, 2.0, 0.0, 1.0, 0.0, ...</td>\n",
       "      <td>[9.0, 0.0, 0.0, 8.0, 0.0, 3.0, 0.0, 1.0, 0.0, ...</td>\n",
       "      <td>[19.0, 1.0, 0.0, 22.0, 0.0, 5.0, 1.0, 1.0, 0.0...</td>\n",
       "      <td>[27.0, 2.0, 0.0, 26.0, 0.0, 7.0, 3.0, 4.0, 0.0...</td>\n",
       "    </tr>\n",
       "    <tr>\n",
       "      <th>8386</th>\n",
       "      <td>8</td>\n",
       "      <td>5</td>\n",
       "      <td>4</td>\n",
       "      <td>8386</td>\n",
       "      <td>8</td>\n",
       "      <td>3</td>\n",
       "      <td>0</td>\n",
       "      <td>[12152, 15731, 344, 6071, 7428, 12764, 16848, ...</td>\n",
       "      <td>[0.0, 0.0, 0.0, 0.0, 0.0, 0.0, 0.0, 0.0, 1.0, ...</td>\n",
       "      <td>[0.0, 0.0, 0.0, 0.0, 0.0, 0.0, 0.0, 1.0, 3.0, ...</td>\n",
       "      <td>[0.0, 0.0, 1.0, 4.0, 0.0, 0.0, 1.0, 2.0, 4.0, ...</td>\n",
       "      <td>[0.0, 2.0, 1.0, 7.0, 0.0, 2.0, 1.0, 7.0, 5.0, ...</td>\n",
       "      <td>[2.0, 4.0, 1.0, 13.0, 0.0, 3.0, 1.0, 16.0, 8.0...</td>\n",
       "    </tr>\n",
       "  </tbody>\n",
       "</table>\n",
       "</div>"
      ],
      "text/plain": [
       "      assay  specie  modality   idx  author_cell_type  niche  region  \\\n",
       "4474      8       5         4  4474                 3      1       0   \n",
       "8386      8       5         4  8386                 8      3       0   \n",
       "\n",
       "                                                      X  \\\n",
       "4474  [15953, 4197, 12403, 12945, 3401, 6295, 3879, ...   \n",
       "8386  [12152, 15731, 344, 6071, 7428, 12764, 16848, ...   \n",
       "\n",
       "                                              X_niche_0  \\\n",
       "4474  [1.0, 0.0, 0.0, 1.0, 0.0, 0.0, 0.0, 1.0, 0.0, ...   \n",
       "8386  [0.0, 0.0, 0.0, 0.0, 0.0, 0.0, 0.0, 0.0, 1.0, ...   \n",
       "\n",
       "                                              X_niche_1  \\\n",
       "4474  [3.0, 0.0, 0.0, 6.0, 0.0, 2.0, 0.0, 1.0, 0.0, ...   \n",
       "8386  [0.0, 0.0, 0.0, 0.0, 0.0, 0.0, 0.0, 1.0, 3.0, ...   \n",
       "\n",
       "                                              X_niche_2  \\\n",
       "4474  [9.0, 0.0, 0.0, 8.0, 0.0, 3.0, 0.0, 1.0, 0.0, ...   \n",
       "8386  [0.0, 0.0, 1.0, 4.0, 0.0, 0.0, 1.0, 2.0, 4.0, ...   \n",
       "\n",
       "                                              X_niche_3  \\\n",
       "4474  [19.0, 1.0, 0.0, 22.0, 0.0, 5.0, 1.0, 1.0, 0.0...   \n",
       "8386  [0.0, 2.0, 1.0, 7.0, 0.0, 2.0, 1.0, 7.0, 5.0, ...   \n",
       "\n",
       "                                              X_niche_4  \n",
       "4474  [27.0, 2.0, 0.0, 26.0, 0.0, 7.0, 3.0, 4.0, 0.0...  \n",
       "8386  [2.0, 4.0, 1.0, 13.0, 0.0, 3.0, 1.0, 16.0, 8.0...  "
      ]
     },
     "execution_count": 33,
     "metadata": {},
     "output_type": "execute_result"
    }
   ],
   "source": [
    "pd.read_parquet(f'{join(OUT_PATH, SPLIT)}/tokens-0.parquet').head(2)"
   ]
  },
  {
   "cell_type": "code",
   "execution_count": null,
   "id": "aee8a6e9-3708-4ae3-9d7c-6d970ff78aeb",
   "metadata": {},
   "outputs": [],
   "source": []
  },
  {
   "cell_type": "code",
   "execution_count": 20,
   "id": "ba3ca8a6-9f10-41b3-b358-d0abe43b8503",
   "metadata": {},
   "outputs": [
    {
     "data": {
      "text/plain": [
       "'/home/ec2-user/SageMaker/test_data/spatial/preprocessed/Xenium_Preview_Human_Non_diseased_Lung_With_Add_on_FFPE_outs.h5ad'"
      ]
     },
     "execution_count": 20,
     "metadata": {},
     "output_type": "execute_result"
    }
   ],
   "source": [
    "config['data_path']"
   ]
  },
  {
   "cell_type": "code",
   "execution_count": 16,
   "id": "755e32ec-398d-44cf-a6a2-ee5f86ef669d",
   "metadata": {},
   "outputs": [],
   "source": [
    "adata = ad.read_h5ad(config['data_path'])\n",
    "technology_mean = np.load(config['technology_mean_path'])\n",
    " \n",
    "# format data properly with the model\n",
    "#adata = ad.concat([model, adata], join='outer', axis=0)\n",
    "# dropping the first observation \n",
    "adata = adata[1:].copy()"
   ]
  },
  {
   "cell_type": "code",
   "execution_count": 22,
   "id": "8133e705-4c89-4521-9c70-49ae955fbec0",
   "metadata": {},
   "outputs": [
    {
     "data": {
      "text/plain": [
       "Index(['ENSG00000159640', 'ENSG00000130234', 'ENSG00000213088',\n",
       "       'ENSG00000115091', 'ENSG00000151694', 'ENSG00000042980',\n",
       "       'ENSG00000154734', 'ENSG00000123146', 'ENSG00000162618',\n",
       "       'ENSG00000204305',\n",
       "       ...\n",
       "       'ENSG00000126756', 'ENSG00000167397', 'ENSG00000160948',\n",
       "       'ENSG00000155659', 'ENSG00000110799', 'ENSG00000105583',\n",
       "       'ENSG00000109501', 'ENSG00000105989', 'ENSG00000109046',\n",
       "       'ENSG00000184937'],\n",
       "      dtype='object', length=392)"
      ]
     },
     "execution_count": 22,
     "metadata": {},
     "output_type": "execute_result"
    }
   ],
   "source": [
    "adata.var.index"
   ]
  },
  {
   "cell_type": "code",
   "execution_count": 23,
   "id": "1c14c4e1-a8c0-4007-a7ca-23bee3374c9f",
   "metadata": {},
   "outputs": [
    {
     "data": {
      "text/plain": [
       "20310"
      ]
     },
     "execution_count": 23,
     "metadata": {},
     "output_type": "execute_result"
    }
   ],
   "source": [
    "np.size(technology_mean)"
   ]
  },
  {
   "cell_type": "code",
   "execution_count": 24,
   "id": "c32e9a5d-038f-4894-985b-9bfe7d0f1c5c",
   "metadata": {},
   "outputs": [],
   "source": [
    "adata1 = ad.concat([model, adata], join='outer', axis=0)"
   ]
  },
  {
   "cell_type": "code",
   "execution_count": 25,
   "id": "169ef819-1580-4ee2-b700-8a1e866f54ab",
   "metadata": {},
   "outputs": [
    {
     "data": {
      "text/plain": [
       "Index(['ENSG00000000003', 'ENSG00000000005', 'ENSG00000000419',\n",
       "       'ENSG00000000457', 'ENSG00000000460', 'ENSG00000000938',\n",
       "       'ENSG00000000971', 'ENSG00000001036', 'ENSG00000001084',\n",
       "       'ENSG00000001167',\n",
       "       ...\n",
       "       'ENSMUSG00000112117', 'ENSMUSG00000112148', 'ENSMUSG00000112276',\n",
       "       'ENSMUSG00000113186', 'ENSMUSG00000114028', 'ENSMUSG00000114469',\n",
       "       'ENSMUSG00000115424', 'ENSMUSG00000115432', 'ENSMUSG00000115529',\n",
       "       'ENSMUSG00000115965'],\n",
       "      dtype='object', length=20311)"
      ]
     },
     "execution_count": 25,
     "metadata": {},
     "output_type": "execute_result"
    }
   ],
   "source": [
    "adata1.var.index"
   ]
  },
  {
   "cell_type": "code",
   "execution_count": 32,
   "id": "5ca2e7c6-f1a7-4296-bb0b-896faa1573fb",
   "metadata": {
    "scrolled": true
   },
   "outputs": [],
   "source": [
    "names=adata.var.index.tolist()"
   ]
  },
  {
   "cell_type": "code",
   "execution_count": 28,
   "id": "ccfffe5c-8408-4fb0-b345-3f49eb8fd1a3",
   "metadata": {},
   "outputs": [
    {
     "data": {
      "text/plain": [
       "array([        nan,         nan,         nan, ..., 14.51111087,\n",
       "               nan, 14.23553126])"
      ]
     },
     "execution_count": 28,
     "metadata": {},
     "output_type": "execute_result"
    }
   ],
   "source": [
    "technology_mean"
   ]
  },
  {
   "cell_type": "code",
   "execution_count": 29,
   "id": "cf7cd252-9fb2-4462-afd4-0819cc1fbd04",
   "metadata": {},
   "outputs": [],
   "source": [
    "model_ad = ad.read_h5ad('nicheformer/data/model_means/model.h5ad')"
   ]
  },
  {
   "cell_type": "code",
   "execution_count": 34,
   "id": "137c920d-ead3-4a10-a5b9-37c9402fa4ea",
   "metadata": {},
   "outputs": [],
   "source": [
    "full_names= model_ad.var.index.tolist()"
   ]
  },
  {
   "cell_type": "code",
   "execution_count": 35,
   "id": "8a46879e-aa17-42ef-8bdb-ba05f68cdfe7",
   "metadata": {},
   "outputs": [],
   "source": [
    "unique_values = [x for x in names if x not in full_names]"
   ]
  },
  {
   "cell_type": "code",
   "execution_count": 36,
   "id": "99a8b9b3-4b34-4aad-9a76-568e5e430dbf",
   "metadata": {},
   "outputs": [
    {
     "data": {
      "text/plain": [
       "['ENSG00000229415']"
      ]
     },
     "execution_count": 36,
     "metadata": {},
     "output_type": "execute_result"
    }
   ],
   "source": [
    "unique_values"
   ]
  },
  {
   "cell_type": "code",
   "execution_count": null,
   "id": "92298f7d-5ee5-4820-837f-27696aeab739",
   "metadata": {},
   "outputs": [],
   "source": []
  }
 ],
 "metadata": {
  "kernelspec": {
   "display_name": "conda_pytorch_p310",
   "language": "python",
   "name": "conda_pytorch_p310"
  },
  "language_info": {
   "codemirror_mode": {
    "name": "ipython",
    "version": 3
   },
   "file_extension": ".py",
   "mimetype": "text/x-python",
   "name": "python",
   "nbconvert_exporter": "python",
   "pygments_lexer": "ipython3",
   "version": "3.10.14"
  }
 },
 "nbformat": 4,
 "nbformat_minor": 5
}
