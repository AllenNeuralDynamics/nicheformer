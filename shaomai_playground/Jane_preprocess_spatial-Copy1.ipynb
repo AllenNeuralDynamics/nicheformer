{
 "cells": [
  {
   "cell_type": "code",
   "execution_count": 24,
   "id": "65f4a16b-0c09-488f-9113-c0673f3c5d15",
   "metadata": {},
   "outputs": [
    {
     "name": "stdout",
     "output_type": "stream",
     "text": [
      "The autoreload extension is already loaded. To reload it, use:\n",
      "  %reload_ext autoreload\n"
     ]
    }
   ],
   "source": [
    "%load_ext autoreload\n",
    "%autoreload 2"
   ]
  },
  {
   "cell_type": "code",
   "execution_count": 25,
   "id": "7d9c76ae-e635-4523-bcde-3b2e76de4ed0",
   "metadata": {},
   "outputs": [],
   "source": [
    "import scanpy as sc\n",
    "import sys\n",
    "\n",
    "import os \n",
    "import sys\n",
    "import pandas as pd\n",
    "import scanpy as sc\n",
    "from scipy.sparse import csr_matrix\n",
    "\n",
    "from nicheformer.data.constants import DefaultPaths, ObsConstants, UnsConstants, VarConstants, AssayOntologyTermId, SexOntologyTermId, OrganismOntologyTermId, TissueOntologyTermId, SuspensionTypeId\n",
    "from nicheformer.data.validate import validate"
   ]
  },
  {
   "cell_type": "code",
   "execution_count": 26,
   "id": "d43cc430-b8e2-4ee2-93c9-297f386aa3af",
   "metadata": {},
   "outputs": [],
   "source": [
    "import sys\n",
    "sys.path.append(\"/home/ec2-user/SageMaker/functions\")\n",
    "from preprocessing import *\n"
   ]
  },
  {
   "cell_type": "code",
   "execution_count": 27,
   "id": "c33cb1e7-8498-4246-826d-0ae910e527e5",
   "metadata": {},
   "outputs": [],
   "source": [
    "#if len(sys.argv)==1:\n",
    "path = \"./our_data_LC_NE\"\n",
    "#else:\n",
    "#    path = sys.argv[1]\n",
    "\n",
    "# raw_path = f\"{path}\"\n",
    "# preprocessed_path = f\"{path}/preprocessed\"\n",
    "\n",
    "# if not os.path.exists(f\"{preprocessed_path}\"):\n",
    "#     os.mkdir(f\"{preprocessed_path}\")\n",
    "\n",
    "adata = sc.read_h5ad(f\"{path}/adata_mer.h5ad\")\n",
    "\n",
    "\n",
    "# setting MERFISH for now until an official ontology term is released\n",
    "assay = str(AssayOntologyTermId.MERFISH_SPATIAL.value)\n",
    "sex = str(SexOntologyTermId.UNKNOWN.value)\n",
    "organism = str(OrganismOntologyTermId.MOUSE.value)\n",
    "organism_validator = \"mouse\"\n",
    "tissue = str(TissueOntologyTermId.BRAIN.value)\n",
    "suspension_type = str(SuspensionTypeId.SPATIAL.value)\n",
    "tissue_type = \"brain\"\n",
    "\n",
    "\n"
   ]
  },
  {
   "cell_type": "code",
   "execution_count": 28,
   "id": "1e568d6e-63d5-45bd-9574-a95659dc0b72",
   "metadata": {},
   "outputs": [
    {
     "data": {
      "text/plain": [
       "AnnData object with n_obs × n_vars = 3227 × 315\n",
       "    obs: 'slicename', 'x_CCF', 'y_CCF', 'z_CCF', 'mouse_name', '_scvi_batch', '_scvi_labels', 'leiden', 'n_counts'\n",
       "    uns: '_scvi_manager_uuid', '_scvi_uuid', 'leiden', 'leiden_colors', 'log1p', 'mouse_name_colors', 'neighbors', 'slicename_colors', 'umap'\n",
       "    obsm: 'X_scVI', 'X_umap', 'spatial'\n",
       "    obsp: 'connectivities', 'distances'"
      ]
     },
     "execution_count": 28,
     "metadata": {},
     "output_type": "execute_result"
    }
   ],
   "source": [
    "adata"
   ]
  },
  {
   "cell_type": "code",
   "execution_count": 29,
   "id": "19f117a2-da67-4f1c-ba5f-b21f8f854fbb",
   "metadata": {},
   "outputs": [],
   "source": [
    "#adata.X = csr_matrix(adata.X)\n",
    "adata.obs[ObsConstants.SPATIAL_X] = adata.obs['z_CCF']\n",
    "adata.obs[ObsConstants.SPATIAL_Y] = adata.obs['y_CCF']\n",
    "adata.obs[ObsConstants.ASSAY_ONTOLOGY_TERM_ID] = pd.Categorical([assay for i in range(len(adata))])\n",
    "adata.obs[ObsConstants.SEX_ONTOLOGY_TERM_ID] = pd.Categorical([sex for i in range(len(adata))])\n",
    "adata.obs[ObsConstants.ORGANISM_ONTOLOGY_TERM_ID] = pd.Categorical([organism for i in range(len(adata))])\n",
    "adata.obs[ObsConstants.TISSUE_ONTOLOGY_TERM_ID] = pd.Categorical([tissue for i in range(len(adata))])\n",
    "adata.obs[ObsConstants.SUSPENSION_TYPE] = pd.Categorical([suspension_type for i in range(len(adata))])\n",
    "\n",
    "adata.obs[ObsConstants.DONOR_ID] = pd.Categorical(['Xenium_Preview_Human_Non_diseased_Lung_With_Add_on_FFPE_outs' for i in range(len(adata))])\n",
    "adata.obs[ObsConstants.CONDITION_ID] = pd.Categorical(['non diseased' for i in range(len(adata))])\n",
    "adata.obs[ObsConstants.TISSUE_TYPE] = pd.Categorical([tissue_type for i in range(len(adata))])\n",
    "\n",
    "adata.uns[UnsConstants.TITLE] = \"Xenium_Preview_Human_Non_diseased_Lung_With_Add_on_FFPE_outs\"\n",
    "\n",
    "\n",
    "adata.obs[ObsConstants.LIBRARY_KEY] = pd.Categorical(['section' for i in range(len(adata))])"
   ]
  },
  {
   "cell_type": "code",
   "execution_count": 30,
   "id": "f6a99d6d-2b6d-4e28-bad6-72419374cb28",
   "metadata": {},
   "outputs": [
    {
     "data": {
      "text/html": [
       "<div>\n",
       "<style scoped>\n",
       "    .dataframe tbody tr th:only-of-type {\n",
       "        vertical-align: middle;\n",
       "    }\n",
       "\n",
       "    .dataframe tbody tr th {\n",
       "        vertical-align: top;\n",
       "    }\n",
       "\n",
       "    .dataframe thead th {\n",
       "        text-align: right;\n",
       "    }\n",
       "</style>\n",
       "<table border=\"1\" class=\"dataframe\">\n",
       "  <thead>\n",
       "    <tr style=\"text-align: right;\">\n",
       "      <th></th>\n",
       "    </tr>\n",
       "  </thead>\n",
       "  <tbody>\n",
       "    <tr>\n",
       "      <th>8030451A03Rik</th>\n",
       "    </tr>\n",
       "    <tr>\n",
       "      <th>9130024F11Rik</th>\n",
       "    </tr>\n",
       "    <tr>\n",
       "      <th>9630002D21Rik</th>\n",
       "    </tr>\n",
       "    <tr>\n",
       "      <th>Abca13</th>\n",
       "    </tr>\n",
       "    <tr>\n",
       "      <th>Abi3bp</th>\n",
       "    </tr>\n",
       "    <tr>\n",
       "      <th>...</th>\n",
       "    </tr>\n",
       "    <tr>\n",
       "      <th>Npy5r</th>\n",
       "    </tr>\n",
       "    <tr>\n",
       "      <th>Nr2f2</th>\n",
       "    </tr>\n",
       "    <tr>\n",
       "      <th>Nr4a2</th>\n",
       "    </tr>\n",
       "    <tr>\n",
       "      <th>Pdzrn3</th>\n",
       "    </tr>\n",
       "    <tr>\n",
       "      <th>Samd3</th>\n",
       "    </tr>\n",
       "  </tbody>\n",
       "</table>\n",
       "<p>315 rows × 0 columns</p>\n",
       "</div>"
      ],
      "text/plain": [
       "Empty DataFrame\n",
       "Columns: []\n",
       "Index: [8030451A03Rik, 9130024F11Rik, 9630002D21Rik, Abca13, Abi3bp, Adam33, Adamts18, Adamts19, Adamtsl5, Adarb2, Adcyap1, Adra1a, Adra1b, Aifm3, Alkal2, Angpt1, Anxa2, Anxa4, Arhgap6, Arhgef38, Asb4, Best1, Brs3, C030005K06Rik, C130060K24Rik, C1ql3, C7, Cacna2d1, Calb1, Calb2, Calca, Calcr, Calcrl, Cartpt, Cbln1, Cbln2, Cbln4, Ccdc88c, Cd24a, Cd36, Cdc14a, Cdh23, Cep83, Chat, Chodl, Chrdl1, Chst9, CN725425, Col11a1, Col12a1, Col13a1, Col14a1, Col15a1, Col16a1, Col18a1, Col1a2, Col24a1, Col25a1, Col27a1, Col5a2, Col6a5, Col9a1, Cplane1, Cpne4, Cpne7, Cpne8, Cpne9, Crh, Crhbp, Crhr1, Crim1, Cspg4, Ctss, Ctxn3, Cx3cr1, Dbh, Ddc, Dnah12, Dop1a, Ebf1, Ebf2, Ecel1, Egr1, Enpep, Epha3, Erbb4, Esr1, Esr2, Etl4, Eya4, Fbn2, Fbxl7, Fgf10, Fgfr1, Foxp1, Foxp2, Gabra4, Gabrg1, Gad1, Gad2, ...]\n",
       "\n",
       "[315 rows x 0 columns]"
      ]
     },
     "execution_count": 30,
     "metadata": {},
     "output_type": "execute_result"
    }
   ],
   "source": [
    "adata.var"
   ]
  },
  {
   "cell_type": "code",
   "execution_count": 31,
   "id": "91d7d320-7d8c-4d04-9fc5-251016e14b97",
   "metadata": {},
   "outputs": [
    {
     "name": "stderr",
     "output_type": "stream",
     "text": [
      "INFO:pyensembl.sequence_data:Loaded sequence dictionary from /home/ec2-user/.cache/pyensembl/GRCm39/ensembl104/Mus_musculus.GRCm39.cdna.all.fa.gz.pickle\n",
      "INFO:pyensembl.sequence_data:Loaded sequence dictionary from /home/ec2-user/.cache/pyensembl/GRCm39/ensembl104/Mus_musculus.GRCm39.ncrna.fa.gz.pickle\n",
      "INFO:pyensembl.sequence_data:Loaded sequence dictionary from /home/ec2-user/.cache/pyensembl/GRCm39/ensembl104/Mus_musculus.GRCm39.pep.all.fa.gz.pickle\n"
     ]
    },
    {
     "name": "stdout",
     "output_type": "stream",
     "text": [
      "total invalid 1, from 315 0.31746031746031744 %\n",
      "new data size (3227, 314)\n"
     ]
    },
    {
     "name": "stderr",
     "output_type": "stream",
     "text": [
      "/home/ec2-user/SageMaker/functions/preprocessing.py:28: FutureWarning: X.dtype being converted to np.float32 from float64. In the next version of anndata (0.9) conversion will not be automatic. Pass dtype explicitly to avoid this warning. Pass `AnnData(X, dtype=X.dtype, ...)` to get the future behavour.\n",
      "  adata_1.raw = adata_1.copy()\n"
     ]
    }
   ],
   "source": [
    "adata_1 = ensem_for_adata(adata)"
   ]
  },
  {
   "cell_type": "code",
   "execution_count": 34,
   "id": "3ad75e7f-72fb-4347-8ce4-25719ec8d559",
   "metadata": {},
   "outputs": [],
   "source": [
    "adata_1.var[VarConstants.FEATURE_IS_FILTERED] = False"
   ]
  },
  {
   "cell_type": "code",
   "execution_count": 36,
   "id": "270d51cf-b87d-4837-aba5-3897bb42709a",
   "metadata": {},
   "outputs": [
    {
     "data": {
      "text/plain": [
       "array([[ 0.,  0.,  0., ...,  7.,  0.,  0.],\n",
       "       [ 0.,  0.,  2., ...,  3.,  0.,  0.],\n",
       "       [ 0.,  0.,  0., ...,  1.,  0.,  0.],\n",
       "       ...,\n",
       "       [ 0.,  0.,  3., ..., 10.,  0.,  0.],\n",
       "       [ 0.,  0.,  0., ...,  0.,  0.,  0.],\n",
       "       [ 0.,  0.,  0., ...,  3.,  0.,  0.]])"
      ]
     },
     "execution_count": 36,
     "metadata": {},
     "output_type": "execute_result"
    }
   ],
   "source": [
    "adata.raw.X"
   ]
  },
  {
   "cell_type": "code",
   "execution_count": 37,
   "id": "58621435-66ab-423d-bdeb-b4cb2395f4c7",
   "metadata": {},
   "outputs": [
    {
     "data": {
      "text/plain": [
       "array([[0.        , 0.        , 0.        , ..., 8.88220375, 0.        ,\n",
       "        0.        ],\n",
       "       [0.        , 0.        , 8.0506384 , ..., 8.45599721, 0.        ,\n",
       "        0.        ],\n",
       "       [0.        , 0.        , 0.        , ..., 8.94044423, 0.        ,\n",
       "        0.        ],\n",
       "       ...,\n",
       "       [0.        , 0.        , 7.3397006 , ..., 8.54321883, 0.        ,\n",
       "        0.        ],\n",
       "       [0.        , 0.        , 0.        , ..., 0.        , 0.        ,\n",
       "        0.        ],\n",
       "       [0.        , 0.        , 0.        , ..., 9.4129463 , 0.        ,\n",
       "        0.        ]])"
      ]
     },
     "execution_count": 37,
     "metadata": {},
     "output_type": "execute_result"
    }
   ],
   "source": [
    "adata_1.raw.X"
   ]
  },
  {
   "cell_type": "code",
   "execution_count": 35,
   "id": "b9545d1b-0812-46e4-979f-4bfc468f4f6e",
   "metadata": {},
   "outputs": [
    {
     "name": "stderr",
     "output_type": "stream",
     "text": [
      "INFO:cellxgene_schema.validate:Starting validation...\n",
      "WARNING:cellxgene_schema.validate:WARNING: Sparsity of 'X' is 0.7072609885934561 which is greater than 0.5, and it is not a 'scipy.sparse.csr_matrix'. It is STRONGLY RECOMMENDED to use this type of matrix for the given sparsity.\n",
      "WARNING:cellxgene_schema.validate:WARNING: Sparsity of 'raw.X' is 0.7072609885934561 which is greater than 0.5, and it is not a 'scipy.sparse.csr_matrix'. It is STRONGLY RECOMMENDED to use this type of matrix for the given sparsity.\n",
      "WARNING:cellxgene_schema.validate:WARNING: Dataframe 'var' only has 314 rows. Features SHOULD NOT be filtered from expression matrix.\n",
      "ERROR:cellxgene_schema.validate:ERROR: Raw data may be missing: data in 'raw.X' contains non-integer values.\n",
      "INFO:cellxgene_schema.validate:Validation complete in 0:00:00.517325 with status is_valid=False\n"
     ]
    }
   ],
   "source": [
    "\n",
    "adata_output, valid, errors, is_seurat_convertible = validate(adata_1, organism=organism_validator)"
   ]
  },
  {
   "cell_type": "code",
   "execution_count": 21,
   "id": "b0d55499-b772-4b5a-a45e-bb95a320c056",
   "metadata": {},
   "outputs": [
    {
     "data": {
      "text/html": [
       "<div>\n",
       "<style scoped>\n",
       "    .dataframe tbody tr th:only-of-type {\n",
       "        vertical-align: middle;\n",
       "    }\n",
       "\n",
       "    .dataframe tbody tr th {\n",
       "        vertical-align: top;\n",
       "    }\n",
       "\n",
       "    .dataframe thead th {\n",
       "        text-align: right;\n",
       "    }\n",
       "</style>\n",
       "<table border=\"1\" class=\"dataframe\">\n",
       "  <thead>\n",
       "    <tr style=\"text-align: right;\">\n",
       "      <th></th>\n",
       "      <th>feature_is_filtered</th>\n",
       "    </tr>\n",
       "  </thead>\n",
       "  <tbody>\n",
       "    <tr>\n",
       "      <th>ENSMUSG00000073821</th>\n",
       "      <td>False</td>\n",
       "    </tr>\n",
       "    <tr>\n",
       "      <th>ENSMUSG00000087022</th>\n",
       "      <td>False</td>\n",
       "    </tr>\n",
       "    <tr>\n",
       "      <th>ENSMUSG00000114028</th>\n",
       "      <td>False</td>\n",
       "    </tr>\n",
       "    <tr>\n",
       "      <th>ENSMUSG00000004668</th>\n",
       "      <td>False</td>\n",
       "    </tr>\n",
       "    <tr>\n",
       "      <th>ENSMUSG00000035258</th>\n",
       "      <td>False</td>\n",
       "    </tr>\n",
       "    <tr>\n",
       "      <th>...</th>\n",
       "      <td>...</td>\n",
       "    </tr>\n",
       "    <tr>\n",
       "      <th>ENSMUSG00000044014</th>\n",
       "      <td>False</td>\n",
       "    </tr>\n",
       "    <tr>\n",
       "      <th>ENSMUSG00000030551</th>\n",
       "      <td>False</td>\n",
       "    </tr>\n",
       "    <tr>\n",
       "      <th>ENSMUSG00000026826</th>\n",
       "      <td>False</td>\n",
       "    </tr>\n",
       "    <tr>\n",
       "      <th>ENSMUSG00000035357</th>\n",
       "      <td>False</td>\n",
       "    </tr>\n",
       "    <tr>\n",
       "      <th>ENSMUSG00000051354</th>\n",
       "      <td>False</td>\n",
       "    </tr>\n",
       "  </tbody>\n",
       "</table>\n",
       "<p>314 rows × 1 columns</p>\n",
       "</div>"
      ],
      "text/plain": [
       "                    feature_is_filtered\n",
       "ENSMUSG00000073821                False\n",
       "ENSMUSG00000087022                False\n",
       "ENSMUSG00000114028                False\n",
       "ENSMUSG00000004668                False\n",
       "ENSMUSG00000035258                False\n",
       "...                                 ...\n",
       "ENSMUSG00000044014                False\n",
       "ENSMUSG00000030551                False\n",
       "ENSMUSG00000026826                False\n",
       "ENSMUSG00000035357                False\n",
       "ENSMUSG00000051354                False\n",
       "\n",
       "[314 rows x 1 columns]"
      ]
     },
     "execution_count": 21,
     "metadata": {},
     "output_type": "execute_result"
    }
   ],
   "source": [
    "adata_1.raw.var"
   ]
  },
  {
   "cell_type": "code",
   "execution_count": 20,
   "id": "9150a1cd-50cf-4094-835f-b5093494a675",
   "metadata": {},
   "outputs": [
    {
     "ename": "AttributeError",
     "evalue": "can't set attribute 'var'",
     "output_type": "error",
     "traceback": [
      "\u001b[0;31m---------------------------------------------------------------------------\u001b[0m",
      "\u001b[0;31mAttributeError\u001b[0m                            Traceback (most recent call last)",
      "Cell \u001b[0;32mIn[20], line 1\u001b[0m\n\u001b[0;32m----> 1\u001b[0m \u001b[43madata_1\u001b[49m\u001b[38;5;241;43m.\u001b[39;49m\u001b[43mraw\u001b[49m\u001b[38;5;241;43m.\u001b[39;49m\u001b[43mvar\u001b[49m \u001b[38;5;241m=\u001b[39m adata_1\u001b[38;5;241m.\u001b[39mraw\u001b[38;5;241m.\u001b[39mvar\u001b[38;5;241m.\u001b[39mindex\n",
      "\u001b[0;31mAttributeError\u001b[0m: can't set attribute 'var'"
     ]
    }
   ],
   "source": [
    "adata_1.raw.var = adata_1.raw.var.index"
   ]
  },
  {
   "cell_type": "code",
   "execution_count": null,
   "id": "7a8a4031-fd90-47a5-9158-9b0b06d8f97a",
   "metadata": {},
   "outputs": [],
   "source": []
  },
  {
   "cell_type": "code",
   "execution_count": null,
   "id": "60a9a65e-5eba-4d01-8b3e-f5f3f88aa3c9",
   "metadata": {},
   "outputs": [],
   "source": []
  },
  {
   "cell_type": "code",
   "execution_count": null,
   "id": "2f99ce9d-6632-43f5-bcb2-99242fa9314d",
   "metadata": {},
   "outputs": [],
   "source": []
  },
  {
   "cell_type": "code",
   "execution_count": null,
   "id": "9e42c500-fe82-48e1-b1d2-d60e067ef220",
   "metadata": {},
   "outputs": [],
   "source": []
  },
  {
   "cell_type": "code",
   "execution_count": null,
   "id": "553adce4-cab6-405a-af1e-95fa481315f2",
   "metadata": {},
   "outputs": [],
   "source": []
  },
  {
   "cell_type": "code",
   "execution_count": null,
   "id": "98154dfe-2813-4982-98c2-cb52edf80502",
   "metadata": {},
   "outputs": [],
   "source": []
  },
  {
   "cell_type": "code",
   "execution_count": null,
   "id": "1b0d876f-b352-404b-8535-d329da43f238",
   "metadata": {},
   "outputs": [],
   "source": []
  },
  {
   "cell_type": "code",
   "execution_count": null,
   "id": "966ea4ef-8097-4d3b-a77f-d19708667b0f",
   "metadata": {},
   "outputs": [],
   "source": []
  },
  {
   "cell_type": "code",
   "execution_count": null,
   "id": "6207a604-71d7-48d9-863d-4e72be8abed1",
   "metadata": {},
   "outputs": [],
   "source": []
  },
  {
   "cell_type": "code",
   "execution_count": null,
   "id": "814c6471-23a6-4e6b-9ec0-0b313754b3c8",
   "metadata": {},
   "outputs": [],
   "source": []
  },
  {
   "cell_type": "code",
   "execution_count": null,
   "id": "9078b5fd-e50f-45ff-82d4-c162a57dec0d",
   "metadata": {},
   "outputs": [],
   "source": []
  },
  {
   "cell_type": "code",
   "execution_count": 21,
   "id": "60c2e667-f6b5-4af7-be30-115ded5d6157",
   "metadata": {},
   "outputs": [
    {
     "ename": "TypeError",
     "evalue": "object of type 'NoneType' has no len()",
     "output_type": "error",
     "traceback": [
      "\u001b[0;31m---------------------------------------------------------------------------\u001b[0m",
      "\u001b[0;31mTypeError\u001b[0m                                 Traceback (most recent call last)",
      "Cell \u001b[0;32mIn[21], line 1\u001b[0m\n\u001b[0;32m----> 1\u001b[0m adata_output\u001b[38;5;241m.\u001b[39mobs[\u001b[38;5;124m'\u001b[39m\u001b[38;5;124massay\u001b[39m\u001b[38;5;124m'\u001b[39m] \u001b[38;5;241m=\u001b[39m pd\u001b[38;5;241m.\u001b[39mCategorical([\u001b[38;5;124m'\u001b[39m\u001b[38;5;124mXenium\u001b[39m\u001b[38;5;124m'\u001b[39m \u001b[38;5;28;01mfor\u001b[39;00m i \u001b[38;5;129;01min\u001b[39;00m \u001b[38;5;28mrange\u001b[39m(\u001b[38;5;28;43mlen\u001b[39;49m\u001b[43m(\u001b[49m\u001b[43madata_output\u001b[49m\u001b[43m)\u001b[49m)])\n\u001b[1;32m      2\u001b[0m adata_output\u001b[38;5;241m.\u001b[39mobs[ObsConstants\u001b[38;5;241m.\u001b[39mASSAY_ONTOLOGY_TERM_ID] \u001b[38;5;241m=\u001b[39m pd\u001b[38;5;241m.\u001b[39mCategorical([\u001b[38;5;124m'\u001b[39m\u001b[38;5;124mno yet defined\u001b[39m\u001b[38;5;124m'\u001b[39m \u001b[38;5;28;01mfor\u001b[39;00m i \u001b[38;5;129;01min\u001b[39;00m \u001b[38;5;28mrange\u001b[39m(\u001b[38;5;28mlen\u001b[39m(adata_output))])\n\u001b[1;32m      4\u001b[0m adata_output\u001b[38;5;241m.\u001b[39mobs[ObsConstants\u001b[38;5;241m.\u001b[39mDATASET] \u001b[38;5;241m=\u001b[39m adata_output\u001b[38;5;241m.\u001b[39muns[\u001b[38;5;124m'\u001b[39m\u001b[38;5;124mtitle\u001b[39m\u001b[38;5;124m'\u001b[39m]\n",
      "\u001b[0;31mTypeError\u001b[0m: object of type 'NoneType' has no len()"
     ]
    }
   ],
   "source": [
    "adata_output.obs['assay'] = pd.Categorical(['Xenium' for i in range(len(adata_output))])\n",
    "adata_output.obs[ObsConstants.ASSAY_ONTOLOGY_TERM_ID] = pd.Categorical(['no yet defined' for i in range(len(adata_output))])\n",
    "\n",
    "adata_output.obs[ObsConstants.DATASET] = adata_output.uns['title']\n",
    "adata_output.obs[ObsConstants.SPLIT] = 'train'\n",
    "adata_output.obs[ObsConstants.NICHE] = 'nan'\n",
    "adata_output.obs[ObsConstants.REGION] = 'nan'\n",
    "\n",
    "adata_output.write(f\"{preprocessed_path}/Xenium_Preview_Human_Non_diseased_Lung_With_Add_on_FFPE_outs.h5ad\")"
   ]
  },
  {
   "cell_type": "code",
   "execution_count": 32,
   "id": "b7a63de6-22ca-4339-b323-2dbb4ddbb9f5",
   "metadata": {},
   "outputs": [
    {
     "data": {
      "text/plain": [
       "66.0"
      ]
     },
     "execution_count": 32,
     "metadata": {},
     "output_type": "execute_result"
    }
   ],
   "source": [
    "adata.X.max()"
   ]
  },
  {
   "cell_type": "code",
   "execution_count": 24,
   "id": "ed2aace0-53df-4cef-8e57-61f2e06eed9d",
   "metadata": {},
   "outputs": [],
   "source": [
    "adata_output"
   ]
  }
 ],
 "metadata": {
  "kernelspec": {
   "display_name": "conda_pytorch_p310",
   "language": "python",
   "name": "conda_pytorch_p310"
  },
  "language_info": {
   "codemirror_mode": {
    "name": "ipython",
    "version": 3
   },
   "file_extension": ".py",
   "mimetype": "text/x-python",
   "name": "python",
   "nbconvert_exporter": "python",
   "pygments_lexer": "ipython3",
   "version": "3.10.14"
  }
 },
 "nbformat": 4,
 "nbformat_minor": 5
}
