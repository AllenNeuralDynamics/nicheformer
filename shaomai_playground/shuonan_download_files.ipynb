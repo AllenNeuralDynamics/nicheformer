{
 "cells": [
  {
   "cell_type": "code",
   "execution_count": 1,
   "id": "271cbc33-333b-47c0-90bb-84f7cad09f03",
   "metadata": {},
   "outputs": [],
   "source": [
    "# import torch\n",
    "import numpy as np\n",
    "# torch.cuda.is_available()"
   ]
  },
  {
   "cell_type": "code",
   "execution_count": 2,
   "id": "473cfb0a-ad19-4028-a4f7-d99b69dc0c5f",
   "metadata": {},
   "outputs": [],
   "source": [
    "\n",
    "import sys\n",
    "sys.path.append(\"./nicheformer/src/nicheformer/\")"
   ]
  },
  {
   "cell_type": "code",
   "execution_count": 5,
   "id": "9da19ff0-a387-4570-8b90-f27392459ef3",
   "metadata": {},
   "outputs": [],
   "source": [
    "from nicheformer.data.download import download_tar\n",
    "from nicheformer.data.constants import GeneExpressionOmnibus, DefaultPaths\n"
   ]
  },
  {
   "cell_type": "code",
   "execution_count": 11,
   "id": "d24b4447-8a17-4086-9a4c-db777b0b87c3",
   "metadata": {},
   "outputs": [],
   "source": [
    "modelpath = '/home/ec2-user/SageMaker/nicheformer/data/model_means/model.h5ad'"
   ]
  },
  {
   "cell_type": "code",
   "execution_count": 12,
   "id": "8b28ffb6-a1c5-49aa-959c-d4e214b3f350",
   "metadata": {},
   "outputs": [],
   "source": [
    "import anndata as ad"
   ]
  },
  {
   "cell_type": "code",
   "execution_count": 13,
   "id": "acd0e393-fe53-48cc-b443-745461404dbf",
   "metadata": {},
   "outputs": [],
   "source": [
    "model = ad.read_h5ad(modelpath)"
   ]
  },
  {
   "cell_type": "code",
   "execution_count": 14,
   "id": "fe13f5bf-04d7-4814-b28b-f677e52373df",
   "metadata": {},
   "outputs": [
    {
     "data": {
      "text/plain": [
       "AnnData object with n_obs × n_vars = 1 × 20310\n",
       "    obs: 'soma_joinid', 'is_primary_data', 'dataset_id', 'donor_id', 'assay', 'cell_type', 'development_stage', 'disease', 'tissue', 'tissue_general', 'specie', 'technology', 'dataset', 'x', 'y', 'assay_ontology_term_id', 'sex_ontology_term_id', 'organism_ontology_term_id', 'tissue_ontology_term_id', 'suspension_type', 'condition_id', 'tissue_type', 'library_key', 'organism', 'sex', 'niche', 'region', 'nicheformer_split', 'author_cell_type', 'batch'"
      ]
     },
     "execution_count": 14,
     "metadata": {},
     "output_type": "execute_result"
    }
   ],
   "source": [
    "model"
   ]
  },
  {
   "cell_type": "markdown",
   "id": "1cc720b3-e27d-4245-a08b-8f3370dd3a0a",
   "metadata": {},
   "source": [
    "# try to download  dissociated "
   ]
  },
  {
   "cell_type": "code",
   "execution_count": 6,
   "id": "ee0a8540-f45d-4b01-be5d-52d881900d39",
   "metadata": {},
   "outputs": [],
   "source": [
    "geo_id = 'GSE172127'\n"
   ]
  },
  {
   "cell_type": "code",
   "execution_count": 7,
   "id": "b51ab40d-4159-40d7-8253-e00e8fdfdb1e",
   "metadata": {},
   "outputs": [
    {
     "name": "stderr",
     "output_type": "stream",
     "text": [
      "21667it [00:04, 5060.16it/s]\n"
     ]
    },
    {
     "name": "stdout",
     "output_type": "stream",
     "text": [
      "Downloaded https://www.ncbi.nlm.nih.gov/geo/download/?acc=GSE172127&format=file, saved to /home/ec2-user/SageMaker/test_data/raw_data_GSE172127.tar\n",
      "<class 'list'>\n",
      "mtx\n",
      "tsv\n"
     ]
    }
   ],
   "source": [
    "download_tar(\n",
    "    f\"{GeneExpressionOmnibus.DOWNLOAD_URL}{geo_id}{GeneExpressionOmnibus.FORMAT}\", \n",
    "    save_path=f\"/home/ec2-user/SageMaker/test_data/dissociated/raw_data_{geo_id}.tar\", \n",
    "    file_format=[\"mtx\", \"tsv\"]\n",
    ")\n"
   ]
  },
  {
   "cell_type": "code",
   "execution_count": null,
   "id": "1ad4b608-a985-4acf-af34-f464e0269459",
   "metadata": {},
   "outputs": [],
   "source": []
  },
  {
   "cell_type": "code",
   "execution_count": null,
   "id": "4b460b84-6b9f-455b-a878-1223e7243762",
   "metadata": {},
   "outputs": [],
   "source": []
  },
  {
   "cell_type": "markdown",
   "id": "49421593-1883-476b-ac65-ede33ca78c07",
   "metadata": {},
   "source": [
    "# downlaod spatial"
   ]
  },
  {
   "cell_type": "code",
   "execution_count": 12,
   "id": "ce606161-8286-4788-8449-018b56c56714",
   "metadata": {},
   "outputs": [],
   "source": [
    "savefile_target = '/home/ec2-user/SageMaker/test_data/spatial/'"
   ]
  },
  {
   "cell_type": "code",
   "execution_count": 13,
   "id": "9a0e9db8-d939-42d4-8b49-13c0b3429abd",
   "metadata": {},
   "outputs": [],
   "source": [
    "from nicheformer.data.download import download_zip"
   ]
  },
  {
   "cell_type": "code",
   "execution_count": 14,
   "id": "3c1f5b89-0c75-4eb3-9414-4e11211ee580",
   "metadata": {},
   "outputs": [
    {
     "name": "stderr",
     "output_type": "stream",
     "text": [
      "2248765it [14:03, 2665.82it/s]\n"
     ]
    },
    {
     "name": "stdout",
     "output_type": "stream",
     "text": [
      "Downloaded, saved to /home/ec2-user/SageMaker/test_data/spatial//Xenium_Preview_Human_Non_diseased_Lung_With_Add_on_FFPE_outs.zip\n"
     ]
    }
   ],
   "source": [
    "download_zip(\n",
    "    url=\"https://cf.10xgenomics.com/samples/xenium/1.3.0/Xenium_Preview_Human_Non_diseased_Lung_With_Add_on_FFPE/Xenium_Preview_Human_Non_diseased_Lung_With_Add_on_FFPE_outs.zip\",\n",
    "    save_path=savefile_target,\n",
    "    fn=\"Xenium_Preview_Human_Non_diseased_Lung_With_Add_on_FFPE_outs\"\n",
    ")"
   ]
  },
  {
   "cell_type": "code",
   "execution_count": null,
   "id": "bd797559-fe74-42cf-8219-4a3776437ece",
   "metadata": {},
   "outputs": [],
   "source": []
  },
  {
   "cell_type": "code",
   "execution_count": null,
   "id": "ad1b2f4f-4c8e-41a7-ba5a-f76b2341553b",
   "metadata": {},
   "outputs": [],
   "source": []
  },
  {
   "cell_type": "code",
   "execution_count": null,
   "id": "7a320748-308d-433b-8386-4e59607d1b35",
   "metadata": {},
   "outputs": [],
   "source": []
  },
  {
   "cell_type": "code",
   "execution_count": null,
   "id": "8cf12df4-e57e-461e-a09e-590e9c8add06",
   "metadata": {},
   "outputs": [],
   "source": []
  },
  {
   "cell_type": "code",
   "execution_count": null,
   "id": "a1ae617c-93a1-4529-b629-48c4fd5b1d46",
   "metadata": {},
   "outputs": [],
   "source": []
  },
  {
   "cell_type": "code",
   "execution_count": null,
   "id": "3d6be9a1-aee3-4fb3-9e5b-64946ad2bda7",
   "metadata": {},
   "outputs": [],
   "source": []
  },
  {
   "cell_type": "code",
   "execution_count": null,
   "id": "1af09e1f-d9c2-4fbd-9926-19d6ba4d5a0c",
   "metadata": {},
   "outputs": [],
   "source": []
  },
  {
   "cell_type": "code",
   "execution_count": null,
   "id": "0c50f4c3-ae12-46e3-a42c-92d488fcdc73",
   "metadata": {},
   "outputs": [],
   "source": []
  },
  {
   "cell_type": "code",
   "execution_count": null,
   "id": "887c2965-a4e2-4369-8d75-2e3810c728ad",
   "metadata": {},
   "outputs": [],
   "source": []
  },
  {
   "cell_type": "code",
   "execution_count": null,
   "id": "51a2eb20-6d61-4bba-b66d-f86d1729b5db",
   "metadata": {},
   "outputs": [],
   "source": []
  },
  {
   "cell_type": "code",
   "execution_count": null,
   "id": "c8bcdaff-7a76-4f92-8759-9f696e9f719b",
   "metadata": {},
   "outputs": [],
   "source": []
  },
  {
   "cell_type": "code",
   "execution_count": null,
   "id": "9fb7ef5d-8b43-4f9d-b8cc-f911f072438c",
   "metadata": {},
   "outputs": [],
   "source": []
  },
  {
   "cell_type": "code",
   "execution_count": null,
   "id": "8ee95010-8dcb-49fd-b907-87425960fc30",
   "metadata": {},
   "outputs": [],
   "source": [
    "data_path_config =  '/lustre/groups/ml01/projects/2023_nicheformer_data_anna.schaar/spatial/preprocessed/human/nanostring_cosmx_human_liver.h5ad',\n",
    "\n"
   ]
  },
  {
   "cell_type": "code",
   "execution_count": null,
   "id": "dbad846c-0bf3-4daa-a40d-ae56885916af",
   "metadata": {},
   "outputs": [],
   "source": []
  },
  {
   "cell_type": "code",
   "execution_count": 15,
   "id": "c38faf57-e1f6-46d0-8f43-0898493f0059",
   "metadata": {},
   "outputs": [
    {
     "data": {
      "text/html": [
       "<div>\n",
       "<style scoped>\n",
       "    .dataframe tbody tr th:only-of-type {\n",
       "        vertical-align: middle;\n",
       "    }\n",
       "\n",
       "    .dataframe tbody tr th {\n",
       "        vertical-align: top;\n",
       "    }\n",
       "\n",
       "    .dataframe thead th {\n",
       "        text-align: right;\n",
       "    }\n",
       "</style>\n",
       "<table border=\"1\" class=\"dataframe\">\n",
       "  <thead>\n",
       "    <tr style=\"text-align: right;\">\n",
       "      <th></th>\n",
       "      <th>soma_joinid</th>\n",
       "      <th>is_primary_data</th>\n",
       "      <th>dataset_id</th>\n",
       "      <th>donor_id</th>\n",
       "      <th>assay</th>\n",
       "      <th>cell_type</th>\n",
       "      <th>development_stage</th>\n",
       "      <th>disease</th>\n",
       "      <th>tissue</th>\n",
       "      <th>tissue_general</th>\n",
       "      <th>...</th>\n",
       "      <th>condition_id</th>\n",
       "      <th>tissue_type</th>\n",
       "      <th>library_key</th>\n",
       "      <th>organism</th>\n",
       "      <th>sex</th>\n",
       "      <th>niche</th>\n",
       "      <th>region</th>\n",
       "      <th>nicheformer_split</th>\n",
       "      <th>author_cell_type</th>\n",
       "      <th>batch</th>\n",
       "    </tr>\n",
       "  </thead>\n",
       "  <tbody>\n",
       "    <tr>\n",
       "      <th>1_organism0</th>\n",
       "      <td>NaN</td>\n",
       "      <td>&lt;NA&gt;</td>\n",
       "      <td>NaN</td>\n",
       "      <td>replicate 1</td>\n",
       "      <td>Xenium</td>\n",
       "      <td>NaN</td>\n",
       "      <td>NaN</td>\n",
       "      <td>NaN</td>\n",
       "      <td>breast</td>\n",
       "      <td>NaN</td>\n",
       "      <td>...</td>\n",
       "      <td>Infiltrating Ductal Carcinoma</td>\n",
       "      <td>tissue</td>\n",
       "      <td>replicate 1</td>\n",
       "      <td>Homo sapiens</td>\n",
       "      <td>unknown</td>\n",
       "      <td>nan</td>\n",
       "      <td>nan</td>\n",
       "      <td>train</td>\n",
       "      <td>NaN</td>\n",
       "      <td>0</td>\n",
       "    </tr>\n",
       "  </tbody>\n",
       "</table>\n",
       "<p>1 rows × 30 columns</p>\n",
       "</div>"
      ],
      "text/plain": [
       "             soma_joinid  is_primary_data dataset_id     donor_id   assay  \\\n",
       "1_organism0          NaN             <NA>        NaN  replicate 1  Xenium   \n",
       "\n",
       "            cell_type development_stage disease  tissue tissue_general  ...  \\\n",
       "1_organism0       NaN               NaN     NaN  breast            NaN  ...   \n",
       "\n",
       "                              condition_id tissue_type  library_key  \\\n",
       "1_organism0  Infiltrating Ductal Carcinoma      tissue  replicate 1   \n",
       "\n",
       "                 organism      sex niche region nicheformer_split  \\\n",
       "1_organism0  Homo sapiens  unknown   nan    nan             train   \n",
       "\n",
       "            author_cell_type batch  \n",
       "1_organism0              NaN     0  \n",
       "\n",
       "[1 rows x 30 columns]"
      ]
     },
     "execution_count": 15,
     "metadata": {},
     "output_type": "execute_result"
    }
   ],
   "source": [
    "adata = ad.read_h5ad(config['data_path'])\n",
    "technology_mean = np.load(config['technology_mean_path'])\n",
    "\n",
    "# format data properly with the model\n",
    "adata = ad.concat([model, adata], join='outer', axis=0)\n",
    "# dropping the first observation \n",
    "adata = adata[1:].copy()"
   ]
  },
  {
   "cell_type": "code",
   "execution_count": 19,
   "id": "3a3d5d37-4382-4a00-9fa1-13ef0defbc9d",
   "metadata": {},
   "outputs": [
    {
     "data": {
      "text/html": [
       "<div>\n",
       "<style scoped>\n",
       "    .dataframe tbody tr th:only-of-type {\n",
       "        vertical-align: middle;\n",
       "    }\n",
       "\n",
       "    .dataframe tbody tr th {\n",
       "        vertical-align: top;\n",
       "    }\n",
       "\n",
       "    .dataframe thead th {\n",
       "        text-align: right;\n",
       "    }\n",
       "</style>\n",
       "<table border=\"1\" class=\"dataframe\">\n",
       "  <thead>\n",
       "    <tr style=\"text-align: right;\">\n",
       "      <th></th>\n",
       "    </tr>\n",
       "  </thead>\n",
       "  <tbody>\n",
       "    <tr>\n",
       "      <th>ENSG00000000003</th>\n",
       "    </tr>\n",
       "    <tr>\n",
       "      <th>ENSG00000000005</th>\n",
       "    </tr>\n",
       "    <tr>\n",
       "      <th>ENSG00000000419</th>\n",
       "    </tr>\n",
       "    <tr>\n",
       "      <th>ENSG00000000457</th>\n",
       "    </tr>\n",
       "    <tr>\n",
       "      <th>ENSG00000000460</th>\n",
       "    </tr>\n",
       "    <tr>\n",
       "      <th>...</th>\n",
       "    </tr>\n",
       "    <tr>\n",
       "      <th>ENSMUSG00000114469</th>\n",
       "    </tr>\n",
       "    <tr>\n",
       "      <th>ENSMUSG00000115424</th>\n",
       "    </tr>\n",
       "    <tr>\n",
       "      <th>ENSMUSG00000115432</th>\n",
       "    </tr>\n",
       "    <tr>\n",
       "      <th>ENSMUSG00000115529</th>\n",
       "    </tr>\n",
       "    <tr>\n",
       "      <th>ENSMUSG00000115965</th>\n",
       "    </tr>\n",
       "  </tbody>\n",
       "</table>\n",
       "<p>20310 rows × 0 columns</p>\n",
       "</div>"
      ],
      "text/plain": [
       "Empty DataFrame\n",
       "Columns: []\n",
       "Index: [ENSG00000000003, ENSG00000000005, ENSG00000000419, ENSG00000000457, ENSG00000000460, ENSG00000000938, ENSG00000000971, ENSG00000001036, ENSG00000001084, ENSG00000001167, ENSG00000001460, ENSG00000001461, ENSG00000001497, ENSG00000001561, ENSG00000001617, ENSG00000001626, ENSG00000001629, ENSG00000001630, ENSG00000001631, ENSG00000002016, ENSG00000002330, ENSG00000002549, ENSG00000002586, ENSG00000002587, ENSG00000002726, ENSG00000002745, ENSG00000002746, ENSG00000002822, ENSG00000002834, ENSG00000002919, ENSG00000002933, ENSG00000003056, ENSG00000003096, ENSG00000003137, ENSG00000003147, ENSG00000003249, ENSG00000003393, ENSG00000003400, ENSG00000003402, ENSG00000003436, ENSG00000003509, ENSG00000003756, ENSG00000003987, ENSG00000003989, ENSG00000004059, ENSG00000004139, ENSG00000004142, ENSG00000004399, ENSG00000004455, ENSG00000004468, ENSG00000004478, ENSG00000004487, ENSG00000004534, ENSG00000004660, ENSG00000004700, ENSG00000004766, ENSG00000004776, ENSG00000004777, ENSG00000004779, ENSG00000004799, ENSG00000004809, ENSG00000004838, ENSG00000004846, ENSG00000004848, ENSG00000004864, ENSG00000004866, ENSG00000004897, ENSG00000004939, ENSG00000004948, ENSG00000004961, ENSG00000004975, ENSG00000005001, ENSG00000005007, ENSG00000005020, ENSG00000005022, ENSG00000005059, ENSG00000005073, ENSG00000005075, ENSG00000005100, ENSG00000005102, ENSG00000005108, ENSG00000005156, ENSG00000005175, ENSG00000005187, ENSG00000005189, ENSG00000005194, ENSG00000005206, ENSG00000005238, ENSG00000005243, ENSG00000005249, ENSG00000005302, ENSG00000005339, ENSG00000005379, ENSG00000005381, ENSG00000005421, ENSG00000005436, ENSG00000005448, ENSG00000005469, ENSG00000005471, ENSG00000005483, ...]\n",
       "\n",
       "[20310 rows x 0 columns]"
      ]
     },
     "execution_count": 19,
     "metadata": {},
     "output_type": "execute_result"
    }
   ],
   "source": [
    "model.var"
   ]
  },
  {
   "cell_type": "code",
   "execution_count": 18,
   "id": "a35eab83-be96-40b0-aa42-85ed914cdde2",
   "metadata": {},
   "outputs": [
    {
     "ename": "AttributeError",
     "evalue": "'function' object has no attribute 'shape'",
     "output_type": "error",
     "traceback": [
      "\u001b[0;31m---------------------------------------------------------------------------\u001b[0m",
      "\u001b[0;31mAttributeError\u001b[0m                            Traceback (most recent call last)",
      "Cell \u001b[0;32mIn[18], line 1\u001b[0m\n\u001b[0;32m----> 1\u001b[0m \u001b[43mmodel\u001b[49m\u001b[38;5;241;43m.\u001b[39;49m\u001b[43mchunk_X\u001b[49m\u001b[38;5;241;43m.\u001b[39;49m\u001b[43mshape\u001b[49m\n",
      "\u001b[0;31mAttributeError\u001b[0m: 'function' object has no attribute 'shape'"
     ]
    }
   ],
   "source": [
    "model."
   ]
  },
  {
   "cell_type": "code",
   "execution_count": null,
   "id": "bdb2ef45-3212-477d-9058-84d67a355e06",
   "metadata": {},
   "outputs": [],
   "source": []
  },
  {
   "cell_type": "code",
   "execution_count": null,
   "id": "9b5f67d8-a606-4046-a504-e1d56ad6081e",
   "metadata": {},
   "outputs": [],
   "source": []
  },
  {
   "cell_type": "code",
   "execution_count": null,
   "id": "b96528b5-b165-4d4a-8d49-fcf15c1f6aa7",
   "metadata": {},
   "outputs": [],
   "source": []
  },
  {
   "cell_type": "code",
   "execution_count": null,
   "id": "1104fb94-a6ff-48c5-9397-d294e2c00c2a",
   "metadata": {},
   "outputs": [],
   "source": []
  },
  {
   "cell_type": "code",
   "execution_count": null,
   "id": "eb12e986-8d89-4cfe-98a8-edf72103ecb9",
   "metadata": {},
   "outputs": [],
   "source": []
  },
  {
   "cell_type": "code",
   "execution_count": null,
   "id": "b3754e82-5a25-4df4-9252-f293f77d0d58",
   "metadata": {},
   "outputs": [],
   "source": []
  },
  {
   "cell_type": "code",
   "execution_count": null,
   "id": "c7dd60d6-f4fd-46d7-979f-54160d6aff67",
   "metadata": {},
   "outputs": [],
   "source": []
  }
 ],
 "metadata": {
  "kernelspec": {
   "display_name": "conda_pytorch_p310",
   "language": "python",
   "name": "conda_pytorch_p310"
  },
  "language_info": {
   "codemirror_mode": {
    "name": "ipython",
    "version": 3
   },
   "file_extension": ".py",
   "mimetype": "text/x-python",
   "name": "python",
   "nbconvert_exporter": "python",
   "pygments_lexer": "ipython3",
   "version": "3.10.14"
  }
 },
 "nbformat": 4,
 "nbformat_minor": 5
}
