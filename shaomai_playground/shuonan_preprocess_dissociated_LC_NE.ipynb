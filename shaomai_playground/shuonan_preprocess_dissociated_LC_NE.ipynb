{
 "cells": [
  {
   "cell_type": "code",
   "execution_count": 1,
   "id": "163a164a-c574-42b0-8c78-ab69944fb722",
   "metadata": {},
   "outputs": [],
   "source": [
    "%load_ext autoreload\n",
    "%autoreload 2"
   ]
  },
  {
   "cell_type": "code",
   "execution_count": 2,
   "id": "bfda9c5e-ccf3-4734-9fdb-672c795a00fc",
   "metadata": {},
   "outputs": [],
   "source": [
    "import anndata\n",
    "import os \n",
    "import sys\n",
    "import pandas as pd\n",
    "import scanpy as sc\n",
    "from tqdm import tqdm\n",
    "\n",
    "from nicheformer.data.constants import DefaultPaths, ObsConstants, UnsConstants, VarConstants, AssayOntologyTermId, SexOntologyTermId, OrganismOntologyTermId, TissueOntologyTermId, SuspensionTypeId\n",
    "from nicheformer.data.tools import qc_filter\n",
    "from nicheformer.data.validate import validate\n",
    "from nicheformer.data.download import download_tar\n",
    "from nicheformer.data.constants import GeneExpressionOmnibus, DefaultPaths\n",
    "import numpy as np\n",
    "from pyensembl import EnsemblRelease"
   ]
  },
  {
   "cell_type": "code",
   "execution_count": 3,
   "id": "b9fe325a-be52-47ee-ae3c-d20e90e0d754",
   "metadata": {},
   "outputs": [],
   "source": [
    "raw_path = f\"/home/ec2-user/SageMaker/our_data_LC_NE/\"\n",
    "preprocessed_path = f\"/home/ec2-user/SageMaker/our_data_LC_NE/preprocessed\""
   ]
  },
  {
   "cell_type": "code",
   "execution_count": 4,
   "id": "969e7bd4-f4fb-4a57-9b25-0a4fb96a2d1f",
   "metadata": {},
   "outputs": [
    {
     "data": {
      "text/plain": [
       "'EFO:0008992'"
      ]
     },
     "execution_count": 4,
     "metadata": {},
     "output_type": "execute_result"
    }
   ],
   "source": [
    "str(AssayOntologyTermId.MERFISH_SPATIAL.value)"
   ]
  },
  {
   "cell_type": "code",
   "execution_count": 26,
   "id": "44e2e083-a079-468b-898a-4dccbd790d29",
   "metadata": {},
   "outputs": [],
   "source": [
    "assay = str(AssayOntologyTermId.TENX_3.value)\n",
    "organism = str(OrganismOntologyTermId.MOUSE.value)\n",
    "organism_validator = \"mouse\"\n",
    "tissue_type = \"tissue\" # or alternatively \"organoid\"\n",
    "condition_id = \"wild type\""
   ]
  },
  {
   "cell_type": "code",
   "execution_count": 7,
   "id": "e04f1d93-e4b6-4417-abd0-f8b221d0dbbe",
   "metadata": {},
   "outputs": [
    {
     "data": {
      "text/plain": [
       "'UBERON:0000955'"
      ]
     },
     "execution_count": 7,
     "metadata": {},
     "output_type": "execute_result"
    }
   ],
   "source": [
    "str(TissueOntologyTermId.BRAIN.value)"
   ]
  },
  {
   "cell_type": "code",
   "execution_count": 8,
   "id": "94cf4084-0398-4e1c-ac4c-8445ca5d3821",
   "metadata": {},
   "outputs": [
    {
     "data": {
      "text/plain": [
       "'nucleus'"
      ]
     },
     "execution_count": 8,
     "metadata": {},
     "output_type": "execute_result"
    }
   ],
   "source": [
    "str(SuspensionTypeId.TENX_NUCLEUS.value)"
   ]
  },
  {
   "cell_type": "code",
   "execution_count": null,
   "id": "606726cc-81a9-4742-a18b-249bad8fbadf",
   "metadata": {},
   "outputs": [],
   "source": [
    "SuspensionTypeId.TENX_NUCLEUS"
   ]
  },
  {
   "cell_type": "code",
   "execution_count": 9,
   "id": "3812e214-79f2-4a78-8537-670d6e007548",
   "metadata": {},
   "outputs": [],
   "source": [
    "tissue = str(TissueOntologyTermId.BRAIN.value)\n",
    "suspension_type = str(SuspensionTypeId.TENX_NUCLEUS.value)\n",
    "sex_f = str(SexOntologyTermId.FEMALE.value)\n",
    "sex_m = str(SexOntologyTermId.MALE.value)"
   ]
  },
  {
   "cell_type": "code",
   "execution_count": 10,
   "id": "a5d2afb4-5a6a-49f3-ab76-5e40572ba291",
   "metadata": {
    "scrolled": true
   },
   "outputs": [
    {
     "data": {
      "text/plain": [
       "'/home/ec2-user/SageMaker/our_data_LC_NE/adata_sc.h5ad'"
      ]
     },
     "execution_count": 10,
     "metadata": {},
     "output_type": "execute_result"
    }
   ],
   "source": [
    "filename = raw_path + 'adata_sc.h5ad'\n",
    "filename"
   ]
  },
  {
   "cell_type": "markdown",
   "id": "73ef6e48-8377-41c1-97d6-034e12fa1306",
   "metadata": {},
   "source": [
    "# load data!!!!"
   ]
  },
  {
   "cell_type": "code",
   "execution_count": 87,
   "id": "c1781eb5-50ff-4715-a956-d3f8d212583b",
   "metadata": {},
   "outputs": [],
   "source": [
    "filename = raw_path + 'adata_sc.h5ad'\n",
    "adata = sc.read_h5ad(filename)\n",
    "\n",
    "genderinfo = pd.Categorical(adata.obs['sex'].replace({'M': sex_m, 'F': sex_f}))\n",
    "\n",
    "adata.obs = adata.obs.iloc[:,:3]"
   ]
  },
  {
   "cell_type": "code",
   "execution_count": 88,
   "id": "8b37422e-b96e-4225-801e-101bd984c38b",
   "metadata": {},
   "outputs": [],
   "source": [
    "def ensem_for_adata(adata):         \n",
    "    data = EnsemblRelease(104, species='mus_musculus')    \n",
    "    data.index()\n",
    "    new_names = []\n",
    "    counter = 0\n",
    "    for i,m in enumerate(adata.var_names):\n",
    "        try:\n",
    "            out=data.genes_by_name(m)[0].id\n",
    "            new_names.append(out)\n",
    "        except:# Exception as e:  \n",
    "            # # print(e)\n",
    "            # try:\n",
    "            #     m1 = m.split(' ')[0]\n",
    "            #     out=data.genes_by_name(m1)[0].id\n",
    "            #     new_names.append(out)\n",
    "            # except:# Exception as e:\n",
    "                # print(e)\n",
    "            counter += 1\n",
    "            new_names.append(f'NA_{counter}')        \n",
    "    print(f'total invalid {counter}, from {len(adata.var_names)} {100*counter/len(adata.var_names)} %')    \n",
    "    adata_1 = adata.copy()    \n",
    "    adata_1.var.index = (new_names)    \n",
    "    adata_1 = adata_1[:,adata_1.var.index != 'NA']\n",
    "    \n",
    "    print(f'new data size {adata_1.shape}')\n",
    "    return(adata_1)"
   ]
  },
  {
   "cell_type": "code",
   "execution_count": 89,
   "id": "124ae4c4-65ec-4c2a-bdfb-a7b750351e3d",
   "metadata": {},
   "outputs": [
    {
     "name": "stderr",
     "output_type": "stream",
     "text": [
      "INFO:pyensembl.sequence_data:Loaded sequence dictionary from /home/ec2-user/.cache/pyensembl/GRCm39/ensembl104/Mus_musculus.GRCm39.cdna.all.fa.gz.pickle\n",
      "INFO:pyensembl.sequence_data:Loaded sequence dictionary from /home/ec2-user/.cache/pyensembl/GRCm39/ensembl104/Mus_musculus.GRCm39.ncrna.fa.gz.pickle\n",
      "INFO:pyensembl.sequence_data:Loaded sequence dictionary from /home/ec2-user/.cache/pyensembl/GRCm39/ensembl104/Mus_musculus.GRCm39.pep.all.fa.gz.pickle\n"
     ]
    },
    {
     "name": "stdout",
     "output_type": "stream",
     "text": [
      "total invalid 459, from 29617 1.549785596110342 %\n",
      "new data size (5040, 29617)\n"
     ]
    }
   ],
   "source": [
    "# import sys\n",
    "# sys.path.append(\"/home/ec2-user/SageMaker/functions\")\n",
    "# from preprocessing import *\n",
    "adata_orig = adata.copy()\n",
    "adata_foo = ensem_for_adata(adata) "
   ]
  },
  {
   "cell_type": "code",
   "execution_count": 90,
   "id": "18dfd6c9-3c9b-40e2-ace2-9106a3d979e6",
   "metadata": {},
   "outputs": [
    {
     "data": {
      "text/plain": [
       "Index(['Xkr4', 'Gm1992', 'Gm19938', 'Gm37381', 'Rp1', 'Sox17', 'Gm37587',\n",
       "       'Gm37323', 'Mrpl15', 'Lypla1', 'Tcea1', 'Rgs20', 'Gm16041', 'Atp6v1h',\n",
       "       'Oprk1', 'Npbwr1', 'Rb1cc1', '4732440D04Rik', 'Alkal1', 'St18',\n",
       "       'Pcmtd1', 'Gm26901', 'Gm30414', 'Sntg1', 'Rrs1', 'Adhfe1',\n",
       "       '2610203C22Rik', 'Vxn', 'Mybl1', 'Vcpip1', '1700034P13Rik', 'Sgk3',\n",
       "       'Mcmdc2', 'Snhg6', 'Tcf24', 'Ppp1r42', 'Gm15818', 'Cops5', 'Cspp1',\n",
       "       'Arfgef1', 'Cpa6', 'Prex2', 'A830018L16Rik', 'Gm17644', 'Gm29663',\n",
       "       'Sulf1', 'Slco5a1', 'Gm29283', 'Prdm14', 'Ncoa2', 'Gm29570', 'Tram1',\n",
       "       'Lactb2', 'Xkr9', 'Eya1', 'Gm9947', 'Msc', 'Trpa1', 'Kcnb2', 'Terf1',\n",
       "       'Sbspon', '4930444P10Rik', 'Rpl7', 'Rdh10', 'Gm28095', 'Stau2',\n",
       "       'Gm7568', 'Ube2w', 'Eloc', 'D030040B21Rik', 'Tmem70', 'Ly96', 'Gm28376',\n",
       "       'Jph1', 'Gm28783', 'Gdap1', 'Gm28784', 'Pi15', 'Gm28154', 'Gm16070',\n",
       "       'Crispld1', 'Gm28153', 'Gm28756', 'Crisp4', 'Defb41', 'Gm15825',\n",
       "       'Tfap2d', 'Tfap2b', 'Gm28340', 'Pkhd1', '4930486I03Rik', 'Gm28653',\n",
       "       'Il17f', 'Mcm3', 'Gm28065', '6720483E21Rik', 'Paqr8', 'Efhc1', 'Tram2',\n",
       "       'Gm28287'],\n",
       "      dtype='object')"
      ]
     },
     "execution_count": 90,
     "metadata": {},
     "output_type": "execute_result"
    }
   ],
   "source": [
    "adata_orig.var.index[:100]"
   ]
  },
  {
   "cell_type": "code",
   "execution_count": 91,
   "id": "911d0024-7241-4067-b24a-f96301ff4740",
   "metadata": {},
   "outputs": [
    {
     "data": {
      "text/plain": [
       "'Pkhd1 ENSEMBMUSZZZZ'"
      ]
     },
     "execution_count": 91,
     "metadata": {},
     "output_type": "execute_result"
    }
   ],
   "source": [
    "'Pkhd1 ENSEMBMUSZZZZ'"
   ]
  },
  {
   "cell_type": "code",
   "execution_count": 92,
   "id": "40f53104-3faa-451e-b9d5-3a2516fc0317",
   "metadata": {},
   "outputs": [],
   "source": [
    "adata = adata_foo.copy()"
   ]
  },
  {
   "cell_type": "code",
   "execution_count": 93,
   "id": "bba341f1-e3b5-4d85-bb84-94065e475ec3",
   "metadata": {},
   "outputs": [
    {
     "data": {
      "text/plain": [
       "Index(['vf_vst_counts_mean', 'vf_vst_counts_variance',\n",
       "       'vf_vst_counts_variance.expected',\n",
       "       'vf_vst_counts_variance.standardized', 'vf_vst_counts_variable',\n",
       "       'vf_vst_counts_rank', 'var.features', 'var.features.rank'],\n",
       "      dtype='object')"
      ]
     },
     "execution_count": 93,
     "metadata": {},
     "output_type": "execute_result"
    }
   ],
   "source": [
    "adata.var.keys()"
   ]
  },
  {
   "cell_type": "code",
   "execution_count": 94,
   "id": "6e8c4868-f70a-4df2-a9f3-f1e9ab098ce2",
   "metadata": {},
   "outputs": [],
   "source": [
    "adata.obs[ObsConstants.ASSAY_ONTOLOGY_TERM_ID] = pd.Categorical([assay for i in range(len(adata))])\n",
    "adata.obs[ObsConstants.SEX_ONTOLOGY_TERM_ID] = genderinfo\n",
    "adata.obs[ObsConstants.ORGANISM_ONTOLOGY_TERM_ID] = pd.Categorical([organism for i in range(len(adata))])\n",
    "adata.obs[ObsConstants.TISSUE_ONTOLOGY_TERM_ID] = pd.Categorical([tissue for i in range(len(adata))])\n",
    "adata.obs[ObsConstants.SUSPENSION_TYPE] = pd.Categorical([suspension_type for i in range(len(adata))])\n",
    "\n",
    "# NicheFormer data schema\n",
    "adata.obs[ObsConstants.CONDITION_ID] = pd.Categorical([condition_id for i in range(len(adata))])\n",
    "adata.obs[ObsConstants.DONOR_ID] = adata.obs['sample_id']\n",
    "adata.obs[ObsConstants.TISSUE_TYPE] = pd.Categorical([tissue_type for i in range(len(adata))])\n",
    "\n",
    "\n"
   ]
  },
  {
   "cell_type": "code",
   "execution_count": 95,
   "id": "5e203680-b4a2-4cd2-afe1-3f69ef136718",
   "metadata": {},
   "outputs": [
    {
     "name": "stdout",
     "output_type": "stream",
     "text": [
      "\n",
      "Performing basic quality control for this data.\n",
      "AnnData object before filtering has 5040 cells and 29617 genes.\n",
      "AnnData object after cell filtering: 5040 cells, 29617 genes.\n",
      "AnnData object after gene filtering: 5040 cells, 24669 genes.\n"
     ]
    }
   ],
   "source": [
    "adata.var[VarConstants.FEATURE_IS_FILTERED] = False\n",
    "\n",
    "# after concatenation these are dtype=object, but need to be category\n",
    "adata.obs[ObsConstants.CONDITION_ID] = adata.obs[ObsConstants.CONDITION_ID].astype('category')\n",
    "adata.obs[ObsConstants.DONOR_ID] = adata.obs[ObsConstants.DONOR_ID].astype('category')\n",
    "\n",
    "# run basic filtering with default values\n",
    "print(f\"\\nPerforming basic quality control for this data.\")\n",
    "adata = qc_filter(adata=adata)\n"
   ]
  },
  {
   "cell_type": "code",
   "execution_count": 96,
   "id": "25ac7930-67a1-4d07-9020-d81289c4b08d",
   "metadata": {},
   "outputs": [],
   "source": [
    "# adata = anndata.concat(adatas, index_unique='_')\n",
    "adata.uns[UnsConstants.TITLE] = 'foo'\n",
    "adata.var[VarConstants.FEATURE_IS_FILTERED] = False\n",
    "\n"
   ]
  },
  {
   "cell_type": "code",
   "execution_count": 97,
   "id": "c89f84b6-0f67-4043-9ab4-23d212b2535a",
   "metadata": {},
   "outputs": [
    {
     "name": "stderr",
     "output_type": "stream",
     "text": [
      "WARNING:cellxgene_schema.validate:WARNING: Found 326 invalid genes, subsetting anndata\n"
     ]
    },
    {
     "name": "stdout",
     "output_type": "stream",
     "text": [
      "\n",
      "Validating....\n"
     ]
    },
    {
     "name": "stderr",
     "output_type": "stream",
     "text": [
      "INFO:cellxgene_schema.validate:Starting validation...\n",
      "WARNING:cellxgene_schema.validate:WARNING: Only raw data was found, i.e. there is no 'raw.X'. It is STRONGLY RECOMMENDED that 'final' (normalized) data is provided.\n",
      "INFO:cellxgene_schema.validate:Validation complete in 0:00:03.254093 with status is_valid=True\n",
      "INFO:cellxgene_schema.validate:Writing labels\n",
      "INFO:cellxgene_schema.utils:enforce canonical format in X\n",
      "INFO:cellxgene_schema.validate:H5AD label writing complete in 0:01:22.043738\n"
     ]
    },
    {
     "name": "stdout",
     "output_type": "stream",
     "text": [
      "DONE: Successfully preprocessed this data, validation completed with status is_valid=True.\n",
      "\n",
      "WRITING PREPROCESSED FILE TO: LC_NE.h5ad\n"
     ]
    }
   ],
   "source": [
    "\n",
    "# run validator\n",
    "print(f\"\\nValidating....\")\n",
    "adata_output, valid, errors, is_seurat_convertible = validate(adata, organism=organism_validator)\n",
    "\n",
    "if valid:\n",
    "    print(f\"DONE: Successfully preprocessed this data, validation completed with status is_valid={valid}.\")\n",
    "    print(f\"\\nWRITING PREPROCESSED FILE TO: LC_NE.h5ad\")\n",
    "    adata_output.write(f\"{preprocessed_path}/LC_NE.h5ad\")\n",
    "else:\n",
    "    print(f\"ERROR: Preprocessing of yoru LC-NE failed, validation completed with status is_valid={valid}.\")"
   ]
  },
  {
   "cell_type": "code",
   "execution_count": null,
   "id": "33f9bb61-4dbf-4d17-a801-c0ebc6cd2abb",
   "metadata": {},
   "outputs": [],
   "source": []
  },
  {
   "cell_type": "code",
   "execution_count": 66,
   "id": "dd1994fb-93b9-41a3-8dcf-5652b76efda2",
   "metadata": {},
   "outputs": [
    {
     "data": {
      "text/plain": [
       "'mouse'"
      ]
     },
     "execution_count": 66,
     "metadata": {},
     "output_type": "execute_result"
    }
   ],
   "source": [
    "organism_validator"
   ]
  },
  {
   "cell_type": "code",
   "execution_count": 80,
   "id": "dedfb549-edec-4a2b-b51d-679c09574e5a",
   "metadata": {},
   "outputs": [
    {
     "data": {
      "text/plain": [
       "(24669,)"
      ]
     },
     "execution_count": 80,
     "metadata": {},
     "output_type": "execute_result"
    }
   ],
   "source": [
    "adata.var.index.shape"
   ]
  },
  {
   "cell_type": "code",
   "execution_count": 82,
   "id": "17918104-2979-41b7-880d-8591f2c2f449",
   "metadata": {},
   "outputs": [
    {
     "data": {
      "text/plain": [
       "(24653,)"
      ]
     },
     "execution_count": 82,
     "metadata": {},
     "output_type": "execute_result"
    }
   ],
   "source": [
    "np.unique(adata.var.index).shape"
   ]
  },
  {
   "cell_type": "code",
   "execution_count": null,
   "id": "dd13cd0c-890c-476d-bd9f-f55020123218",
   "metadata": {},
   "outputs": [],
   "source": []
  },
  {
   "cell_type": "code",
   "execution_count": null,
   "id": "285f350e-2942-4164-96f4-ae58d2ebfcee",
   "metadata": {},
   "outputs": [],
   "source": []
  },
  {
   "cell_type": "code",
   "execution_count": null,
   "id": "e014ba24-6c7f-4dfb-8fc8-c0be57f2a7ab",
   "metadata": {},
   "outputs": [],
   "source": [
    "\n",
    "adata.var.index.shape"
   ]
  },
  {
   "cell_type": "code",
   "execution_count": null,
   "id": "232ef116-8ab7-4e3a-9aae-39173c156d33",
   "metadata": {},
   "outputs": [],
   "source": []
  },
  {
   "cell_type": "code",
   "execution_count": null,
   "id": "69b94acb-3703-4a54-9f3e-0466f018ceb5",
   "metadata": {},
   "outputs": [],
   "source": []
  },
  {
   "cell_type": "code",
   "execution_count": null,
   "id": "f82566b0-fd95-4739-bead-a68e95219f26",
   "metadata": {},
   "outputs": [],
   "source": []
  },
  {
   "cell_type": "code",
   "execution_count": null,
   "id": "afe99aa2-b842-43f3-b29a-8c0c5566078d",
   "metadata": {},
   "outputs": [],
   "source": []
  },
  {
   "cell_type": "code",
   "execution_count": null,
   "id": "38a5cf3c-ce23-4b91-9ed1-7e2fea507b0d",
   "metadata": {},
   "outputs": [],
   "source": []
  },
  {
   "cell_type": "code",
   "execution_count": null,
   "id": "c8e88a99-9f48-42f2-8911-546c851eef0b",
   "metadata": {},
   "outputs": [],
   "source": []
  },
  {
   "cell_type": "code",
   "execution_count": null,
   "id": "7e2b074a-9287-40cf-b39e-59a493faf616",
   "metadata": {},
   "outputs": [],
   "source": []
  },
  {
   "cell_type": "code",
   "execution_count": null,
   "id": "ca493209-a98a-4eb5-a292-e46de069008a",
   "metadata": {},
   "outputs": [],
   "source": []
  },
  {
   "cell_type": "code",
   "execution_count": null,
   "id": "fc717f63-5588-495d-afda-8509d6b926fe",
   "metadata": {},
   "outputs": [],
   "source": []
  },
  {
   "cell_type": "code",
   "execution_count": null,
   "id": "14e1845b-8152-4d0b-9664-80d8eee0614f",
   "metadata": {},
   "outputs": [],
   "source": []
  },
  {
   "cell_type": "code",
   "execution_count": null,
   "id": "542dcd6b-76a3-4d87-84db-5cf112186bea",
   "metadata": {},
   "outputs": [],
   "source": []
  }
 ],
 "metadata": {
  "kernelspec": {
   "display_name": "conda_pytorch_p310",
   "language": "python",
   "name": "conda_pytorch_p310"
  },
  "language_info": {
   "codemirror_mode": {
    "name": "ipython",
    "version": 3
   },
   "file_extension": ".py",
   "mimetype": "text/x-python",
   "name": "python",
   "nbconvert_exporter": "python",
   "pygments_lexer": "ipython3",
   "version": "3.10.14"
  }
 },
 "nbformat": 4,
 "nbformat_minor": 5
}
