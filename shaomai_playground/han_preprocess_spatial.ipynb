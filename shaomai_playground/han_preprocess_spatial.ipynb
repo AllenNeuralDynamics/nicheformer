{
 "cells": [
  {
   "cell_type": "code",
   "execution_count": 14,
   "id": "13f1ed09-77c9-4788-beb0-6f2be76a33e8",
   "metadata": {},
   "outputs": [
    {
     "name": "stdout",
     "output_type": "stream",
     "text": [
      "The autoreload extension is already loaded. To reload it, use:\n",
      "  %reload_ext autoreload\n"
     ]
    }
   ],
   "source": [
    "%load_ext autoreload\n",
    "%autoreload 2"
   ]
  },
  {
   "cell_type": "code",
   "execution_count": 12,
   "id": "50afaca5-194d-46cf-8202-7f3f0f06f7ef",
   "metadata": {},
   "outputs": [],
   "source": [
    "from preprocess_our_merfish import read_adata, preprocess"
   ]
  },
  {
   "cell_type": "code",
   "execution_count": 16,
   "id": "a4304378-bf9a-460b-8a94-ec98ab1dff83",
   "metadata": {},
   "outputs": [
    {
     "name": "stderr",
     "output_type": "stream",
     "text": [
      "Loaded sequence dictionary from /home/ec2-user/.cache/pyensembl/GRCm39/ensembl104/Mus_musculus.GRCm39.cdna.all.fa.gz.pickle\n",
      "Loaded sequence dictionary from /home/ec2-user/.cache/pyensembl/GRCm39/ensembl104/Mus_musculus.GRCm39.ncrna.fa.gz.pickle\n",
      "Loaded sequence dictionary from /home/ec2-user/.cache/pyensembl/GRCm39/ensembl104/Mus_musculus.GRCm39.pep.all.fa.gz.pickle\n",
      "Starting validation...\n"
     ]
    },
    {
     "name": "stdout",
     "output_type": "stream",
     "text": [
      "total invalid 1, from 315 0.31746031746031744 %\n",
      "new data size (3227, 314)\n"
     ]
    },
    {
     "name": "stderr",
     "output_type": "stream",
     "text": [
      "WARNING: Sparsity of 'X' is 0.7072609885934561 which is greater than 0.5, and it is not a 'scipy.sparse.csr_matrix'. It is STRONGLY RECOMMENDED to use this type of matrix for the given sparsity.\n",
      "WARNING: Sparsity of 'raw.X' is 0.707859774423146 which is greater than 0.5, and it is not a 'scipy.sparse.csr_matrix'. It is STRONGLY RECOMMENDED to use this type of matrix for the given sparsity.\n",
      "WARNING: Dataframe 'var' only has 314 rows. Features SHOULD NOT be filtered from expression matrix.\n",
      "WARNING: Validation of raw layer was not performed due to current errors, try again after fixing current errors.\n",
      "ERROR: Could not infer organism from feature ID 'NA' in 'raw.var', make sure it is a valid ID.\n",
      "Validation complete in 0:00:00.503930 with status is_valid=False\n"
     ]
    }
   ],
   "source": [
    "adata = read_adata(file_path=\"./our_data_LC_NE/adata_mer.h5ad\")\n",
    "adata_output = preprocess(adata)"
   ]
  },
  {
   "cell_type": "code",
   "execution_count": null,
   "id": "e68af17e-9711-443f-9a59-10cb425b7b4f",
   "metadata": {},
   "outputs": [],
   "source": []
  },
  {
   "cell_type": "code",
   "execution_count": 1,
   "id": "7d9c76ae-e635-4523-bcde-3b2e76de4ed0",
   "metadata": {},
   "outputs": [],
   "source": [
    "import scanpy as sc\n",
    "import sys\n",
    "\n",
    "import os \n",
    "import sys\n",
    "import pandas as pd\n",
    "import scanpy as sc\n",
    "from scipy.sparse import csr_matrix\n",
    "\n",
    "from nicheformer.data.constants import DefaultPaths, ObsConstants, UnsConstants, VarConstants, AssayOntologyTermId, SexOntologyTermId, OrganismOntologyTermId, TissueOntologyTermId, SuspensionTypeId\n",
    "from nicheformer.data.validate import validate"
   ]
  },
  {
   "cell_type": "code",
   "execution_count": 2,
   "id": "e5331a63-58eb-4d85-8f5b-ff78f3094235",
   "metadata": {},
   "outputs": [],
   "source": [
    "from cellxgene_schema.ontology import GeneChecker, SupportedOrganisms\n",
    "from cellxgene_schema.utils import enforce_canonical_format\n",
    "from cellxgene_schema.validate import Validator as CellxgeneValidator\n",
    "from cellxgene_schema.validate import logger\n",
    "from cellxgene_schema.write_labels import AnnDataLabelAppender as CellxgeneAnnDataLabelAppender"
   ]
  },
  {
   "cell_type": "code",
   "execution_count": 3,
   "id": "da11cb39-ebd6-4f44-b4de-ca26a14c1670",
   "metadata": {},
   "outputs": [
    {
     "data": {
      "text/plain": [
       "'/home/ec2-user/SageMaker/test_data/spatial/'"
      ]
     },
     "execution_count": 3,
     "metadata": {},
     "output_type": "execute_result"
    }
   ],
   "source": [
    "DefaultPaths.SPATIAL"
   ]
  },
  {
   "cell_type": "code",
   "execution_count": 4,
   "id": "c33cb1e7-8498-4246-826d-0ae910e527e5",
   "metadata": {},
   "outputs": [
    {
     "name": "stderr",
     "output_type": "stream",
     "text": [
      "Starting validation...\n",
      "WARNING: Dataframe 'var' only has 392 rows. Features SHOULD NOT be filtered from expression matrix.\n",
      "WARNING: Only raw data was found, i.e. there is no 'raw.X'. It is STRONGLY RECOMMENDED that 'final' (normalized) data is provided.\n",
      "Validation complete in 0:00:17.381665 with status is_valid=True\n",
      "Writing labels\n",
      "enforce canonical format in X\n",
      "H5AD label writing complete in 0:00:00.221493\n"
     ]
    },
    {
     "name": "stdout",
     "output_type": "stream",
     "text": [
      "--- enforce_canonical_format ---\n"
     ]
    }
   ],
   "source": [
    "#if len(sys.argv)==1:\n",
    "path = DefaultPaths.SPATIAL\n",
    "#else:\n",
    "#    path = sys.argv[1]\n",
    "\n",
    "raw_path = f\"{path}\"\n",
    "preprocessed_path = f\"{path}/preprocessed\"\n",
    "\n",
    "if not os.path.exists(f\"{preprocessed_path}\"):\n",
    "    os.mkdir(f\"{preprocessed_path}\")\n",
    "\n",
    "adata = sc.read_10x_h5(f\"{raw_path}/Xenium_Preview_Human_Non_diseased_Lung_With_Add_on_FFPE_outs/cell_feature_matrix.h5\")\n",
    "\n",
    "adata.obs = pd.read_csv(\n",
    "    f\"{raw_path}/Xenium_Preview_Human_Non_diseased_Lung_With_Add_on_FFPE_outs/cells.csv.gz\", index_col=0\n",
    ")\n",
    "\n",
    "adata.var = adata.var.reset_index().rename(columns={'index': 'gene_name'}).set_index('gene_ids')\n",
    "adata.var.index.name = None\n",
    "\n",
    "# setting MERFISH for now until an official ontology term is released\n",
    "assay = str(AssayOntologyTermId.MERFISH_SPATIAL.value)\n",
    "sex = str(SexOntologyTermId.UNKNOWN.value)\n",
    "organism = str(OrganismOntologyTermId.HUMAN.value)\n",
    "organism_validator = \"human\"\n",
    "tissue = str(TissueOntologyTermId.LUNG.value)\n",
    "suspension_type = str(SuspensionTypeId.SPATIAL.value)\n",
    "tissue_type = \"tissue\"\n",
    "\n",
    "adata.X = csr_matrix(adata.X)\n",
    "adata.obs[ObsConstants.SPATIAL_X] = adata.obs['x_centroid']\n",
    "adata.obs[ObsConstants.SPATIAL_Y] = adata.obs['y_centroid']\n",
    "adata.obs[ObsConstants.ASSAY_ONTOLOGY_TERM_ID] = pd.Categorical([assay for i in range(len(adata))])\n",
    "adata.obs[ObsConstants.SEX_ONTOLOGY_TERM_ID] = pd.Categorical([sex for i in range(len(adata))])\n",
    "adata.obs[ObsConstants.ORGANISM_ONTOLOGY_TERM_ID] = pd.Categorical([organism for i in range(len(adata))])\n",
    "adata.obs[ObsConstants.TISSUE_ONTOLOGY_TERM_ID] = pd.Categorical([tissue for i in range(len(adata))])\n",
    "adata.obs[ObsConstants.SUSPENSION_TYPE] = pd.Categorical([suspension_type for i in range(len(adata))])\n",
    "\n",
    "adata.obs[ObsConstants.DONOR_ID] = pd.Categorical(['Xenium_Preview_Human_Non_diseased_Lung_With_Add_on_FFPE_outs' for i in range(len(adata))])\n",
    "adata.obs[ObsConstants.CONDITION_ID] = pd.Categorical(['non diseased' for i in range(len(adata))])\n",
    "adata.obs[ObsConstants.TISSUE_TYPE] = pd.Categorical([tissue_type for i in range(len(adata))])\n",
    "\n",
    "adata.uns[UnsConstants.TITLE] = \"Xenium_Preview_Human_Non_diseased_Lung_With_Add_on_FFPE_outs\"\n",
    "adata.var[VarConstants.FEATURE_IS_FILTERED] = False\n",
    "\n",
    "adata.obs[ObsConstants.LIBRARY_KEY] = pd.Categorical(['section' for i in range(len(adata))])\n",
    "\n",
    "adata_output, valid, errors, is_seurat_convertible = validate(adata, organism=organism_validator)\n"
   ]
  },
  {
   "cell_type": "code",
   "execution_count": 5,
   "id": "60c2e667-f6b5-4af7-be30-115ded5d6157",
   "metadata": {},
   "outputs": [
    {
     "name": "stderr",
     "output_type": "stream",
     "text": [
      "... storing 'dataset' as categorical\n",
      "... storing 'nicheformer_split' as categorical\n",
      "... storing 'niche' as categorical\n",
      "... storing 'region' as categorical\n",
      "... storing 'feature_types' as categorical\n",
      "... storing 'genome' as categorical\n"
     ]
    }
   ],
   "source": [
    "adata_output.obs['assay'] = pd.Categorical(['Xenium' for i in range(len(adata_output))])\n",
    "adata_output.obs[ObsConstants.ASSAY_ONTOLOGY_TERM_ID] = pd.Categorical(['no yet defined' for i in range(len(adata_output))])\n",
    "\n",
    "adata_output.obs[ObsConstants.DATASET] = adata_output.uns['title']\n",
    "adata_output.obs[ObsConstants.SPLIT] = 'train'\n",
    "adata_output.obs[ObsConstants.NICHE] = 'nan'\n",
    "adata_output.obs[ObsConstants.REGION] = 'nan'\n",
    "\n",
    "adata_output.write(f\"{preprocessed_path}/Xenium_Preview_Human_Non_diseased_Lung_With_Add_on_FFPE_outs.h5ad\")"
   ]
  },
  {
   "cell_type": "code",
   "execution_count": 6,
   "id": "b7a63de6-22ca-4339-b323-2dbb4ddbb9f5",
   "metadata": {},
   "outputs": [
    {
     "data": {
      "text/plain": [
       "66.0"
      ]
     },
     "execution_count": 6,
     "metadata": {},
     "output_type": "execute_result"
    }
   ],
   "source": [
    "adata.X.max()"
   ]
  },
  {
   "cell_type": "code",
   "execution_count": null,
   "id": "9cc28ab4-3300-4711-a789-05f550b9cdae",
   "metadata": {},
   "outputs": [],
   "source": []
  },
  {
   "cell_type": "code",
   "execution_count": 46,
   "id": "a6a7ac6f-45ea-4106-abe2-eef5072716b0",
   "metadata": {},
   "outputs": [
    {
     "name": "stderr",
     "output_type": "stream",
     "text": [
      "2025-02-22 00:08:32,688 [WARNING] host www.ensembl.org is not reachable, try useast.ensembl.org \n"
     ]
    }
   ],
   "source": [
    "from gseapy import Biomart\n",
    "bm = Biomart()"
   ]
  },
  {
   "cell_type": "code",
   "execution_count": 47,
   "id": "93e09bf7-186c-4af3-8ae8-f997f89c8fc3",
   "metadata": {},
   "outputs": [
    {
     "name": "stderr",
     "output_type": "stream",
     "text": [
      "2025-02-22 00:08:33,716 [WARNING] host www.ensembl.org is not reachable, try useast.ensembl.org \n"
     ]
    }
   ],
   "source": [
    "from gseapy import Biomart\n",
    "bm = Biomart()\n",
    "# note the dataset and attribute names are different\n",
    "m2h = bm.query(dataset='mmusculus_gene_ensembl',\n",
    "               attributes=['ensembl_gene_id','external_gene_name',\n",
    "                           'hsapiens_homolog_ensembl_gene',\n",
    "                           'hsapiens_homolog_associated_gene_name'])\n",
    "\n",
    "h2m = bm.query(dataset='hsapiens_gene_ensembl',\n",
    "               attributes=['ensembl_gene_id','external_gene_name',\n",
    "                           'mmusculus_homolog_ensembl_gene',\n",
    "                           'mmusculus_homolog_associated_gene_name'])"
   ]
  },
  {
   "cell_type": "code",
   "execution_count": 49,
   "id": "6b75f7b2-726b-4e7d-b162-750507f82568",
   "metadata": {},
   "outputs": [],
   "source": [
    "# note the dataset and attribute names are different\n",
    "m2h = bm.query(dataset='mmusculus_gene_ensembl',\n",
    "               attributes=['ensembl_gene_id',\n",
    "                           'hsapiens_homolog_ensembl_gene',\n",
    "                           ])\n",
    "m2h = m2h[m2h.hsapiens_homolog_ensembl_gene.notna()]"
   ]
  }
 ],
 "metadata": {
  "kernelspec": {
   "display_name": "conda_pytorch_p310",
   "language": "python",
   "name": "conda_pytorch_p310"
  },
  "language_info": {
   "codemirror_mode": {
    "name": "ipython",
    "version": 3
   },
   "file_extension": ".py",
   "mimetype": "text/x-python",
   "name": "python",
   "nbconvert_exporter": "python",
   "pygments_lexer": "ipython3",
   "version": "3.10.14"
  }
 },
 "nbformat": 4,
 "nbformat_minor": 5
}
